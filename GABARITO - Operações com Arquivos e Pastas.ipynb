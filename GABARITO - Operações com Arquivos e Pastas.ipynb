{
 "cells": [
  {
   "cell_type": "markdown",
   "id": "a89c014e",
   "metadata": {},
   "source": [
    "### Operações com arquivos e pastas\n",
    "####   ***** Tente fazer sozinho - consulte a documentação *****"
   ]
  },
  {
   "cell_type": "markdown",
   "id": "8061fbc9",
   "metadata": {},
   "source": [
    "#### Exercício 1:\n",
    "Crie um programa que liste todos os arquivos em um diretório específico usando os.listdir()"
   ]
  },
  {
   "cell_type": "code",
   "execution_count": 1,
   "id": "395f7952",
   "metadata": {},
   "outputs": [
    {
     "name": "stdout",
     "output_type": "stream",
     "text": [
      "arquivo1\n",
      "arquivo2\n",
      "arquivo3\n"
     ]
    }
   ],
   "source": [
    "import os\n",
    "\n",
    "diretorio = 'pasta/'\n",
    "\n",
    "for arquivo in os.listdir(diretorio):\n",
    "    if os.path.isfile(os.path.join(diretorio, arquivo)):\n",
    "        print(arquivo)\n"
   ]
  },
  {
   "cell_type": "markdown",
   "id": "1bbe7872",
   "metadata": {},
   "source": [
    "#### Exercício 2:\n",
    "Crie um programa que conte quantos arquivos há em um diretório específico usando os.listdir()\n"
   ]
  },
  {
   "cell_type": "code",
   "execution_count": 2,
   "id": "7abd8103",
   "metadata": {},
   "outputs": [
    {
     "name": "stdout",
     "output_type": "stream",
     "text": [
      "Número de arquivos: 3\n"
     ]
    }
   ],
   "source": [
    "import os\n",
    "\n",
    "diretorio = 'pasta/'\n",
    "contador = 0\n",
    "\n",
    "for arquivo in os.listdir(diretorio):\n",
    "    if os.path.isfile(os.path.join(diretorio, arquivo)):\n",
    "        contador += 1\n",
    "\n",
    "print(f'Número de arquivos: {contador}')\n"
   ]
  },
  {
   "cell_type": "markdown",
   "id": "6437f95e",
   "metadata": {},
   "source": [
    "#### Exercício 3:\n",
    "Escreva um programa que crie um novo diretório usando os.mkdir()"
   ]
  },
  {
   "cell_type": "code",
   "execution_count": 15,
   "id": "081429c9",
   "metadata": {},
   "outputs": [],
   "source": [
    "import os\n",
    "\n",
    "novo_diretorio = 'pasta2'\n",
    "\n",
    "os.mkdir(novo_diretorio)\n"
   ]
  },
  {
   "cell_type": "markdown",
   "id": "e1c4366e",
   "metadata": {},
   "source": [
    "#### Exercício 4:\n",
    "Crie um programa que verifique se um arquivo existe em um diretório usando os.path.exists()"
   ]
  },
  {
   "cell_type": "code",
   "execution_count": 13,
   "id": "25711148",
   "metadata": {},
   "outputs": [
    {
     "name": "stdout",
     "output_type": "stream",
     "text": [
      "O arquivo pasta/arquivo1 existe.\n"
     ]
    }
   ],
   "source": [
    "import os\n",
    "\n",
    "arquivo = 'pasta/arquivo1'\n",
    "\n",
    "if os.path.exists(arquivo):\n",
    "    print(f'O arquivo {arquivo} existe.')\n",
    "else:\n",
    "    print(f'O arquivo {arquivo} não existe.')\n"
   ]
  },
  {
   "cell_type": "markdown",
   "id": "9d9ac27f",
   "metadata": {},
   "source": [
    "#### Exercício 5:\n",
    "Crie um programa que leia o conteúdo de um arquivo e o imprima na tela usando open()"
   ]
  },
  {
   "cell_type": "code",
   "execution_count": 12,
   "id": "e819981e",
   "metadata": {},
   "outputs": [
    {
     "name": "stdout",
     "output_type": "stream",
     "text": [
      "Lorem ipsum dolor sit amet, consectetur adipisicing elit. A, molestiae minus sed voluptate cupiditate consequuntur rem voluptatibus incidunt. Atque, alias. Voluptatibus dolorem architecto iusto aperiam, autem consectetur eveniet repellendus sed!\n",
      "Soluta, quibusdam. Harum quasi impedit iure temporibus, beatae rerum. Sequi, quia nesciunt aspernatur maxime consequatur perspiciatis eos sint dolore, atque, similique nostrum amet maiores a ullam minima corporis necessitatibus eveniet!\n",
      "Cumque voluptatum libero, incidunt ad, sint vitae tempora necessitatibus beatae vero, ducimus vel sit quis. Commodi quaerat omnis incidunt reiciendis? Vero provident eum expedita, officia repellendus nam recusandae exercitationem adipisci.\n",
      "Nulla possimus consectetur nihil cum ullam, quod ipsa! Doloribus quam provident quod asperiores, consequatur, veritatis corporis velit amet assumenda illum officiis molestiae, dolores esse aliquam inventore aperiam! Provident, iure adipisci.\n",
      "Placeat, enim sit officiis aliquam quam deserunt magni eum non modi, natus ut corrupti incidunt excepturi doloribus cumque ratione. Culpa qui tenetur optio labore dolore, id ipsam mollitia corporis necessitatibus.\n",
      "\n",
      "\n"
     ]
    }
   ],
   "source": [
    "arquivo = 'pasta/arquivo1'\n",
    "\n",
    "with open(arquivo, 'r') as f:\n",
    "    conteudo = f.read()\n",
    "    print(conteudo)\n"
   ]
  },
  {
   "cell_type": "markdown",
   "id": "c095d915",
   "metadata": {},
   "source": [
    "#### Exercício 6:\n",
    "Crie um programa que escreva uma lista de strings em um arquivo de texto usando open()"
   ]
  },
  {
   "cell_type": "code",
   "execution_count": 14,
   "id": "b178c99c",
   "metadata": {},
   "outputs": [],
   "source": [
    "arquivo = 'pasta/arquivo2'\n",
    "lista_de_strings = ['Linha 1', 'Linha 2', 'Linha 3']\n",
    "\n",
    "with open(arquivo, 'w') as f:\n",
    "    for linha in lista_de_strings:\n",
    "        f.write(linha + '\\n')\n"
   ]
  },
  {
   "cell_type": "markdown",
   "id": "7749d986",
   "metadata": {},
   "source": [
    "#### Exercício 7:\n",
    "Crie um programa que copie um arquivo de um diretório para outro usando shutil.copy()"
   ]
  },
  {
   "cell_type": "code",
   "execution_count": 16,
   "id": "425a77f2",
   "metadata": {},
   "outputs": [
    {
     "data": {
      "text/plain": [
       "'pasta2/arquivo3'"
      ]
     },
     "execution_count": 16,
     "metadata": {},
     "output_type": "execute_result"
    }
   ],
   "source": [
    "import shutil\n",
    "\n",
    "origem = 'pasta/arquivo3'\n",
    "destino = 'pasta2/arquivo3'\n",
    "\n",
    "shutil.copy(origem, destino)\n",
    "\n"
   ]
  },
  {
   "cell_type": "markdown",
   "id": "04b7c9b8",
   "metadata": {},
   "source": [
    "#### Exercício 8:\n",
    "Crie um programa que renomeie um arquivo usando os.rename()"
   ]
  },
  {
   "cell_type": "code",
   "execution_count": 18,
   "id": "a8556dc9",
   "metadata": {},
   "outputs": [],
   "source": [
    "import os\n",
    "\n",
    "arquivo_antigo = 'pasta/arquivo4'\n",
    "arquivo_novo = 'pasta/arquivo3'\n",
    "\n",
    "os.rename(arquivo_antigo, arquivo_novo)\n"
   ]
  },
  {
   "cell_type": "markdown",
   "id": "f1ac315b",
   "metadata": {},
   "source": [
    "#### Exercício 9:\n",
    "Crie um programa que exclua um arquivo usando os.remove()"
   ]
  },
  {
   "cell_type": "code",
   "execution_count": 20,
   "id": "eb500640",
   "metadata": {},
   "outputs": [
    {
     "name": "stdout",
     "output_type": "stream",
     "text": [
      "O arquivo pasta2/arquivo3 foi excluído.\n"
     ]
    }
   ],
   "source": [
    "import os\n",
    "\n",
    "arquivo = 'pasta2/arquivo3'\n",
    "\n",
    "if os.path.exists(arquivo):\n",
    "    os.remove(arquivo)\n",
    "    print(f'O arquivo {arquivo} foi excluído.')\n",
    "else:\n",
    "    print(f'O arquivo {arquivo} não existe.')\n"
   ]
  },
  {
   "cell_type": "markdown",
   "id": "ddd5ab54",
   "metadata": {},
   "source": [
    "#### Exercício 10:\n",
    "Crie um programa que exclua um diretório e todo o seu conteúdo usando a biblioteca pathlib com o método rmdir()"
   ]
  },
  {
   "cell_type": "code",
   "execution_count": 22,
   "id": "1163f5d7",
   "metadata": {},
   "outputs": [],
   "source": [
    "from pathlib import Path\n",
    "\n",
    "diretorio_a_excluir = Path('pasta2')\n",
    "diretorio_a_excluir.rmdir()\n"
   ]
  },
  {
   "cell_type": "markdown",
   "id": "a48e9da9",
   "metadata": {},
   "source": [
    "#### Exercício 11:\n",
    "Crie um programa que liste todos os arquivos em um diretório específico usando a biblioteca pathlib com o método iterdir()"
   ]
  },
  {
   "cell_type": "code",
   "execution_count": 23,
   "id": "d563b8f0",
   "metadata": {},
   "outputs": [
    {
     "name": "stdout",
     "output_type": "stream",
     "text": [
      "arquivo1\n",
      "arquivo2\n",
      "arquivo3\n"
     ]
    }
   ],
   "source": [
    "from pathlib import Path\n",
    "\n",
    "diretorio = Path('pasta')\n",
    "\n",
    "for arquivo in diretorio.iterdir():\n",
    "    if arquivo.is_file():\n",
    "        print(arquivo.name)\n"
   ]
  }
 ],
 "metadata": {
  "kernelspec": {
   "display_name": "Python 3 (ipykernel)",
   "language": "python",
   "name": "python3"
  },
  "language_info": {
   "codemirror_mode": {
    "name": "ipython",
    "version": 3
   },
   "file_extension": ".py",
   "mimetype": "text/x-python",
   "name": "python",
   "nbconvert_exporter": "python",
   "pygments_lexer": "ipython3",
   "version": "3.11.3"
  }
 },
 "nbformat": 4,
 "nbformat_minor": 5
}
