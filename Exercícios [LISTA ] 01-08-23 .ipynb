{
 "cells": [
  {
   "cell_type": "markdown",
   "id": "c68d6f8e",
   "metadata": {
    "id": "c68d6f8e"
   },
   "source": [
    "# Exercícios - Testando Conhecimentos Aprendidos em Aula\n",
    "\n",
    "### Neste conjunto de exercícios, você será desafiado a aplicar os conceitos aprendidos sobre listas em Python. Os exercícios abrangem operações como criação de listas, remoção de elementos, adição de itens, índices, uso de list comprehensions e muito mais. Siga as instruções de cada exercício e tente resolver utilizando apenas o código dentro do script."
   ]
  },
  {
   "cell_type": "markdown",
   "id": "69d0f7dc",
   "metadata": {
    "id": "69d0f7dc"
   },
   "source": [
    "##"
   ]
  },
  {
   "cell_type": "markdown",
   "id": "ec501626",
   "metadata": {
    "id": "ec501626"
   },
   "source": [
    "### 1 - Crie uma lista contendo os nomes de 5 países. Peça ao usuário para inserir o nome de mais um país. Em seguida, verifique se o país fornecido pelo usuário está na lista e exiba uma mensagem informando se ele está ou não na lista."
   ]
  },
  {
   "cell_type": "code",
   "execution_count": 16,
   "id": "db57457f",
   "metadata": {
    "id": "db57457f"
   },
   "outputs": [
    {
     "name": "stdout",
     "output_type": "stream",
     "text": [
      "Digite um país:japan\n",
      "País não existe dentro da lista. Tente novamente:jaopao\n",
      "País não existe dentro da lista. Tente novamente:china\n",
      "O país que digitou está na lista. É CHINA e está em 3 na lista.\n"
     ]
    }
   ],
   "source": [
    "countries = ['BRASIL', 'PORTUGAL', 'INDIA', 'CHINA', 'ITALIA']\n",
    "userInput = input('Digite um país:')\n",
    "\n",
    "while userInput.upper() not in [country.upper() for country in countries]:\n",
    "    userInput = input('País não existe dentro da lista. Tente novamente:')\n",
    "    \n",
    "print('O país que digitou está na lista. É {} e está em {} na lista.'.format(userInput.upper(), countries.index(userInput.upper())))\n"
   ]
  },
  {
   "cell_type": "markdown",
   "id": "979aeae5",
   "metadata": {
    "id": "979aeae5"
   },
   "source": [
    "### 2 - Crie uma lista contendo os preços de 5 produtos. Em seguida, calcule e exiba o preço médio desses produtos."
   ]
  },
  {
   "cell_type": "code",
   "execution_count": 26,
   "id": "2748950b",
   "metadata": {
    "id": "2748950b"
   },
   "outputs": [
    {
     "name": "stdout",
     "output_type": "stream",
     "text": [
      "[['Maçã', 5.0], ['Dolly', 12.0], ['Morango', 6.0], ['Macarrão', 5.0], ['Manteiga', 4.0]]\n",
      "6.4\n"
     ]
    }
   ],
   "source": [
    "produtos = [['Maçã', 5.00], ['Dolly', 12.00], ['Morango', 6.00], ['Macarrão', 5.00], ['Manteiga', 4.00]]\n",
    "precoMedio = sum(produto[1] for produto in produtos) / len(produtos)\n",
    "print(produtos)\n",
    "print(precoMedio)"
   ]
  },
  {
   "cell_type": "markdown",
   "id": "504c48df",
   "metadata": {
    "id": "504c48df"
   },
   "source": [
    "  ### 3 - Crie uma lista com 5 cores diferentes. Peça ao usuário para inserir o nome de uma cor. Se a cor estiver na lista, remova-a e exiba a lista atualizada. Caso contrário, exiba uma mensagem informando que a cor não foi encontrada."
   ]
  },
  {
   "cell_type": "code",
   "execution_count": 31,
   "id": "f2681580",
   "metadata": {
    "id": "f2681580"
   },
   "outputs": [
    {
     "name": "stdout",
     "output_type": "stream",
     "text": [
      "['azul', 'vermelho', 'laranja', 'preto', 'roxo']\n",
      "Digite uma das cores:urso\n",
      "Cor não existe dentro da lista. Tente novamente:oragen\n",
      "Cor não existe dentro da lista. Tente novamente:aranja\n",
      "Cor não existe dentro da lista. Tente novamente:laranja\n",
      "['azul', 'vermelho', 'preto', 'roxo']\n"
     ]
    }
   ],
   "source": [
    "cores = ['azul', 'vermelho', 'laranja', 'preto', 'roxo']\n",
    "print(cores)\n",
    "\n",
    "userInput = input('Digite uma das cores:')\n",
    "\n",
    "while userInput not in [cor for cor in cores]:\n",
    "    userInput = input('Cor não existe dentro da lista. Tente novamente:')\n",
    "    \n",
    "cores.remove(userInput)\n",
    "print(cores)\n"
   ]
  },
  {
   "cell_type": "markdown",
   "id": "536d487d",
   "metadata": {
    "id": "536d487d"
   },
   "source": [
    "### 4 - Escreva um programa que leia duas listas de números do usuário e verifique se elas têm o mesmo comprimento e se possuem elementos iguais nas mesmas posições. Exiba uma mensagem informando se as listas são iguais ou diferentes."
   ]
  },
  {
   "cell_type": "code",
   "execution_count": 35,
   "id": "612d02de",
   "metadata": {
    "id": "612d02de"
   },
   "outputs": [
    {
     "name": "stdout",
     "output_type": "stream",
     "text": [
      "Listas com o mesmo tamanho\n"
     ]
    }
   ],
   "source": [
    "lista1 = [6, 8, 10, 12, 14]\n",
    "lista2 = [8, 10, 10, 12, 14]\n",
    "\n",
    "if lista1 == lista2:\n",
    "    print('Listas iguais')\n",
    "elif len(lista1) == len(lista2):\n",
    "    print('Listas com o mesmo tamanho')\n",
    "else:\n",
    "    print('Listas diferentes')"
   ]
  },
  {
   "cell_type": "markdown",
   "id": "462e7a14",
   "metadata": {
    "id": "462e7a14"
   },
   "source": [
    "### 5 - Crie uma lista contendo 10 números. Em seguida, solicite ao usuário que insira um número. Verifique se o número fornecido pelo usuário está na lista e, se estiver, exiba em quantas posições ele aparece."
   ]
  },
  {
   "cell_type": "code",
   "execution_count": 40,
   "id": "4faa687c",
   "metadata": {
    "id": "4faa687c"
   },
   "outputs": [
    {
     "name": "stdout",
     "output_type": "stream",
     "text": [
      "Digite um número:50\n",
      "Número não está na lista.\n"
     ]
    }
   ],
   "source": [
    "lista = [11, 20, 38, 4, 45, 68, 77, 38, 79, 1050]\n",
    "\n",
    "userInput = int(input('Digite um número:'))\n",
    "\n",
    "if userInput in [list for list in lista]:\n",
    "    print('Número está na lista. Ele está na posição {} e aparece {} vezes'.format(lista.index(userInput), lista.count(userInput)))\n",
    "else:\n",
    "    print('Número não está na lista.')"
   ]
  },
  {
   "cell_type": "markdown",
   "id": "dcf80a5a",
   "metadata": {
    "id": "dcf80a5a"
   },
   "source": [
    "### 6 - Escreva uma função que recebe uma palavra e verifica se é um palíndromo, ou seja, se a palavra é igual quando lida de trás para frente."
   ]
  },
  {
   "cell_type": "code",
   "execution_count": 60,
   "id": "8855c87e",
   "metadata": {
    "id": "8855c87e"
   },
   "outputs": [
    {
     "name": "stdout",
     "output_type": "stream",
     "text": [
      "Digite uma palavra:celular\n",
      "não é palindromo\n"
     ]
    }
   ],
   "source": [
    "userInput = input('Digite uma palavra:')\n",
    "palavra = userInput.lower().strip().replace(' ','')\n",
    "\n",
    "if palavra == palavra[::-1]:\n",
    "    print('Palindromo')\n",
    "else:\n",
    "    print('não é palindromo')"
   ]
  },
  {
   "cell_type": "markdown",
   "id": "7a0ff2fc",
   "metadata": {
    "id": "7a0ff2fc"
   },
   "source": [
    "### 7 - Escreva uma função que recebe duas listas e retorna uma nova lista que é a concatenação das duas."
   ]
  },
  {
   "cell_type": "code",
   "execution_count": 70,
   "id": "3ce93eaf",
   "metadata": {
    "id": "3ce93eaf"
   },
   "outputs": [
    {
     "name": "stdout",
     "output_type": "stream",
     "text": [
      "['s', 'abc', 'def', 1, 2, 3, 4]\n"
     ]
    }
   ],
   "source": [
    "teste1 = ['s', 'abc', 'def']\n",
    "teste2 = [1, 2, 3, 4]\n",
    "\n",
    "teste3 = teste1 + teste2\n",
    "print(teste3)"
   ]
  },
  {
   "cell_type": "markdown",
   "id": "1616e8c8",
   "metadata": {
    "id": "1616e8c8"
   },
   "source": [
    "### 8 - Escreva uma função que recebe uma lista e dois índices e troca os elementos presentes nos índices fornecidos."
   ]
  },
  {
   "cell_type": "code",
   "execution_count": null,
   "id": "afa9e00a",
   "metadata": {
    "id": "afa9e00a"
   },
   "outputs": [],
   "source": []
  },
  {
   "cell_type": "markdown",
   "id": "d77bef5e",
   "metadata": {
    "id": "d77bef5e"
   },
   "source": [
    "### 9 - Escreva uma função que recebe uma lista e retorna uma nova lista com os elementos invertidos na ordem."
   ]
  },
  {
   "cell_type": "code",
   "execution_count": null,
   "id": "44da2eb8",
   "metadata": {
    "id": "44da2eb8"
   },
   "outputs": [],
   "source": []
  },
  {
   "cell_type": "markdown",
   "id": "a840c743",
   "metadata": {
    "id": "a840c743"
   },
   "source": [
    "### 10 - Escreva uma função que recebe uma lista de palavras e retorna uma nova lista contendo apenas as palavras únicas, ou seja, palavras que aparecem apenas uma vez na lista."
   ]
  },
  {
   "cell_type": "code",
   "execution_count": 73,
   "id": "0924cdcc",
   "metadata": {
    "id": "0924cdcc"
   },
   "outputs": [
    {
     "name": "stdout",
     "output_type": "stream",
     "text": [
      "[1, 2, 3, 's', 4, 'abc', 'def']\n"
     ]
    }
   ],
   "source": [
    "teste1 = ['s', 'abc', 'def', 4, 3]\n",
    "teste2 = [1, 2, 3, 4]\n",
    "\n",
    "tirarDuplicado = set(teste1 + teste2)\n",
    "teste3 = list(tirarDuplicado)\n",
    "print(teste3)"
   ]
  }
 ],
 "metadata": {
  "colab": {
   "provenance": []
  },
  "kernelspec": {
   "display_name": "Python 3 (ipykernel)",
   "language": "python",
   "name": "python3"
  },
  "language_info": {
   "codemirror_mode": {
    "name": "ipython",
    "version": 3
   },
   "file_extension": ".py",
   "mimetype": "text/x-python",
   "name": "python",
   "nbconvert_exporter": "python",
   "pygments_lexer": "ipython3",
   "version": "3.11.3"
  }
 },
 "nbformat": 4,
 "nbformat_minor": 5
}
