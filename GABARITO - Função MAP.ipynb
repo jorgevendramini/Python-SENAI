{
 "cells": [
  {
   "cell_type": "markdown",
   "id": "a89c014e",
   "metadata": {},
   "source": [
    "### Exercícios de função MAP\n",
    "####   ***** Tente fazer sozinho antes de consultar  *****"
   ]
  },
  {
   "cell_type": "markdown",
   "id": "8061fbc9",
   "metadata": {},
   "source": [
    "#### Exercício 1:\n",
    "Escreva um programa que receba uma lista de números como entrada e use a função map para elevar todos os números ao quadrado. Em seguida, imprima a lista resultante."
   ]
  },
  {
   "cell_type": "code",
   "execution_count": null,
   "id": "395f7952",
   "metadata": {},
   "outputs": [],
   "source": [
    "# Função para elevar ao quadrado\n",
    "def quadrado(num):\n",
    "    return num ** 2\n",
    "\n",
    "# Lista de entrada\n",
    "numeros = [1, 2, 3, 4, 5]\n",
    "\n",
    "# Usando a função map para elevar ao quadrado\n",
    "resultado = list(map(quadrado, numeros))\n",
    "print(\"Lista de números ao quadrado:\", resultado)\n"
   ]
  },
  {
   "cell_type": "markdown",
   "id": "1bbe7872",
   "metadata": {},
   "source": [
    "#### Exercício 2:\n",
    "Exercício 2:\n",
    "Crie uma função dobro que receba uma lista de números como entrada e use a função map para dobrar cada número na lista. Em seguida, imprima a lista resultante.\n"
   ]
  },
  {
   "cell_type": "code",
   "execution_count": null,
   "id": "7abd8103",
   "metadata": {},
   "outputs": [],
   "source": [
    "# Função para dobrar\n",
    "def dobro(num):\n",
    "    return num * 2\n",
    "\n",
    "# Lista de entrada\n",
    "numeros = [1, 2, 3, 4, 5]\n",
    "\n",
    "# Usando a função map para dobrar\n",
    "resultado = list(map(dobro, numeros))\n",
    "print(\"Lista de números dobrados:\", resultado)\n",
    "\n"
   ]
  },
  {
   "cell_type": "markdown",
   "id": "6437f95e",
   "metadata": {},
   "source": [
    "#### Exercício 3:\n",
    "\n",
    "Escreva um programa que receba uma lista de nomes como entrada e use a função map para adicionar a string \"Sr. \" antes de cada nome. Em seguida, imprima a lista resultante."
   ]
  },
  {
   "cell_type": "code",
   "execution_count": null,
   "id": "aa73c6e5",
   "metadata": {},
   "outputs": [],
   "source": [
    "# Função para adicionar \"Sr.\"\n",
    "def adicionar_sr(nome):\n",
    "    return \"Sr. \" + nome\n",
    "\n",
    "# Lista de entrada\n",
    "nomes = [\"João\", \"Maria\", \"Carlos\"]\n",
    "\n",
    "# Usando a função map para adicionar \"Sr.\"\n",
    "resultado = list(map(adicionar_sr, nomes))\n",
    "print(\"Lista de nomes com 'Sr.':\", resultado)\n"
   ]
  },
  {
   "cell_type": "markdown",
   "id": "d7cab78a",
   "metadata": {},
   "source": [
    "#### Exercício 4:\n",
    "Crie uma função calcular_area que receba uma lista de raios de círculos como entrada e use a função map para calcular a área de cada círculo. A área de um círculo é dada por π * raio^2. Em seguida, imprima a lista de áreas.\n",
    "\n",
    "\n"
   ]
  },
  {
   "cell_type": "code",
   "execution_count": null,
   "id": "bb3dc045",
   "metadata": {},
   "outputs": [],
   "source": [
    "import math\n",
    "\n",
    "# Função para calcular a área do círculo\n",
    "def calcular_area(raio):\n",
    "    return math.pi * raio ** 2\n",
    "\n",
    "# Lista de entrada\n",
    "raios = [1.0, 2.0, 3.0, 4.0, 5.0]\n",
    "\n",
    "# Usando a função map para calcular a área\n",
    "resultado = list(map(calcular_area, raios))\n",
    "print(\"Lista de áreas de círculos:\", resultado)\n"
   ]
  },
  {
   "cell_type": "markdown",
   "id": "fddb0bb5",
   "metadata": {},
   "source": [
    "#### Exercício 5:\n",
    "Escreva um programa que receba uma lista de frases como entrada e use a função map para contar o número de palavras em cada frase. Em seguida, imprima a lista de contagens de palavras."
   ]
  },
  {
   "cell_type": "code",
   "execution_count": null,
   "id": "2b7f8730",
   "metadata": {},
   "outputs": [],
   "source": [
    "# Função para contar palavras em uma frase\n",
    "def contar_palavras(frase):\n",
    "    palavras = frase.split()\n",
    "    return len(palavras)\n",
    "\n",
    "# Lista de entrada\n",
    "frases = [\"Python é uma linguagem poderosa\", \"Map é útil em Python\", \"Vamos praticar programação\"]\n",
    "\n",
    "# Usando a função map para contar palavras\n",
    "resultado = list(map(contar_palavras, frases))\n",
    "print(\"Lista de contagens de palavras:\", resultado)"
   ]
  }
 ],
 "metadata": {
  "kernelspec": {
   "display_name": "Python 3 (ipykernel)",
   "language": "python",
   "name": "python3"
  },
  "language_info": {
   "codemirror_mode": {
    "name": "ipython",
    "version": 3
   },
   "file_extension": ".py",
   "mimetype": "text/x-python",
   "name": "python",
   "nbconvert_exporter": "python",
   "pygments_lexer": "ipython3",
   "version": "3.11.3"
  }
 },
 "nbformat": 4,
 "nbformat_minor": 5
}
