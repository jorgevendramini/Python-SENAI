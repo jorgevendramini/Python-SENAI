{
 "cells": [
  {
   "cell_type": "markdown",
   "id": "38f9fcc2",
   "metadata": {},
   "source": [
    "### Exercícios de função MAP\n",
    "####   ***** Tente fazer sozinho antes de consultar  *****"
   ]
  },
  {
   "cell_type": "markdown",
   "id": "6266b0e9",
   "metadata": {},
   "source": [
    "#### Exercício 1:\n",
    "Escreva um programa que receba uma lista de números como entrada e use a função map para elevar todos os números ao quadrado. Em seguida, imprima a lista resultante."
   ]
  },
  {
   "cell_type": "code",
   "execution_count": 6,
   "id": "16142264",
   "metadata": {},
   "outputs": [
    {
     "name": "stdout",
     "output_type": "stream",
     "text": [
      "[4, 16, 25, 100, 144]\n"
     ]
    }
   ],
   "source": [
    "numbers = [2, 4, 5, 10, 12]\n",
    "\n",
    "def ao_quadrado(x):\n",
    "    return x**2\n",
    "\n",
    "number_ao_quadrado = list(map(ao_quadrado, numbers))\n",
    "print(number_ao_quadrado)"
   ]
  },
  {
   "cell_type": "markdown",
   "id": "78c82313",
   "metadata": {},
   "source": [
    "#### Exercício 2:\n",
    "Exercício 2:\n",
    "Crie uma função dobro que receba uma lista de números como entrada e use a função map para dobrar cada número na lista. Em seguida, imprima a lista resultante.\n"
   ]
  },
  {
   "cell_type": "code",
   "execution_count": 16,
   "id": "233c71f5",
   "metadata": {},
   "outputs": [
    {
     "name": "stdout",
     "output_type": "stream",
     "text": [
      "[[2, 2], [4, 4], [5, 5], [10, 10], [12, 12]]\n"
     ]
    }
   ],
   "source": [
    "numbers = [2, 4, 5, 10, 12]\n",
    "\n",
    "def dobro(x):\n",
    "    return [x,x]\n",
    "\n",
    "number_dobrado = list(map(dobro, numbers))\n",
    "\n",
    "print(number_dobrado)\n"
   ]
  },
  {
   "cell_type": "markdown",
   "id": "f9a92dda",
   "metadata": {},
   "source": [
    "#### Exercício 3:\n",
    "\n",
    "Escreva um programa que receba uma lista de nomes como entrada e use a função map para adicionar a string \"Sr. \" antes de cada nome. Em seguida, imprima a lista resultante."
   ]
  },
  {
   "cell_type": "code",
   "execution_count": 44,
   "id": "55f2432d",
   "metadata": {},
   "outputs": [
    {
     "name": "stdout",
     "output_type": "stream",
     "text": [
      "Sr.2\n",
      "Sr.4\n",
      "Sr.5\n",
      "Sr.10\n",
      "Sr.12\n",
      "[None, None, None, None, None]\n"
     ]
    }
   ],
   "source": [
    "numbers = [2, 4, 5, 10, 12]\n",
    "\n",
    "def sr_add(x):\n",
    "    if int(x) == x:\n",
    "        return print(f'Sr.{x}')\n",
    "\n",
    "sr_number = list(map(sr_add,numbers))\n",
    "\n",
    "print(str(sr_number))\n"
   ]
  },
  {
   "cell_type": "markdown",
   "id": "e2205602",
   "metadata": {},
   "source": [
    "#### Exercício 4:\n",
    "Crie uma função calcular_area que receba uma lista de raios de círculos como entrada e use a função map para calcular a área de cada círculo. A área de um círculo é dada por π * raio^2. Em seguida, imprima a lista de áreas.\n",
    "\n",
    "\n"
   ]
  },
  {
   "cell_type": "code",
   "execution_count": 53,
   "id": "42165b19",
   "metadata": {},
   "outputs": [
    {
     "name": "stdout",
     "output_type": "stream",
     "text": [
      "[13, 51, 79, 315, 453]\n"
     ]
    }
   ],
   "source": [
    "import math\n",
    "\n",
    "numbers = [2, 4, 5, 10, 12]\n",
    "\n",
    "def calc_area_circ(x):\n",
    "    return math.ceil(math.pi * x**2)\n",
    "\n",
    "area_circulo = list(map(calc_area_circ, numbers))\n",
    "\n",
    "print(area_circulo)"
   ]
  },
  {
   "cell_type": "markdown",
   "id": "a6330d4e",
   "metadata": {},
   "source": [
    "#### Exercício 5:\n",
    "Escreva um programa que receba uma lista de frases como entrada e use a função map para contar o número de palavras em cada frase. Em seguida, imprima a lista de contagens de palavras."
   ]
  },
  {
   "cell_type": "code",
   "execution_count": 66,
   "id": "83b02275",
   "metadata": {},
   "outputs": [
    {
     "name": "stdin",
     "output_type": "stream",
     "text": [
      "Agora digite vários nomes de arquivos: (Digite stop para parar) a arara é majestosa\n",
      "Agora digite vários nomes de arquivos: (Digite stop para parar) o avestruz é grande\n",
      "Agora digite vários nomes de arquivos: (Digite stop para parar) A ave é incrível e majestosa e grande\n",
      "Agora digite vários nomes de arquivos: (Digite stop para parar) stop\n"
     ]
    },
    {
     "name": "stdout",
     "output_type": "stream",
     "text": [
      "{'a': 2, 'arara': 1, 'é': 3, 'majestosa': 2, 'o': 1, 'avestruz': 1, 'grande': 2, 'ave': 1, 'incrível': 1, 'e': 2}\n"
     ]
    }
   ],
   "source": [
    "from collections import Counter\n",
    "\n",
    "arquivo2 = []\n",
    "user_input = '0'\n",
    "\n",
    "#palavras diferentes\n",
    "while user_input != 'stop':\n",
    "    user_input = input(\"Agora digite vários nomes de arquivos: (Digite stop para parar)\")\n",
    "    if user_input == 'stop':\n",
    "        break\n",
    "    arquivo2.append(user_input)\n",
    "\n",
    "def contador(string_aqui):\n",
    "    todo_texto = ' '.join(string_aqui)\n",
    "    palavras = todo_texto.split()\n",
    "    c = Counter(map(str.lower,palavras))\n",
    "    print(dict(c))\n",
    "\n",
    "contador(arquivo2)"
   ]
  }
 ],
 "metadata": {
  "kernelspec": {
   "display_name": "Python 3 (ipykernel)",
   "language": "python",
   "name": "python3"
  },
  "language_info": {
   "codemirror_mode": {
    "name": "ipython",
    "version": 3
   },
   "file_extension": ".py",
   "mimetype": "text/x-python",
   "name": "python",
   "nbconvert_exporter": "python",
   "pygments_lexer": "ipython3",
   "version": "3.11.3"
  }
 },
 "nbformat": 4,
 "nbformat_minor": 5
}
