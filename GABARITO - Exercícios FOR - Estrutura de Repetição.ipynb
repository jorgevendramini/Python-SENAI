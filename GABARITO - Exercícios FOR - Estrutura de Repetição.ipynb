{
 "cells": [
  {
   "cell_type": "markdown",
   "id": "2bc242d9",
   "metadata": {},
   "source": [
    "# Lista de Exercícios \n",
    "\n",
    "## Estrutura de Repetições \n",
    "\n",
    "\n",
    "# \n",
    "\n",
    "#\n"
   ]
  },
  {
   "cell_type": "markdown",
   "id": "00c6fc4f",
   "metadata": {},
   "source": [
    "# Exercício 1:\n",
    "## Situação Problema: Um professor deseja imprimir na tela os números pares de 0 a 10 para ensinar os alunos sobre os conceitos de números pares e o uso da estrutura de repetição for."
   ]
  },
  {
   "cell_type": "code",
   "execution_count": 1,
   "id": "7f44973c",
   "metadata": {},
   "outputs": [
    {
     "name": "stdout",
     "output_type": "stream",
     "text": [
      "0\n",
      "2\n",
      "4\n",
      "6\n",
      "8\n",
      "10\n"
     ]
    }
   ],
   "source": [
    "# Imprimir os números pares de 0 a 10 usando um loop for e a função range.\n",
    "for num in range(0, 11, 2):\n",
    "    print(num)\n"
   ]
  },
  {
   "cell_type": "code",
   "execution_count": null,
   "id": "24502089",
   "metadata": {},
   "outputs": [],
   "source": []
  },
  {
   "cell_type": "markdown",
   "id": "fa52446a",
   "metadata": {},
   "source": [
    "Neste exercício, utilizamos um loop for para percorrer a sequência de números de 0 a 10, com um passo de 2 (usando a função range).    A função range(0, 11, 2) gera uma sequência de números de 0 a 10, pulando de 2 em 2, resultando na impressão dos números pares de 0 a 10."
   ]
  },
  {
   "cell_type": "markdown",
   "id": "54da453f",
   "metadata": {},
   "source": [
    "# Exercício 2:\n",
    "## Situação Problema: Um vendedor de frutas quer mostrar ao cliente as frutas disponíveis em sua banca. Ele possui uma lista de nomes de frutas e deseja imprimir cada nome em uma linha separada para facilitar a visualização."
   ]
  },
  {
   "cell_type": "code",
   "execution_count": 1,
   "id": "a04debeb",
   "metadata": {},
   "outputs": [
    {
     "name": "stdout",
     "output_type": "stream",
     "text": [
      "maçã\n",
      "banana\n",
      "laranja\n",
      "morango\n",
      "uva\n"
     ]
    }
   ],
   "source": [
    "# Criar uma lista de nomes de frutas e imprimir cada nome de fruta em uma linha separada.\n",
    "frutas = ['maçã', 'banana', 'laranja', 'morango', 'uva']\n",
    "for fruta in frutas:\n",
    "    print(fruta)\n"
   ]
  },
  {
   "cell_type": "code",
   "execution_count": null,
   "id": "bcc1a614",
   "metadata": {},
   "outputs": [],
   "source": []
  },
  {
   "cell_type": "markdown",
   "id": "110748f9",
   "metadata": {},
   "source": [
    "Neste exercício, criamos uma lista chamada frutas com vários nomes de frutas. Utilizamos o loop for para iterar sobre essa lista e imprimir cada nome de fruta em uma linha separada."
   ]
  },
  {
   "cell_type": "markdown",
   "id": "f4ac5e4b",
   "metadata": {},
   "source": [
    "# Exercício 3:\n",
    "## Situação Problema: Uma criança está aprendendo a tabuada e precisa praticar a tabuada de um número específico. O programa pede à criança para digitar um número e, em seguida, imprime a tabuada desse número de 1 a 10 para ajudá-la a praticar."
   ]
  },
  {
   "cell_type": "code",
   "execution_count": 3,
   "id": "abcaed55",
   "metadata": {},
   "outputs": [
    {
     "name": "stdout",
     "output_type": "stream",
     "text": [
      "Digite um número: 5\n",
      "5 x 1 = 5\n",
      "5 x 2 = 10\n",
      "5 x 3 = 15\n",
      "5 x 4 = 20\n",
      "5 x 5 = 25\n",
      "5 x 6 = 30\n",
      "5 x 7 = 35\n",
      "5 x 8 = 40\n",
      "5 x 9 = 45\n",
      "5 x 10 = 50\n"
     ]
    }
   ],
   "source": [
    "# Pedir ao usuário para digitar um número e imprimir a tabuada desse número de 1 a 10.\n",
    "numero = int(input(\"Digite um número: \"))\n",
    "for i in range(1, 11):\n",
    "    print(f\"{numero} x {i} = {numero * i}\")\n"
   ]
  },
  {
   "cell_type": "markdown",
   "id": "cba6d3be",
   "metadata": {},
   "source": [
    "Neste exercício, solicitamos ao usuário que digite um número. Em seguida, usamos um loop for em conjunto com a função range(1, 11) para percorrer a sequência de 1 a 10. Para cada valor do loop, imprimimos a tabuada do número digitado multiplicando-o pelos números de 1 a 10."
   ]
  },
  {
   "cell_type": "markdown",
   "id": "c7fb50fd",
   "metadata": {},
   "source": [
    "# Exercício 4:\n",
    "## Situação Problema: Um cientista está analisando dados experimentais e deseja saber o valor e a posição de cada leitura registrada. O programa recebe uma lista de números, e o cientista precisa imprimir cada valor junto com sua respectiva posição na lista."
   ]
  },
  {
   "cell_type": "code",
   "execution_count": 4,
   "id": "b458d0a4",
   "metadata": {},
   "outputs": [
    {
     "name": "stdout",
     "output_type": "stream",
     "text": [
      "Índice: 0, Valor: 10\n",
      "Índice: 1, Valor: 20\n",
      "Índice: 2, Valor: 30\n",
      "Índice: 3, Valor: 40\n",
      "Índice: 4, Valor: 50\n"
     ]
    }
   ],
   "source": [
    "# Dada uma lista de números, imprimir o índice e o valor de cada elemento da lista.\n",
    "numeros = [10, 20, 30, 40, 50]\n",
    "for indice, valor in enumerate(numeros):\n",
    "    print(f\"Índice: {indice}, Valor: {valor}\")\n"
   ]
  },
  {
   "cell_type": "markdown",
   "id": "1b06025f",
   "metadata": {},
   "source": [
    "Neste exercício, temos uma lista chamada numeros. Utilizamos o loop for em conjunto com a função enumerate(numeros) para percorrer a lista e obter tanto o índice quanto o valor de cada elemento. O loop imprime o índice e o valor de cada elemento na lista."
   ]
  },
  {
   "cell_type": "markdown",
   "id": "f047cddb",
   "metadata": {},
   "source": [
    "# Exercício 5:\n",
    "## Situação Problema: Um caixa de supermercado precisa calcular o total de uma compra. Ele registra o preço de cada produto em uma lista e, em seguida, usa um loop for para somar todos os preços e obter o valor total da compra."
   ]
  },
  {
   "cell_type": "code",
   "execution_count": 5,
   "id": "0aeafec7",
   "metadata": {},
   "outputs": [
    {
     "name": "stdout",
     "output_type": "stream",
     "text": [
      "Soma dos números: 15\n"
     ]
    }
   ],
   "source": [
    "# Criar uma lista de números e somar todos os elementos da lista. Imprimir o resultado da soma.\n",
    "numeros = [1, 2, 3, 4, 5]\n",
    "soma = 0\n",
    "for numero in numeros:\n",
    "    soma += numero\n",
    "print(f\"Soma dos números: {soma}\")\n"
   ]
  },
  {
   "cell_type": "markdown",
   "id": "5fbc3cd9",
   "metadata": {},
   "source": [
    "Neste exercício, criamos uma lista chamada numeros. Utilizamos o loop for para iterar sobre essa lista e somar todos os seus elementos, armazenando o resultado na variável soma. Após o loop, imprimimos o valor da soma."
   ]
  },
  {
   "cell_type": "markdown",
   "id": "bf03bc57",
   "metadata": {},
   "source": [
    "# Exercício 6:\n",
    "## Situação Problema: Um professor quer ensinar aos alunos como contar as vogais em uma frase. O programa pede ao aluno para digitar uma frase e, em seguida, conta quantas vogais existem nessa frase, mostrando o resultado na tela."
   ]
  },
  {
   "cell_type": "code",
   "execution_count": 6,
   "id": "967a6aa8",
   "metadata": {},
   "outputs": [
    {
     "name": "stdout",
     "output_type": "stream",
     "text": [
      "Digite uma frase: Escola\n",
      "Total de vogais na frase: 3\n"
     ]
    }
   ],
   "source": [
    "# Pedir ao usuário para digitar uma frase e contar quantas vogais existem na frase.\n",
    "frase = input(\"Digite uma frase: \")\n",
    "vogais = 'aeiouAEIOU'\n",
    "contador = 0\n",
    "for letra in frase:\n",
    "    if letra in vogais:\n",
    "        contador += 1\n",
    "print(f\"Total de vogais na frase: {contador}\")\n"
   ]
  },
  {
   "cell_type": "markdown",
   "id": "665efe13",
   "metadata": {},
   "source": [
    "Neste exercício, solicitamos ao usuário que digite uma frase. Utilizamos o loop for para iterar sobre cada letra da frase e, caso a letra seja uma vogal (definidas na variável vogais), incrementamos o contador. Após o loop, imprimimos o total de vogais encontradas na frase."
   ]
  },
  {
   "cell_type": "markdown",
   "id": "8d6cebd1",
   "metadata": {},
   "source": [
    "# Exercício 7:\n",
    "## Situação Problema: Um jogador está jogando um jogo de adivinhação e precisa descobrir o número mais alto dentre várias tentativas. O programa recebe uma lista de números inseridos pelo jogador e exibe o maior número após todas as tentativas."
   ]
  },
  {
   "cell_type": "code",
   "execution_count": 7,
   "id": "3ab8b639",
   "metadata": {},
   "outputs": [
    {
     "name": "stdout",
     "output_type": "stream",
     "text": [
      "Maior valor na lista: 15\n"
     ]
    }
   ],
   "source": [
    "# Dada uma lista de números, encontrar o maior valor na lista e imprimir esse valor.\n",
    "numeros = [5, 10, 3, 8, 15, 12]\n",
    "maior_valor = numeros[0]\n",
    "for numero in numeros:\n",
    "    if numero > maior_valor:\n",
    "        maior_valor = numero\n",
    "print(f\"Maior valor na lista: {maior_valor}\")\n"
   ]
  },
  {
   "cell_type": "markdown",
   "id": "436a910d",
   "metadata": {},
   "source": [
    "Neste exercício, temos uma lista chamada numeros. Utilizamos o loop for para iterar sobre cada número na lista e, através de uma estrutura condicional (if), verificamos se o número é maior que o maior_valor atual. \n",
    "Caso seja, atualizamos o valor de maior_valor com esse número. \n",
    "Após o loop, imprimimos o maior valor na lista."
   ]
  },
  {
   "cell_type": "markdown",
   "id": "2bbf7576",
   "metadata": {},
   "source": [
    "# Exercício 8:\n",
    "## Situação Problema: Um professor deseja ensinar o alfabeto para seus alunos. O programa pede ao aluno para digitar uma palavra e, em seguida, exibe cada letra da palavra em uma linha separada para ajudar os alunos a praticarem o reconhecimento das letras."
   ]
  },
  {
   "cell_type": "code",
   "execution_count": 8,
   "id": "4f9faa85",
   "metadata": {},
   "outputs": [
    {
     "name": "stdout",
     "output_type": "stream",
     "text": [
      "Digite uma palavra: braga\n",
      "b\n",
      "r\n",
      "a\n",
      "g\n",
      "a\n"
     ]
    }
   ],
   "source": [
    "# Pedir ao usuário para digitar uma palavra e imprimir cada letra da palavra em uma linha separada.\n",
    "palavra = input(\"Digite uma palavra: \")\n",
    "for letra in palavra:\n",
    "    print(letra)\n"
   ]
  },
  {
   "cell_type": "markdown",
   "id": "35f92b53",
   "metadata": {},
   "source": [
    "Neste exercício, solicitamos ao usuário que digite uma palavra. Utilizamos o loop for para iterar sobre cada letra da palavra e imprimir cada letra em uma linha separada."
   ]
  }
 ],
 "metadata": {
  "kernelspec": {
   "display_name": "Python 3 (ipykernel)",
   "language": "python",
   "name": "python3"
  },
  "language_info": {
   "codemirror_mode": {
    "name": "ipython",
    "version": 3
   },
   "file_extension": ".py",
   "mimetype": "text/x-python",
   "name": "python",
   "nbconvert_exporter": "python",
   "pygments_lexer": "ipython3",
   "version": "3.11.3"
  }
 },
 "nbformat": 4,
 "nbformat_minor": 5
}
