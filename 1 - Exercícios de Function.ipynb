{
 "cells": [
  {
   "cell_type": "markdown",
   "metadata": {},
   "source": [
    "# Exercícios\n",
    "\n",
    "Para fazer um treino simples antes de avançarmos em mais functions, vamos criar uma function que resolve 1 \"desafio simples\"\n",
    "\n",
    "## 1. Function para Cálculo de Carga Tributária\n",
    "\n",
    "(Lembrando, não se atente ao funcionamento real da carga tributária, é apenas um exemplo imaginário para treinarmos as functions com algo mais prático)\n",
    "\n",
    "Imagine que você trabalha no setor contábil de uma grande empresa de Varejo. \n",
    "\n",
    "Crie uma function que calcule qual o % de carga tributária que está sendo aplicado sobre um determinado produto, dado o preço de venda, o \"lucro\" e os custos (com exceção do imposto) dele."
   ]
  },
  {
   "cell_type": "code",
   "execution_count": 3,
   "metadata": {},
   "outputs": [],
   "source": [
    "preco = 1500\n",
    "custo = 400\n",
    "lucro = 800"
   ]
  },
  {
   "cell_type": "markdown",
   "metadata": {},
   "source": [
    "Repare que preço - custo não é igual ao lucro, porque ainda foi descontado o imposto. Sua function deve calcular qual foi o % de imposto aplicado sobre o preço total."
   ]
  },
  {
   "cell_type": "code",
   "execution_count": 2,
   "metadata": {},
   "outputs": [
    {
     "name": "stdin",
     "output_type": "stream",
     "text": [
      "Digite o preço: 1200\n",
      "Digite o custo do produto: 200\n",
      "Digite o lucro ganho: 100\n"
     ]
    },
    {
     "name": "stdout",
     "output_type": "stream",
     "text": [
      "O valor do imposto em % é igual a:  75.0\n"
     ]
    }
   ],
   "source": [
    "#crie sua function aqui\n",
    "def cargaTribut(preco, custo, lucro):\n",
    "    return (((preco - custo) - lucro) * 100) / preco\n",
    "\n",
    "preco = int(input(\"Digite o preço:\"))\n",
    "custo = int(input(\"Digite o custo do produto:\"))\n",
    "lucro = int(input(\"Digite o lucro ganho:\"))\n",
    "\n",
    "print(\"O valor do imposto em % é igual a: \", cargaTribut(preco, custo, lucro))"
   ]
  },
  {
   "cell_type": "code",
   "execution_count": null,
   "metadata": {},
   "outputs": [],
   "source": [
    "#aplique sua function nos valores fornecidos para ver se ela está funcionando corretamente"
   ]
  }
 ],
 "metadata": {
  "kernelspec": {
   "display_name": "Python 3 (ipykernel)",
   "language": "python",
   "name": "python3"
  },
  "language_info": {
   "codemirror_mode": {
    "name": "ipython",
    "version": 3
   },
   "file_extension": ".py",
   "mimetype": "text/x-python",
   "name": "python",
   "nbconvert_exporter": "python",
   "pygments_lexer": "ipython3",
   "version": "3.11.3"
  }
 },
 "nbformat": 4,
 "nbformat_minor": 4
}
