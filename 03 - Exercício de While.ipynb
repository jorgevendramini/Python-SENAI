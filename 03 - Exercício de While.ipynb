{
 "cells": [
  {
   "cell_type": "markdown",
   "metadata": {},
   "source": [
    "# Exercícios\n",
    "\n",
    "## 1. Input até o usuário parar\n",
    "\n",
    "Vamos criar um sistema de vendas. Nosso programa deve registrar os produtos e as quantidades (2 inputs) e adicionar em uma lista.\n",
    "\n",
    "O programa deve continuar rodando até o input ser vazio, ou seja, o usuário apertar enter sem digitar nenhum produto ou quantidade.\n",
    "\n",
    "Ao final do programa, ele deve printar todos os produtos e quantidades vendidas.\n",
    "\n",
    "Obs: Caso queira, para o print ficar mais visual, pode usar o join para cada item ser printado em uma linha.\n",
    "Sugestão para sua lista de produtos vendidos:"
   ]
  },
  {
   "cell_type": "raw",
   "metadata": {},
   "source": [
    "vendas = [\n",
    "    ['maçã', 5],\n",
    "    ['banana', 15],\n",
    "    ['azeite', 1],\n",
    "    ['vinho', 3],\n",
    "]"
   ]
  },
  {
   "cell_type": "code",
   "execution_count": 5,
   "metadata": {},
   "outputs": [
    {
     "name": "stdout",
     "output_type": "stream",
     "text": [
      "Digite o produto:arara\n",
      "Digite sua quantidade:124\n",
      "Digite o próximo produto:bola\n",
      "Digite sua quantidade:548\n",
      "Digite o próximo produto:bastão\n",
      "Digite sua quantidade:4562\n",
      "Digite o próximo produto:computador\n",
      "Digite sua quantidade:5\n",
      "Digite o próximo produto:\n",
      "[['arara', '124'], ['bola', '548'], ['bastão', '4562'], ['computador', '5']]\n"
     ]
    }
   ],
   "source": [
    "#seu código aqui\n",
    "produto = input('Digite o produto:')\n",
    "quantidade = input('Digite sua quantidade:')\n",
    "\n",
    "produtos = []\n",
    "quantidades = []\n",
    "\n",
    "while produto != '':\n",
    "    produtos.append(produto)\n",
    "    quantidades.append(quantidade)\n",
    "    produto = input('Digite o próximo produto:')\n",
    "    if produto == '':\n",
    "        break\n",
    "    quantidade = input('Digite sua quantidade:')\n",
    "\n",
    "listaCompleta = []\n",
    "\n",
    "for prod, quant in zip(produtos, quantidades):\n",
    "    listaCompleta.append([prod, quant])\n",
    "\n",
    "print(listaCompleta)"
   ]
  },
  {
   "cell_type": "markdown",
   "metadata": {},
   "source": [
    "### Obs: Podemos fazer o While de 2 maneiras:\n",
    "\n",
    "1. While com a condição que finalize o programa\n",
    "2. While rodando para sempre, mas com uma condição dentro do while que dê um break no código.\n",
    "\n",
    "Vamos mostrar as 2 opções"
   ]
  }
 ],
 "metadata": {
  "kernelspec": {
   "display_name": "Python 3 (ipykernel)",
   "language": "python",
   "name": "python3"
  },
  "language_info": {
   "codemirror_mode": {
    "name": "ipython",
    "version": 3
   },
   "file_extension": ".py",
   "mimetype": "text/x-python",
   "name": "python",
   "nbconvert_exporter": "python",
   "pygments_lexer": "ipython3",
   "version": "3.11.3"
  }
 },
 "nbformat": 4,
 "nbformat_minor": 4
}
