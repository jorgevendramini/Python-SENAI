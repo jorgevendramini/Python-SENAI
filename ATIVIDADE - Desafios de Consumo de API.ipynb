{
 "cells": [
  {
   "cell_type": "markdown",
   "metadata": {
    "id": "fGuMPRsU_fC3"
   },
   "source": [
    "# **Desafios de API**\n",
    "\n",
    "###***Consulte as documentações, faça testes e capriche no seu código!***\n"
   ]
  },
  {
   "cell_type": "markdown",
   "metadata": {
    "id": "PGvFTd_lBZsY"
   },
   "source": [
    "### **Desafio 1**\n",
    "\n",
    "Você foi contratado para criar um programa em Python que permita o envio de mensagens SMS usando a API do Twilio. Seu programa deve solicitar ao usuário que insira o número de telefone de destino e a mensagem que deseja enviar. Em seguida, ele deve usar a API do Twilio para enviar a mensagem SMS para o número especificado. Certifique-se de configurar corretamente as credenciais da sua conta do Twilio no programa para que ele possa autenticar e enviar as mensagens com sucesso. Além disso, forneça feedback ao usuário sobre o status do envio da mensagem."
   ]
  },
  {
   "cell_type": "code",
   "execution_count": 6,
   "metadata": {
    "id": "UbBriF6S_Xez"
   },
   "outputs": [
    {
     "name": "stdout",
     "output_type": "stream",
     "text": [
      "SMccfd39128f3ee4f93c037b111833529c\n"
     ]
    }
   ],
   "source": [
    "from twilio.rest import Client\n",
    "\n",
    "account_sid = \"AC10b298fcf30ed2dd19b571cc9d94aa23\"\n",
    "\n",
    "auth_token = \"1bf5352aceaa5de3eb4a3656fcd02877\"\n",
    "\n",
    "client = Client(account_sid, auth_token)\n",
    "\n",
    "telefone_dest = input(\"Digite o número de telefone de destino:\")\n",
    "#Como só consigo enviar para meu número por ser uma conta trial, o input acima se inutiliza\n",
    "telefone_dest = \"+5511977020912\"\n",
    "client_message = input(\"Digite a mensagem que deseja enviar aqui:\")\n",
    "\n",
    "message = client.messages.create(\n",
    "    to = telefone_dest,\n",
    "    from_=\"+18325147987\",\n",
    "    body = client_message\n",
    ")\n",
    "\n",
    "print(message.sid)\n"
   ]
  },
  {
   "cell_type": "markdown",
   "metadata": {
    "id": "O-pZLAln_UsX"
   },
   "source": [
    "### **Desafio 2**\n",
    "\n",
    "Você foi designado para criar um programa em Python que forneça informações de cotação atual e gráficos históricos para o dólar, euro e bitcoin. O programa deve apresentar um menu com duas opções: \"Cotação Atual\" e \"Gráfico Histórico\". Ao selecionar \"Cotação Atual\", o programa deverá exibir as cotações atualizadas do dólar, euro e bitcoin obtidas através da API CoinGecko, da API economia.awesomeapi.com.br (conforme exemplo no slide da aula) ou de outra fonte de dados de sua preferência.\n",
    "\n",
    "Ao escolher \"Gráfico Histórico\", o programa deve perguntar ao usuário qual moeda ele deseja visualizar (Dólar/Euro/Bitcoin) e, em seguida, obter e imprimir o gráfico de evolução histórica real dessa moeda desde janeiro de 2023 até outubro de 2023, utilizando a API escolhida.\n",
    "\n",
    "Embora o uso de uma interface gráfica não seja obrigatório, é altamente desejável como um desafio extra. Você pode optar por criar uma interface gráfica para tornar o programa mais amigável e interativo. Certifique-se de que o programa seja intuitivo e forneça informações claras e atualizadas ao usuário.\n",
    "\n",
    "Para a implementação do programa, serão necessárias as seguintes bibliotecas:\n",
    "\n",
    " - requests para fazer buscar os dados de cotação\n",
    " - matplotlib para fazer os gráficos\n",
    " - *tkinter (opcional)* para criar uma interface gráfica, tornando a interação com o programa mais amigável.\n"
   ]
  },
  {
   "cell_type": "code",
   "execution_count": null,
   "metadata": {
    "id": "68vPsmfu_ZAT"
   },
   "outputs": [],
   "source": [
    "\n",
    "\n",
    "\n",
    "\n",
    "\n",
    "\n"
   ]
  },
  {
   "cell_type": "markdown",
   "metadata": {
    "id": "HqBo2HJM_UnN"
   },
   "source": [
    "### **Desafio 3**\n",
    "\n",
    "Você foi designado para criar um programa em Python que permita o cadastro de clientes de forma eficiente e precisa. Para agilizar o processo de preenchimento do endereço dos clientes, você decidiu implementar uma funcionalidade que utiliza a API ViaCEP dos Correios para buscar automaticamente os dados do endereço (rua, bairro, cidade, estado, etc.) com base no CEP fornecido pelo usuário.\n",
    "\n",
    "Sua tarefa é criar um programa que ofereça a funcionalidade de busca de endereço por CEP, onde o usuário possa inserir o CEP e obter automaticamente os dados do endereço. Em seguida, o usuário preenche os demais dados e grava o resgitro.\n",
    "\n",
    "O programa tambem deve ter uma funcionalidade de listar os cadastros.\n",
    "\n",
    "Embora o uso de uma interface gráfica não seja obrigatório, é altamente desejável como um desafio extra. Você pode optar por criar uma interface gráfica para tornar o programa mais amigável e interativo. Certifique-se de que o programa seja intuitivo e forneça informações claras e atualizadas ao usuário.\n",
    "\n",
    "Para a implementação do programa, serão necessárias as seguintes bibliotecas:\n",
    "\n",
    " - requests para fazer solicitações à API ViaCEP.\n",
    " - *tkinter (opcional)* para criar uma interface gráfica, tornando a interação com o programa mais amigável.\n"
   ]
  },
  {
   "cell_type": "code",
   "execution_count": null,
   "metadata": {
    "id": "5MTAiMnG_VND"
   },
   "outputs": [],
   "source": [
    "\n",
    "\n",
    "\n",
    "\n",
    "\n",
    "\n",
    "\n"
   ]
  }
 ],
 "metadata": {
  "colab": {
   "provenance": []
  },
  "kernelspec": {
   "display_name": "Python 3 (ipykernel)",
   "language": "python",
   "name": "python3"
  },
  "language_info": {
   "codemirror_mode": {
    "name": "ipython",
    "version": 3
   },
   "file_extension": ".py",
   "mimetype": "text/x-python",
   "name": "python",
   "nbconvert_exporter": "python",
   "pygments_lexer": "ipython3",
   "version": "3.11.3"
  }
 },
 "nbformat": 4,
 "nbformat_minor": 4
}
