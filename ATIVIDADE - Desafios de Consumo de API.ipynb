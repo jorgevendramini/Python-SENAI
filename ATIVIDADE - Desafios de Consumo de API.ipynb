{
 "cells": [
  {
   "cell_type": "markdown",
   "metadata": {
    "id": "fGuMPRsU_fC3"
   },
   "source": [
    "# **Desafios de API**\n",
    "\n",
    "###***Consulte as documentações, faça testes e capriche no seu código!***\n"
   ]
  },
  {
   "cell_type": "markdown",
   "metadata": {
    "id": "PGvFTd_lBZsY"
   },
   "source": [
    "### **Desafio 1**\n",
    "\n",
    "Você foi contratado para criar um programa em Python que permita o envio de mensagens SMS usando a API do Twilio. Seu programa deve solicitar ao usuário que insira o número de telefone de destino e a mensagem que deseja enviar. Em seguida, ele deve usar a API do Twilio para enviar a mensagem SMS para o número especificado. Certifique-se de configurar corretamente as credenciais da sua conta do Twilio no programa para que ele possa autenticar e enviar as mensagens com sucesso. Além disso, forneça feedback ao usuário sobre o status do envio da mensagem."
   ]
  },
  {
   "cell_type": "code",
   "execution_count": 6,
   "metadata": {
    "id": "UbBriF6S_Xez"
   },
   "outputs": [
    {
     "name": "stdout",
     "output_type": "stream",
     "text": [
      "SMccfd39128f3ee4f93c037b111833529c\n"
     ]
    }
   ],
   "source": [
    "from twilio.rest import Client\n",
    "\n",
    "account_sid = \"AC10b298fcf30ed2dd19b571cc9d94aa23\"\n",
    "\n",
    "auth_token = \"1bf5352aceaa5de3eb4a3656fcd02877\"\n",
    "\n",
    "client = Client(account_sid, auth_token)\n",
    "\n",
    "telefone_dest = input(\"Digite o número de telefone de destino:\")\n",
    "#Como só consigo enviar para meu número por ser uma conta trial, o input acima se inutiliza\n",
    "telefone_dest = \"+5511977020912\"\n",
    "client_message = input(\"Digite a mensagem que deseja enviar aqui:\")\n",
    "\n",
    "try:\n",
    "    message = client.messages.create(\n",
    "        to = telefone_dest,\n",
    "        from_=\"+18325147987\",\n",
    "        body = client_message\n",
    "    )\n",
    "    print(\"Mensagem enviada com sucesso!\")\n",
    "except:\n",
    "    print(\"Mensagem não enviada devido a erro de conexão\")\n",
    "\n",
    "print(message.sid)\n"
   ]
  },
  {
   "cell_type": "markdown",
   "metadata": {
    "id": "O-pZLAln_UsX"
   },
   "source": [
    "### **Desafio 2**\n",
    "\n",
    "Você foi designado para criar um programa em Python que forneça informações de cotação atual e gráficos históricos para o dólar, euro e bitcoin. O programa deve apresentar um menu com duas opções: \"Cotação Atual\" e \"Gráfico Histórico\". Ao selecionar \"Cotação Atual\", o programa deverá exibir as cotações atualizadas do dólar, euro e bitcoin obtidas através da API CoinGecko, da API economia.awesomeapi.com.br (conforme exemplo no slide da aula) ou de outra fonte de dados de sua preferência.\n",
    "\n",
    "Ao escolher \"Gráfico Histórico\", o programa deve perguntar ao usuário qual moeda ele deseja visualizar (Dólar/Euro/Bitcoin) e, em seguida, obter e imprimir o gráfico de evolução histórica real dessa moeda desde janeiro de 2023 até outubro de 2023, utilizando a API escolhida.\n",
    "\n",
    "Embora o uso de uma interface gráfica não seja obrigatório, é altamente desejável como um desafio extra. Você pode optar por criar uma interface gráfica para tornar o programa mais amigável e interativo. Certifique-se de que o programa seja intuitivo e forneça informações claras e atualizadas ao usuário.\n",
    "\n",
    "Para a implementação do programa, serão necessárias as seguintes bibliotecas:\n",
    "\n",
    " - requests para fazer buscar os dados de cotação\n",
    " - matplotlib para fazer os gráficos\n",
    " - *tkinter (opcional)* para criar uma interface gráfica, tornando a interação com o programa mais amigável.\n"
   ]
  },
  {
   "cell_type": "code",
   "execution_count": 3,
   "metadata": {
    "id": "68vPsmfu_ZAT"
   },
   "outputs": [
    {
     "name": "stdout",
     "output_type": "stream",
     "text": [
      "{'USD': '5.1459', 'BTC': '144403', 'EUR': '5.4628'}\n"
     ]
    }
   ],
   "source": [
    "import requests\n",
    "import tkinter as tk\n",
    "from tkinter import messagebox\n",
    "import matplotlib.pyplot as plt\n",
    "import json\n",
    "\n",
    "#variables\n",
    "cotacao_atual = {}\n",
    "graf_historico = {}\n",
    "siglas = ['USD', 'BTC', 'EUR']\n",
    "\n",
    "#API\n",
    "cotacoes = requests.get(\"https://economia.awesomeapi.com.br/json/all\")\n",
    "cotacoes_dict = cotacoes.json()\n",
    "\n",
    "# API graf historico\n",
    "def grafico_evo_hist_function(sigla):\n",
    "    graf_historico = requests.get(f\"https://economia.awesomeapi.com.br/{sigla}/10?startdate=20230101&enddate=20231005\")\n",
    "    graf_historico_dict = graf_historico.json()\n",
    "    lista_graf_historico = [float(item['bid']) for item in graf_historico_dict]\n",
    "    lista_graf_historico.reverse()\n",
    "    print(lista_graf_historico)\n",
    "    print(len(lista_graf_historico))\n",
    "    #matplotlib\n",
    "    plt.plot(lista_graf_historico)\n",
    "    plt.xlabel('Tempo')\n",
    "    plt.ylabel('Valor da moeda')\n",
    "    plt.title(f'Gráfico histórico para {sigla}')\n",
    "    plt.show()\n",
    "\n",
    "# função matplot graf historico\n",
    "\n",
    "def grafico_historico():\n",
    "    option = caixa_selecao2.get()\n",
    "\n",
    "    if option == siglas[0]:\n",
    "        grafico_evo_hist_function(siglas[0])\n",
    "    elif option == siglas[1]:\n",
    "        grafico_evo_hist_function(siglas[1])\n",
    "    elif option == siglas[2]:\n",
    "        grafico_evo_hist_function(siglas[2])\n",
    "\n",
    "\n",
    "#função main API\n",
    "\n",
    "def mostrar_opcao_selecionada():\n",
    "    opcao = caixa_selecao.get()\n",
    "    mensagem = f\"Opção selecionada: {opcao}\"\n",
    "    messagebox.showinfo(\"Opção Selecionada\", mensagem)\n",
    "\n",
    "    if opcao == opcoes[0]:\n",
    "        #mostrar cotação\n",
    "        dados_from_API()\n",
    "        messagebox.showinfo(title='Cotação atual', message=cotacao_atual,)\n",
    "    elif opcao == opcoes[1]:\n",
    "        #mostrar gráfico histórico\n",
    "        janela.destroy()\n",
    "        janela_option_2 = tk.Tk()\n",
    "        janela_option_2.title('Gráfico Histórico')\n",
    "        janela_option_2.geometry(\"400x150\")\n",
    "        global caixa_selecao2\n",
    "        caixa_selecao2 = tk.StringVar()\n",
    "        caixa_selecao2.set(siglas[0])\n",
    "        menu_siglas_graf_historico = tk.OptionMenu(janela_option_2, caixa_selecao2, *siglas)\n",
    "        menu_siglas_graf_historico.config(width= 12)\n",
    "        menu_siglas_graf_historico.pack(pady=30, ipadx=10)\n",
    "        botao2 = tk.Button(janela_option_2, text=\"OK\", command=grafico_historico)\n",
    "        botao2.place(width=100, height=25 ,x=150, y=75)\n",
    "\n",
    "#tkinter\n",
    "janela = tk.Tk()\n",
    "janela.title('API de cotação atual e gráfico histórico')\n",
    "janela.geometry(\"400x150\")\n",
    "janela.resizable(False, False)\n",
    "\n",
    "opcoes = [\"Cotação Atual\", \"Gráfico Histórico\"]\n",
    "caixa_selecao = tk.StringVar()\n",
    "caixa_selecao.set(opcoes[0])\n",
    "\n",
    "#botão combobox\n",
    "menu = tk.OptionMenu(janela, caixa_selecao, *opcoes)\n",
    "menu.config(width= 12)\n",
    "menu.pack(pady=30, ipadx=10)\n",
    "\n",
    "#botão OK\n",
    "botao = tk.Button(janela, text=\"OK\", command=mostrar_opcao_selecionada)\n",
    "botao.place(width=100, height=25 ,x=150, y=75)\n",
    "\n",
    "\n",
    "#Função Cotação atual: get only values I want from 'siglas'\n",
    "def dados_from_API():\n",
    "    for par, dado in cotacoes_dict.items():\n",
    "        for sigla in siglas:\n",
    "            if par == sigla:\n",
    "                cotacao_atual[par] = dado['bid']\n",
    "    print(cotacao_atual)\n",
    "\n",
    "\n",
    "\n",
    "dados_from_API()\n",
    "\n",
    "tk.mainloop()"
   ]
  },
  {
   "cell_type": "markdown",
   "metadata": {
    "id": "HqBo2HJM_UnN"
   },
   "source": [
    "### **Desafio 3**\n",
    "\n",
    "Você foi designado para criar um programa em Python que permita o cadastro de clientes de forma eficiente e precisa. Para agilizar o processo de preenchimento do endereço dos clientes, você decidiu implementar uma funcionalidade que utiliza a API ViaCEP dos Correios para buscar automaticamente os dados do endereço (rua, bairro, cidade, estado, etc.) com base no CEP fornecido pelo usuário.\n",
    "\n",
    "Sua tarefa é criar um programa que ofereça a funcionalidade de busca de endereço por CEP, onde o usuário possa inserir o CEP e obter automaticamente os dados do endereço. Em seguida, o usuário preenche os demais dados e grava o resgitro.\n",
    "\n",
    "O programa tambem deve ter uma funcionalidade de listar os cadastros.\n",
    "\n",
    "Embora o uso de uma interface gráfica não seja obrigatório, é altamente desejável como um desafio extra. Você pode optar por criar uma interface gráfica para tornar o programa mais amigável e interativo. Certifique-se de que o programa seja intuitivo e forneça informações claras e atualizadas ao usuário.\n",
    "\n",
    "Para a implementação do programa, serão necessárias as seguintes bibliotecas:\n",
    "\n",
    " - requests para fazer solicitações à API ViaCEP.\n",
    " - *tkinter (opcional)* para criar uma interface gráfica, tornando a interação com o programa mais amigável.\n"
   ]
  },
  {
   "cell_type": "code",
   "execution_count": 12,
   "metadata": {
    "id": "5MTAiMnG_VND"
   },
   "outputs": [],
   "source": [
    "import tkinter as tk\n",
    "import requests\n",
    "\n",
    "# Validar entrada do CEP\n",
    "def validar_cep(P):\n",
    "    return len(P) == 8\n",
    "\n",
    "# Retirar informações do ViaCEP\n",
    "def pegar_info_cep():\n",
    "    cep = entry.get()\n",
    "    \n",
    "    if validar_cep(cep):\n",
    "        url = f\"https://viacep.com.br/ws/{cep}/json/\"\n",
    "        resposta = requests.get(url)\n",
    "        \n",
    "        if resposta.status_code == 200:\n",
    "            dados = resposta.json()\n",
    "            info_endereco = f\"CEP: {dados['cep']}\\n\"\n",
    "            info_endereco += f\"Rua: {dados['logradouro']}\\n\"\n",
    "            info_endereco += f\"Bairro: {dados['bairro']}\\n\"\n",
    "            info_endereco += f\"Cidade: {dados['localidade']}\\n\"\n",
    "            info_endereco += f\"Estado: {dados['uf']}\\n\"\n",
    "            result_label.config(text=info_endereco)\n",
    "        else:\n",
    "            result_label.config(text=\"Erro: Não foi possível conseguir as informações do endereço escolhido.\")\n",
    "    else:\n",
    "        result_label.config(text=\"CEP inválido. Por favor, entre exatamente 8 caracteres.\")\n",
    "\n",
    "# Janela principaç\n",
    "janela = tk.Tk()\n",
    "janela.title(\"Entrada de CEP\")\n",
    "\n",
    "# criar os textos\n",
    "label = tk.Label(janela, text=\"Digite um número de CEP (8 caracteres):\")\n",
    "label.pack(pady=10)\n",
    "\n",
    "# entrada com validação\n",
    "entry = tk.Entry(janela, width=10)\n",
    "entry.pack()\n",
    "\n",
    "# botão ok para pegar informações\n",
    "ok_button = tk.Button(janela, text=\"OK\", command=pegar_info_cep)\n",
    "ok_button.pack(pady=5)\n",
    "\n",
    "# textos com informações do endereço\n",
    "result_label = tk.Label(janela, text=\"\")\n",
    "result_label.pack(pady=10)\n",
    "\n",
    "# loop principal do tk\n",
    "janela.mainloop()\n"
   ]
  }
 ],
 "metadata": {
  "colab": {
   "provenance": []
  },
  "kernelspec": {
   "display_name": "Python 3",
   "language": "python",
   "name": "python3"
  },
  "language_info": {
   "codemirror_mode": {
    "name": "ipython",
    "version": 3
   },
   "file_extension": ".py",
   "mimetype": "text/x-python",
   "name": "python",
   "nbconvert_exporter": "python",
   "pygments_lexer": "ipython3",
   "version": "3.11.0"
  },
  "vscode": {
   "interpreter": {
    "hash": "c261aea317cc0286b3b3261fbba9abdec21eaa57589985bb7a274bf54d6cc0a7"
   }
  }
 },
 "nbformat": 4,
 "nbformat_minor": 4
}
