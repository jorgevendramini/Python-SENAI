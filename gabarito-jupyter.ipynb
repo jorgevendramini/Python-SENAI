{
 "cells": [
  {
   "cell_type": "markdown",
   "metadata": {
    "id": "7cSjkBggT5jc"
   },
   "source": [
    "# **Exercício 1:**\n",
    "\n",
    "---\n",
    "\n",
    "Faça um programa que calcule a raiz quadrada de um número inteiro fornecido pelo usuário. Utilize a biblioteca math para realizar o cálculo."
   ]
  },
  {
   "cell_type": "code",
   "execution_count": 1,
   "metadata": {
    "id": "Z_bnJxYGT0_o"
   },
   "outputs": [
    {
     "name": "stdout",
     "output_type": "stream",
     "text": [
      "Digite um número inteiro: 5\n",
      "A raiz quadrada de 5 é 2.24\n"
     ]
    }
   ],
   "source": [
    "import math\n",
    "\n",
    "numero = int(input(\"Digite um número inteiro: \"))\n",
    "raiz_quadrada = math.sqrt(numero)\n",
    "\n",
    "print(f\"A raiz quadrada de {numero} é {raiz_quadrada:.2f}\")"
   ]
  },
  {
   "cell_type": "markdown",
   "metadata": {
    "id": "Sa1-LWktUG_z"
   },
   "source": [
    "# **Exercício 2:**\n",
    "\n",
    "---\n",
    "\n",
    "Crie um programa que gere um número aleatório entre 1 e 100 e peça ao usuário para adivinhar qual é esse número. Utilize a biblioteca random para gerar o número aleatório."
   ]
  },
  {
   "cell_type": "code",
   "execution_count": 2,
   "metadata": {
    "id": "9iOJpg0_ULDC"
   },
   "outputs": [
    {
     "name": "stdout",
     "output_type": "stream",
     "text": [
      "Tente adivinhar o número entre 1 e 100: 5\n",
      "Infelizmente, o número era 44.\n"
     ]
    }
   ],
   "source": [
    "import random\n",
    "\n",
    "numero_aleatorio = random.randint(1, 100)\n",
    "tentativa = int(input(\"Tente adivinhar o número entre 1 e 100: \"))\n",
    "\n",
    "if tentativa == numero_aleatorio:\n",
    "    print(\"Parabéns, você acertou!\")\n",
    "else:\n",
    "    print(f\"Infelizmente, o número era {numero_aleatorio}.\")"
   ]
  },
  {
   "cell_type": "markdown",
   "metadata": {
    "id": "vrAwGLX3UXLq"
   },
   "source": [
    "# **Exercício 3:**\n",
    "\n",
    "---\n",
    "Crie um programa que simule um lançamento de dados. O programa deve gerar um número aleatório entre 1 e 6, representando o valor do dado."
   ]
  },
  {
   "cell_type": "code",
   "execution_count": 3,
   "metadata": {
    "id": "h2MVf6arUdtz"
   },
   "outputs": [
    {
     "name": "stdout",
     "output_type": "stream",
     "text": [
      "O valor do dado é: 4\n"
     ]
    }
   ],
   "source": [
    "import random\n",
    "\n",
    "valor_dado = random.randint(1, 6)\n",
    "print(f\"O valor do dado é: {valor_dado}\")"
   ]
  },
  {
   "cell_type": "markdown",
   "metadata": {
    "id": "RA7LpHIHUgcT"
   },
   "source": [
    "# **Exercício 4:**\n",
    "\n",
    "---\n",
    "Faça um programa que calcule a área de um círculo. O usuário deve fornecer o raio do círculo como entrada. Utilize a biblioteca math para obter o valor de π (pi)."
   ]
  },
  {
   "cell_type": "code",
   "execution_count": 4,
   "metadata": {
    "colab": {
     "base_uri": "https://localhost:8080/"
    },
    "id": "P5X-NK9gUmJT",
    "outputId": "f9a9a301-c690-444f-feb2-7aa5a3695429"
   },
   "outputs": [
    {
     "name": "stdout",
     "output_type": "stream",
     "text": [
      "Digite o raio do círculo: 77\n",
      "A área do círculo é 18626.50\n"
     ]
    }
   ],
   "source": [
    "import math\n",
    "\n",
    "raio = float(input(\"Digite o raio do círculo: \"))\n",
    "area = math.pi * raio ** 2\n",
    "\n",
    "print(f\"A área do círculo é {area:.2f}\")"
   ]
  },
  {
   "cell_type": "markdown",
   "metadata": {
    "id": "8hhvsHCOUn9T"
   },
   "source": [
    "# **Exercício 5:**\n",
    "\n",
    "---\n",
    "Crie um programa que solicite ao usuário um nome de arquivo e, em seguida, leia o conteúdo desse arquivo e conte quantas palavras diferentes existem no texto. Utilize Counter da biblioteca collections para ajudar na contagem.\n",
    "\n",
    "python\n",
    "C"
   ]
  },
  {
   "cell_type": "code",
   "execution_count": 5,
   "metadata": {
    "colab": {
     "base_uri": "https://localhost:8080/",
     "height": 262
    },
    "id": "01QBl5HWU2xj",
    "outputId": "ed15cbed-ecdb-4609-cf8f-0d0ecad87fe0"
   },
   "outputs": [
    {
     "name": "stdout",
     "output_type": "stream",
     "text": [
      "Digite o nome do arquivo: ex5_arquivo.html\n",
      "O arquivo contém 20 palavras diferentes.\n"
     ]
    }
   ],
   "source": [
    "from collections import Counter\n",
    "\n",
    "nome_arquivo = input(\"Digite o nome do arquivo: \")\n",
    "\n",
    "with open(nome_arquivo, \"r\") as arquivo:\n",
    "    palavras = arquivo.read().split()\n",
    "    contador_palavras = Counter(palavras)\n",
    "\n",
    "numero_palavras_diferentes = len(contador_palavras)\n",
    "print(f\"O arquivo contém {numero_palavras_diferentes} palavras diferentes.\")"
   ]
  },
  {
   "cell_type": "markdown",
   "metadata": {
    "id": "-xrV_RJ9U_g7"
   },
   "source": [
    "# **Exercício 6:**\n",
    "\n",
    "---\n",
    "Crie um programa que solicite ao usuário uma lista de números separados por vírgula e exiba a média desses números. Utilize a função mean da biblioteca statistics."
   ]
  },
  {
   "cell_type": "code",
   "execution_count": 6,
   "metadata": {
    "id": "0gGOdi8mVFAL"
   },
   "outputs": [
    {
     "name": "stdout",
     "output_type": "stream",
     "text": [
      "Digite uma lista de números separados por vírgula: 5,7,8,9,0,88\n",
      "A média dos números é 19.50\n"
     ]
    }
   ],
   "source": [
    "import statistics\n",
    "\n",
    "numeros = input(\"Digite uma lista de números separados por vírgula: \")\n",
    "numeros_lista = [float(numero) for numero in numeros.split(\",\")]\n",
    "media = statistics.mean(numeros_lista)\n",
    "\n",
    "print(f\"A média dos números é {media:.2f}\")"
   ]
  },
  {
   "cell_type": "markdown",
   "metadata": {
    "id": "CO26JglHXDPs"
   },
   "source": [
    "# **Exercício 7:**\n",
    "\n",
    "---\n",
    "Crie um programa usando a biblioteca tkinter que exiba uma janela com um botão. Quando o botão for clicado, exiba uma mensagem de saudação usando a função messagebox.showinfo().\n"
   ]
  },
  {
   "cell_type": "code",
   "execution_count": 7,
   "metadata": {
    "id": "UQTtWO8SVf7S"
   },
   "outputs": [],
   "source": [
    "import tkinter as tk\n",
    "from tkinter import messagebox\n",
    "\n",
    "def mostrar_saudacao():\n",
    "    messagebox.showinfo(\"Saudação\", \"Olá, mundo!\")\n",
    "\n",
    "janela = tk.Tk()\n",
    "janela.title(\"Exemplo 1 - Saudação\")\n",
    "\n",
    "botao = tk.Button(janela, text=\"Clique aqui\", command=mostrar_saudacao)\n",
    "botao.pack()\n",
    "\n",
    "janela.mainloop()"
   ]
  },
  {
   "cell_type": "markdown",
   "metadata": {
    "id": "0raBCu6fXafW"
   },
   "source": [
    "# **Exercício 8:**\n",
    "\n",
    "---\n",
    "Crie um programa usando a biblioteca tkinter que exiba uma janela com um rótulo de texto e um campo de entrada. Quando o botão for clicado, obtenha o texto do campo de entrada usando a função .get() e exiba uma mensagem de boas-vindas personalizada usando a função messagebox.showinfo().\n"
   ]
  },
  {
   "cell_type": "code",
   "execution_count": 8,
   "metadata": {
    "colab": {
     "base_uri": "https://localhost:8080/",
     "height": 366
    },
    "id": "UgiISJlkXexi",
    "outputId": "a082820f-1e7d-458d-8164-f64c8fb59e51"
   },
   "outputs": [],
   "source": [
    "import tkinter as tk\n",
    "from tkinter import messagebox\n",
    "\n",
    "def mostrar_boas_vindas():\n",
    "    nome = campo_nome.get()\n",
    "    mensagem = f\"Bem-vindo, {nome}!\"\n",
    "    messagebox.showinfo(\"Boas-vindas\", mensagem)\n",
    "\n",
    "janela = tk.Tk()\n",
    "janela.title(\"Exemplo 2 - Boas-vindas\")\n",
    "\n",
    "label_nome = tk.Label(janela, text=\"Digite seu nome:\")\n",
    "label_nome.pack()\n",
    "campo_nome = tk.Entry(janela)\n",
    "campo_nome.pack()\n",
    "\n",
    "botao = tk.Button(janela, text=\"Clique aqui\", command=mostrar_boas_vindas)\n",
    "botao.pack()\n",
    "\n",
    "janela.mainloop()"
   ]
  },
  {
   "cell_type": "markdown",
   "metadata": {
    "id": "0NytGTyOXjtD"
   },
   "source": [
    "# **Exercício 9:**\n",
    "\n",
    "---\n",
    "Crie um programa usando a biblioteca tkinter que exiba uma janela com uma caixa de seleção e um botão. Quando o botão for clicado, obtenha a opção selecionada da caixa de seleção usando a variável associada e exiba-a em uma caixa de diálogo usando a função messagebox.showinfo()."
   ]
  },
  {
   "cell_type": "code",
   "execution_count": 9,
   "metadata": {
    "id": "n7LtC33EXpuy"
   },
   "outputs": [],
   "source": [
    "import tkinter as tk\n",
    "from tkinter import messagebox\n",
    "\n",
    "def mostrar_opcao_selecionada():\n",
    "    opcao = caixa_selecao.get()\n",
    "    mensagem = f\"Opção selecionada: {opcao}\"\n",
    "    messagebox.showinfo(\"Opção Selecionada\", mensagem)\n",
    "\n",
    "janela = tk.Tk()\n",
    "janela.title(\"Exemplo 3 - Caixa de Seleção\")\n",
    "\n",
    "opcoes = [\"Opção 1\", \"Opção 2\", \"Opção 3\"]\n",
    "caixa_selecao = tk.StringVar()\n",
    "caixa_selecao.set(opcoes[0])\n",
    "\n",
    "menu = tk.OptionMenu(janela, caixa_selecao, *opcoes)\n",
    "menu.pack()\n",
    "\n",
    "botao = tk.Button(janela, text=\"Clique aqui\", command=mostrar_opcao_selecionada)\n",
    "botao.pack()\n",
    "\n",
    "janela.mainloop()\n"
   ]
  },
  {
   "cell_type": "markdown",
   "metadata": {
    "id": "qoozLEBUZeDa"
   },
   "source": [
    "# **Exercício 10:**\n",
    "\n",
    "---\n",
    "Crie um programa que utilize a biblioteca pandas para ler um arquivo CSV chamado \"dados.csv\". O arquivo contém uma coluna chamada \"idade\". Calcule a média das idades utilizando o método .mean() e exiba o resultado.\n",
    "\n",
    "[Link para a Documentação do Pandas](https://pandas.pydata.org/docs/reference/api/pandas.read_csv.html)\n"
   ]
  },
  {
   "cell_type": "code",
   "execution_count": 11,
   "metadata": {
    "colab": {
     "base_uri": "https://localhost:8080/",
     "height": 390
    },
    "id": "56Mo2YGCZjg5",
    "outputId": "9567fc0c-8c23-4575-e427-90b584b30882"
   },
   "outputs": [
    {
     "name": "stdout",
     "output_type": "stream",
     "text": [
      "A média das idades é: 43.60\n"
     ]
    }
   ],
   "source": [
    "import pandas as pd\n",
    "\n",
    "# Lê o arquivo CSV\n",
    "dados = pd.read_csv(\"ex10_dados.csv\")\n",
    "\n",
    "# Calcula a média das idades\n",
    "media_idades = dados[\"idade\"].mean()\n",
    "\n",
    "print(f\"A média das idades é: {media_idades:.2f}\")"
   ]
  },
  {
   "cell_type": "markdown",
   "metadata": {
    "id": "CrGJ4bNpZkl5"
   },
   "source": [
    "# **Exercício 11:**\n",
    "\n",
    "---\n",
    "Crie um programa que utilize as bibliotecas pandas e matplotlib para ler um arquivo CSV chamado \"dados.csv\". O arquivo contém duas colunas: \"nome\" e \"pontuacao\". Exiba um gráfico de barras utilizando o método .bar() do matplotlib.pyplot, passando os nomes como valores no eixo x e as pontuações como valores no eixo y.\n",
    "\n",
    "[Link para a Documentação do Pandas](https://pandas.pydata.org/docs/reference/api/pandas.read_csv.html)\n",
    "\n",
    "[Link para a documentação do matplotlib](https://matplotlib.org/stable/api/_as_gen/matplotlib.pyplot.bar.html)"
   ]
  },
  {
   "cell_type": "code",
   "execution_count": 12,
   "metadata": {
    "colab": {
     "base_uri": "https://localhost:8080/",
     "height": 390
    },
    "id": "fX2Psu7AaNBT",
    "outputId": "879f655f-69db-45cf-b65c-ce42f3fd12cd"
   },
   "outputs": [
    {
     "data": {
      "image/png": "[encoded data removed]",
      "text/plain": [
       "<Figure size 640x480 with 1 Axes>"
      ]
     },
     "metadata": {},
     "output_type": "display_data"
    }
   ],
   "source": [
    "import pandas as pd\n",
    "import matplotlib.pyplot as plt\n",
    "\n",
    "# Lê o arquivo CSV\n",
    "dados = pd.read_csv(\"ex11_dados.csv\")\n",
    "\n",
    "# Cria o gráfico de barras\n",
    "plt.bar(dados[\"nome\"], dados[\"pontuacao\"])\n",
    "plt.xlabel(\"Nomes\")\n",
    "plt.ylabel(\"Pontuações\")\n",
    "plt.title(\"Pontuações dos Alunos\")\n",
    "plt.xticks(rotation=45)\n",
    "plt.tight_layout()\n",
    "\n",
    "# Exibe o gráfico\n",
    "plt.show()"
   ]
  },
  {
   "cell_type": "code",
   "execution_count": null,
   "metadata": {},
   "outputs": [],
   "source": []
  }
 ],
 "metadata": {
  "colab": {
   "provenance": []
  },
  "kernelspec": {
   "display_name": "Python 3 (ipykernel)",
   "language": "python",
   "name": "python3"
  },
  "language_info": {
   "codemirror_mode": {
    "name": "ipython",
    "version": 3
   },
   "file_extension": ".py",
   "mimetype": "text/x-python",
   "name": "python",
   "nbconvert_exporter": "python",
   "pygments_lexer": "ipython3",
   "version": "3.11.3"
  }
 },
 "nbformat": 4,
 "nbformat_minor": 1
}
