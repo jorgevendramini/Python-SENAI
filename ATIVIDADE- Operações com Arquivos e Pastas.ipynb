{
 "cells": [
  {
   "cell_type": "markdown",
   "id": "a89c014e",
   "metadata": {
    "id": "a89c014e"
   },
   "source": [
    "### Operações com arquivos e pastas\n",
    "####   ***** Tente fazer sozinho - consulte a documentação *****"
   ]
  },
  {
   "cell_type": "markdown",
   "id": "8061fbc9",
   "metadata": {
    "id": "8061fbc9"
   },
   "source": [
    "#### Exercício 1:\n",
    "Crie um programa que liste todos os arquivos em um diretório específico usando os.listdir()"
   ]
  },
  {
   "cell_type": "code",
   "execution_count": 3,
   "id": "395f7952",
   "metadata": {
    "id": "395f7952"
   },
   "outputs": [
    {
     "name": "stdout",
     "output_type": "stream",
     "text": [
      "['.ipynb_checkpoints', '11_3_Importação_de_Bibliotecas_Atividade.ipynb', 'ATIVIDADE- Operações com Arquivos e Pastas.ipynb', 'EXERCICIOS - Função MAP.ipynb', 'EXERCICIOS - LAMBDA EXPRESSIONS.ipynb', 'EXERCICIOS - List Comprehension.ipynb', 'GABARITO - Função MAP.ipynb', 'GABARITO - Lambda Expressions.ipynb', 'GABARITO - List Comprehension.ipynb', 'gabarito-jupyter.ipynb']\n"
     ]
    }
   ],
   "source": [
    "import os\n",
    "\n",
    "pasta = \"C:/Users/Aluno 6/Desktop/Jorge Python\"\n",
    "\n",
    "arquivos = os.listdir(pasta)\n",
    "print(arquivos)"
   ]
  },
  {
   "cell_type": "markdown",
   "id": "1bbe7872",
   "metadata": {
    "id": "1bbe7872"
   },
   "source": [
    "#### Exercício 2:\n",
    "Crie um programa que conte quantos arquivos há em um diretório específico usando os.listdir()\n"
   ]
  },
  {
   "cell_type": "code",
   "execution_count": 9,
   "id": "7abd8103",
   "metadata": {
    "id": "7abd8103"
   },
   "outputs": [
    {
     "name": "stdout",
     "output_type": "stream",
     "text": [
      "Arquivos e pastas: 10\n",
      "Apenas arquivos: 9\n"
     ]
    }
   ],
   "source": [
    "import os\n",
    "\n",
    "pasta = \"C:/Users/Aluno 6/Desktop/Jorge Python\"\n",
    "\n",
    "#len conta pastas também além dos arquivos\n",
    "arquivos = len(os.listdir(pasta))\n",
    "print(f\"Arquivos e pastas:\",arquivos)\n",
    "\n",
    "#para contar apenas arquivos:\n",
    "arquivos = len([name for name in os.listdir(pasta) if os.path.isfile(name)])\n",
    "print(f\"Apenas arquivos:\", arquivos)\n"
   ]
  },
  {
   "cell_type": "markdown",
   "id": "6437f95e",
   "metadata": {
    "id": "6437f95e"
   },
   "source": [
    "#### Exercício 3:\n",
    "Escreva um programa que crie um novo diretório usando os.mkdir()"
   ]
  },
  {
   "cell_type": "code",
   "execution_count": 12,
   "id": "APW4gT5aI0Qs",
   "metadata": {
    "id": "APW4gT5aI0Qs"
   },
   "outputs": [
    {
     "name": "stdout",
     "output_type": "stream",
     "text": [
      "['.ipynb_checkpoints', '11_3_Importação_de_Bibliotecas_Atividade.ipynb', 'ATIVIDADE- Operações com Arquivos e Pastas.ipynb', 'EXERCICIOS - Função MAP.ipynb', 'EXERCICIOS - LAMBDA EXPRESSIONS.ipynb', 'EXERCICIOS - List Comprehension.ipynb', 'GABARITO - Função MAP.ipynb', 'GABARITO - Lambda Expressions.ipynb', 'GABARITO - List Comprehension.ipynb', 'gabarito-jupyter.ipynb', 'nova_pasta']\n"
     ]
    }
   ],
   "source": [
    "import os\n",
    "\n",
    "pasta = \"C:/Users/Aluno 6/Desktop/Jorge Python\"\n",
    "\n",
    "os.mkdir(\"nova_pasta\")\n",
    "\n",
    "arquivos = os.listdir(pasta)\n",
    "print(arquivos)"
   ]
  },
  {
   "cell_type": "markdown",
   "id": "d1c4d95e",
   "metadata": {
    "id": "d1c4d95e"
   },
   "source": [
    "#### Exercício 4:\n",
    "Crie um programa que verifique se um arquivo existe em um diretório usando os.path.exists()"
   ]
  },
  {
   "cell_type": "code",
   "execution_count": 13,
   "id": "0437af2f",
   "metadata": {
    "id": "0437af2f"
   },
   "outputs": [
    {
     "name": "stdout",
     "output_type": "stream",
     "text": [
      "True\n"
     ]
    }
   ],
   "source": [
    "import os\n",
    "\n",
    "arquivos = os.path.exists(\"nova_pasta\")\n",
    "print(arquivos)"
   ]
  },
  {
   "cell_type": "markdown",
   "id": "49756b91",
   "metadata": {
    "id": "49756b91"
   },
   "source": [
    "#### Exercício 5:\n",
    "Crie um programa que leia o conteúdo de um arquivo e o imprima na tela usando open()"
   ]
  },
  {
   "cell_type": "code",
   "execution_count": null,
   "id": "ceda579f",
   "metadata": {
    "id": "ceda579f"
   },
   "outputs": [],
   "source": []
  },
  {
   "cell_type": "markdown",
   "id": "e0e704d9",
   "metadata": {
    "id": "e0e704d9"
   },
   "source": [
    "#### Exercício 6:\n",
    "Crie um programa que escreva uma lista de strings em um arquivo de texto usando open()"
   ]
  },
  {
   "cell_type": "code",
   "execution_count": null,
   "id": "0df24dc3",
   "metadata": {
    "id": "0df24dc3"
   },
   "outputs": [],
   "source": []
  },
  {
   "cell_type": "markdown",
   "id": "b7ad2d3e",
   "metadata": {
    "id": "b7ad2d3e"
   },
   "source": [
    "#### Exercício 7:\n",
    "Crie um programa que copie um arquivo de um diretório para outro usando shutil.copy()"
   ]
  },
  {
   "cell_type": "code",
   "execution_count": null,
   "id": "5bc29be5",
   "metadata": {
    "id": "5bc29be5"
   },
   "outputs": [],
   "source": [
    "\n"
   ]
  },
  {
   "cell_type": "markdown",
   "id": "9fbcd8e3",
   "metadata": {
    "id": "9fbcd8e3"
   },
   "source": [
    "#### Exercício 8:\n",
    "Crie um programa que renomeie um arquivo usando os.rename()"
   ]
  },
  {
   "cell_type": "code",
   "execution_count": null,
   "id": "1d5da8b9",
   "metadata": {
    "id": "1d5da8b9"
   },
   "outputs": [],
   "source": []
  },
  {
   "cell_type": "markdown",
   "id": "c8000351",
   "metadata": {
    "id": "c8000351"
   },
   "source": [
    "#### Exercício 9:\n",
    "Crie um programa que exclua um arquivo usando os.remove()"
   ]
  },
  {
   "cell_type": "code",
   "execution_count": null,
   "id": "576fc0f6",
   "metadata": {
    "id": "576fc0f6"
   },
   "outputs": [],
   "source": []
  },
  {
   "cell_type": "markdown",
   "id": "5f527f0c",
   "metadata": {
    "id": "5f527f0c"
   },
   "source": [
    "#### Exercício 10:\n",
    "Crie um programa que exclua um diretório e todo o seu conteúdo usando a biblioteca pathlib com o método rmdir()"
   ]
  },
  {
   "cell_type": "code",
   "execution_count": null,
   "id": "b62aa8b3",
   "metadata": {
    "id": "b62aa8b3"
   },
   "outputs": [],
   "source": []
  },
  {
   "cell_type": "markdown",
   "id": "c16e8cb9",
   "metadata": {
    "id": "c16e8cb9"
   },
   "source": [
    "#### Exercício 11:\n",
    "Crie um programa que liste todos os arquivos em um diretório específico usando a biblioteca pathlib com o método iterdir()"
   ]
  },
  {
   "cell_type": "code",
   "execution_count": null,
   "id": "b3f16c02",
   "metadata": {
    "id": "b3f16c02"
   },
   "outputs": [],
   "source": []
  }
 ],
 "metadata": {
  "colab": {
   "provenance": []
  },
  "kernelspec": {
   "display_name": "Python 3 (ipykernel)",
   "language": "python",
   "name": "python3"
  },
  "language_info": {
   "codemirror_mode": {
    "name": "ipython",
    "version": 3
   },
   "file_extension": ".py",
   "mimetype": "text/x-python",
   "name": "python",
   "nbconvert_exporter": "python",
   "pygments_lexer": "ipython3",
   "version": "3.11.3"
  }
 },
 "nbformat": 4,
 "nbformat_minor": 5
}
