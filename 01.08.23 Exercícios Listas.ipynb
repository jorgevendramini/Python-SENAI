{
 "cells": [
  {
   "cell_type": "markdown",
   "metadata": {
    "id": "Z1hD5bNOu3vl"
   },
   "source": [
    "# Exercícios\n",
    "\n",
    "## 1. Faturamento do Melhor e do Pior Mês do Ano\n",
    "\n",
    "Qual foi o valor de vendas do melhor mês do Ano?\n",
    "E valor do pior mês do ano?"
   ]
  },
  {
   "cell_type": "code",
   "execution_count": 39,
   "metadata": {
    "id": "3bMW-13qu3vn"
   },
   "outputs": [
    {
     "name": "stdout",
     "output_type": "stream",
     "text": [
      "49051\n",
      "9650\n"
     ]
    }
   ],
   "source": [
    "meses = ['jan', 'fev', 'mar', 'abr', 'mai', 'jun', 'jul', 'ago', 'set', 'out', 'nov', 'dez']\n",
    "vendas_1sem = [25000, 29000, 22200, 17750, 15870, 19900]\n",
    "vendas_2sem = [19850, 20120, 17540, 15555, 49051, 9650]\n",
    "\n",
    "rendaAnual = vendas_1sem + vendas_2sem\n",
    "rendaAnualMax = max(rendaAnual)\n",
    "rendaAnualMin = min(rendaAnual)\n",
    "\n",
    "print(rendaAnualMax)\n",
    "print(rendaAnualMin)"
   ]
  },
  {
   "cell_type": "markdown",
   "metadata": {
    "id": "rGEdI7DMu3vo"
   },
   "source": [
    "## 2. Continuação\n",
    "\n",
    "Agora relacione as duas listas para printar 'O melhor mês do ano foi {} com {} vendas' e o mesmo para o pior mês do ano.\n",
    "\n",
    "Calcule também o faturamento total do Ano e quanto que o melhor mês representou do faturamento total.\n",
    "\n",
    "Obs: Para o faturamento total, pode usar a função sum(lista) que soma todos os itens de uma lista"
   ]
  },
  {
   "cell_type": "code",
   "execution_count": 40,
   "metadata": {
    "id": "Y9flMbmau3vo"
   },
   "outputs": [
    {
     "name": "stdout",
     "output_type": "stream",
     "text": [
      "O melhor mês do ano foi nov com 49051 vendas\n",
      "O pior mês do ano foi dez com 9650 vendas\n",
      "Faturamento total foi de 261486 com o melhor mês sendo nov representando um total de 18% da fatura\n"
     ]
    }
   ],
   "source": [
    "melhorMes = meses[rendaAnual.index(rendaAnualMax)]\n",
    "piorMes = meses[rendaAnual.index(rendaAnualMin)]\n",
    "faturamentoTotal = sum(rendaAnual)\n",
    "percentualMelhorMes = (rendaAnualMax * 100) // faturamentoTotal\n",
    "\n",
    "print('O melhor mês do ano foi {} com {} vendas'.format(melhorMes , max(rendaAnual)))\n",
    "print('O pior mês do ano foi {} com {} vendas'.format(piorMes,min(rendaAnual)))\n",
    "print('Faturamento total foi de {} com o melhor mês sendo {} representando um total de {}% da fatura'.format(faturamentoTotal, melhorMes,percentualMelhorMes))"
   ]
  },
  {
   "cell_type": "markdown",
   "metadata": {
    "id": "KLHV8ez3u3vo"
   },
   "source": [
    "## 3. Crie uma lista com o top 3 valores de vendas do ano (sem fazer \"no olho\")\n",
    "\n",
    "Dica: o método remove retira um item da lista."
   ]
  },
  {
   "cell_type": "code",
   "execution_count": 51,
   "metadata": {
    "id": "WQdJpcYyu3vo"
   },
   "outputs": [
    {
     "name": "stdout",
     "output_type": "stream",
     "text": [
      "[20120, 19900, 19850]\n"
     ]
    }
   ],
   "source": [
    "top3 = []\n",
    "for _ in range(3):\n",
    "    rendaAnual.sort()\n",
    "    top3.append(rendaAnual.pop())\n",
    "print(top3)"
   ]
  }
 ],
 "metadata": {
  "colab": {
   "provenance": []
  },
  "kernelspec": {
   "display_name": "Python 3 (ipykernel)",
   "language": "python",
   "name": "python3"
  },
  "language_info": {
   "codemirror_mode": {
    "name": "ipython",
    "version": 3
   },
   "file_extension": ".py",
   "mimetype": "text/x-python",
   "name": "python",
   "nbconvert_exporter": "python",
   "pygments_lexer": "ipython3",
   "version": "3.11.3"
  }
 },
 "nbformat": 4,
 "nbformat_minor": 1
}
