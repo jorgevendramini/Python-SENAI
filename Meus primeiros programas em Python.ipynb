{
 "cells": [
  {
   "cell_type": "markdown",
   "id": "8f26b3d6",
   "metadata": {},
   "source": [
    "# primeiro Código"
   ]
  },
  {
   "cell_type": "code",
   "execution_count": 10,
   "id": "44f93a51",
   "metadata": {},
   "outputs": [
    {
     "name": "stdout",
     "output_type": "stream",
     "text": [
      "Hello World!\n"
     ]
    }
   ],
   "source": [
    "print(\"Hello World!\") "
   ]
  },
  {
   "cell_type": "code",
   "execution_count": 11,
   "id": "48363ff1",
   "metadata": {},
   "outputs": [
    {
     "name": "stdout",
     "output_type": "stream",
     "text": [
      "123\n"
     ]
    }
   ],
   "source": [
    "print(123)"
   ]
  },
  {
   "cell_type": "code",
   "execution_count": 12,
   "id": "79af963f",
   "metadata": {},
   "outputs": [
    {
     "name": "stdout",
     "output_type": "stream",
     "text": [
      "25\n"
     ]
    }
   ],
   "source": [
    "print(5*5)"
   ]
  },
  {
   "cell_type": "code",
   "execution_count": 13,
   "id": "3723370b",
   "metadata": {},
   "outputs": [
    {
     "name": "stdout",
     "output_type": "stream",
     "text": [
      "3125\n"
     ]
    }
   ],
   "source": [
    "print(5**5)"
   ]
  },
  {
   "cell_type": "code",
   "execution_count": 14,
   "id": "26dd0b67",
   "metadata": {},
   "outputs": [
    {
     "name": "stdout",
     "output_type": "stream",
     "text": [
      "1\n"
     ]
    }
   ],
   "source": [
    "print(5 % 2)"
   ]
  },
  {
   "cell_type": "code",
   "execution_count": 15,
   "id": "9e45e67c",
   "metadata": {},
   "outputs": [
    {
     "name": "stdout",
     "output_type": "stream",
     "text": [
      "0.6666666666666666\n"
     ]
    }
   ],
   "source": [
    "print(2/3)"
   ]
  },
  {
   "cell_type": "code",
   "execution_count": 17,
   "id": "4a4df92c",
   "metadata": {},
   "outputs": [
    {
     "name": "stdout",
     "output_type": "stream",
     "text": [
      "700\n"
     ]
    }
   ],
   "source": [
    "faturamento = 1500\n",
    "custo = 800 \n",
    "print(faturamento - custo)"
   ]
  },
  {
   "cell_type": "code",
   "execution_count": 18,
   "id": "8a541efc",
   "metadata": {},
   "outputs": [
    {
     "name": "stdout",
     "output_type": "stream",
     "text": [
      "Digite seu cpf:359.026\n",
      "O cpf é 359.026\n"
     ]
    }
   ],
   "source": [
    "cpf = input('Digite seu cpf:')\n",
    "print('O cpf é '+ cpf)"
   ]
  },
  {
   "cell_type": "code",
   "execution_count": null,
   "id": "e9fc2b2d",
   "metadata": {},
   "outputs": [],
   "source": [
    "primeiro = input('Digite o primeiro numero')\n",
    "first = float(primeiro)\n",
    "\n",
    "segundo = input('digite o segundo numero')\n",
    "second = float(segundo)\n",
    "\n",
    "terceiro = input('digite o terceiro número')\n",
    "third = float(terceiro)\n",
    "\n",
    "media = first+second+third/3\n",
    "med = str(media)\n",
    "print('A média dos três números é: ' + med)"
   ]
  },
  {
   "cell_type": "code",
   "execution_count": 41,
   "id": "4997192b",
   "metadata": {},
   "outputs": [
    {
     "name": "stdout",
     "output_type": "stream",
     "text": [
      "Qual a sua altura (em metros)180\n",
      "Qual o seu peso (em kg)180\n",
      "Seu imc é 0.005555555555555556\n"
     ]
    }
   ],
   "source": [
    "altura = float(input('Qual a sua altura (em metros)'))\n",
    "peso = float(input('Qual o seu peso (em kg)'))\n",
    "\n",
    "imc = peso / (altura ** 2)\n",
    "\n",
    "print('Seu imc é', imc)"
   ]
  },
  {
   "cell_type": "code",
   "execution_count": 45,
   "id": "f831d655",
   "metadata": {},
   "outputs": [
    {
     "name": "stdout",
     "output_type": "stream",
     "text": [
      "True\n"
     ]
    }
   ],
   "source": [
    "print('j' in 'jorge')"
   ]
  },
  {
   "cell_type": "code",
   "execution_count": 57,
   "id": "9379fd8c",
   "metadata": {},
   "outputs": [
    {
     "name": "stdout",
     "output_type": "stream",
     "text": [
      "O faturamento de pepsi da loja foi de 195.0\n",
      "O faturamento de Coca da loja foi de 225.0\n",
      "O lucro total da loja foi de 420.0\n"
     ]
    }
   ],
   "source": [
    "vendasCoca = 150\n",
    "vendasPepsi = 130\n",
    "precoCoca = 1.50\n",
    "precoPepsi = 1.50\n",
    "custoLoja = 2.500\n",
    "\n",
    "pepsiFatura = vendasPepsi * precoPepsi\n",
    "cocaFatura = vendasCoca * precoCoca\n",
    "Lucro = pepsiFatura + cocaFatura\n",
    "\n",
    "print('O faturamento de pepsi da loja foi de', pepsiFatura)\n",
    "print('O faturamento de Coca da loja foi de', cocaFatura)\n",
    "print('O lucro total da loja foi de', Lucro)"
   ]
  },
  {
   "cell_type": "code",
   "execution_count": 4,
   "id": "02ef6623",
   "metadata": {},
   "outputs": [
    {
     "name": "stdout",
     "output_type": "stream",
     "text": [
      "False\n"
     ]
    }
   ],
   "source": [
    "codigo = input('Digite o código da bebida')\n",
    "print('BEB' in codigo)"
   ]
  },
  {
   "cell_type": "code",
   "execution_count": 10,
   "id": "be19e18f",
   "metadata": {},
   "outputs": [
    {
     "data": {
      "text/plain": [
       "int"
      ]
     },
     "execution_count": 10,
     "metadata": {},
     "output_type": "execute_result"
    }
   ],
   "source": [
    "faturamento = 1000\n",
    "type(faturamento)"
   ]
  },
  {
   "cell_type": "code",
   "execution_count": 11,
   "id": "6a2564ac",
   "metadata": {},
   "outputs": [
    {
     "data": {
      "text/plain": [
       "float"
      ]
     },
     "execution_count": 11,
     "metadata": {},
     "output_type": "execute_result"
    }
   ],
   "source": [
    "faturamento = 1000.00\n",
    "type(faturamento)\n"
   ]
  },
  {
   "cell_type": "code",
   "execution_count": 12,
   "id": "f417e5cd",
   "metadata": {},
   "outputs": [
    {
     "data": {
      "text/plain": [
       "str"
      ]
     },
     "execution_count": 12,
     "metadata": {},
     "output_type": "execute_result"
    }
   ],
   "source": [
    "faturamento = '1.000'\n",
    "type(faturamento)"
   ]
  },
  {
   "cell_type": "code",
   "execution_count": 13,
   "id": "498eaf0b",
   "metadata": {},
   "outputs": [
    {
     "data": {
      "text/plain": [
       "bool"
      ]
     },
     "execution_count": 13,
     "metadata": {},
     "output_type": "execute_result"
    }
   ],
   "source": [
    "ganha_bonus = True\n",
    "type(ganha_bonus)"
   ]
  },
  {
   "cell_type": "code",
   "execution_count": 20,
   "id": "4757a3f9",
   "metadata": {},
   "outputs": [
    {
     "name": "stdout",
     "output_type": "stream",
     "text": [
      "O faturamento da loja foi 1000 e o custo 500\n"
     ]
    }
   ],
   "source": [
    "faturamento = 1000\n",
    "custo = 500\n",
    "\n",
    "print('O faturamento da loja foi {} e o custo {}'.format(faturamento, custo))"
   ]
  },
  {
   "cell_type": "code",
   "execution_count": null,
   "id": "dff7a36a",
   "metadata": {},
   "outputs": [],
   "source": []
  }
 ],
 "metadata": {
  "kernelspec": {
   "display_name": "Python 3 (ipykernel)",
   "language": "python",
   "name": "python3"
  },
  "language_info": {
   "codemirror_mode": {
    "name": "ipython",
    "version": 3
   },
   "file_extension": ".py",
   "mimetype": "text/x-python",
   "name": "python",
   "nbconvert_exporter": "python",
   "pygments_lexer": "ipython3",
   "version": "3.11.3"
  }
 },
 "nbformat": 4,
 "nbformat_minor": 5
}
