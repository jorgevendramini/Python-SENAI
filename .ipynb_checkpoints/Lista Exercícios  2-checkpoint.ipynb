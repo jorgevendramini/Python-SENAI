{
 "cells": [
  {
   "cell_type": "markdown",
   "id": "a220e4e2",
   "metadata": {},
   "source": [
    "# Exercícios do Módulo 5 - Metódo .format"
   ]
  },
  {
   "cell_type": "markdown",
   "id": "737f7ee0",
   "metadata": {},
   "source": [
    "## Crie programas em python para atender as especificações abaixo."
   ]
  },
  {
   "cell_type": "markdown",
   "id": "33904d99",
   "metadata": {},
   "source": [
    "#####\n",
    "\n",
    "\n",
    "\n",
    "\n",
    "\n",
    "\n"
   ]
  },
  {
   "cell_type": "markdown",
   "id": "6f2fae2c",
   "metadata": {},
   "source": [
    "####"
   ]
  },
  {
   "cell_type": "markdown",
   "id": "b9d7d65b",
   "metadata": {},
   "source": [
    "# 1 - Faça um programa que peça o nome de um país, a capital e o idioma oficial e exiba uma mensagem com essas informações."
   ]
  },
  {
   "cell_type": "code",
   "execution_count": 4,
   "id": "1b62af10",
   "metadata": {},
   "outputs": [
    {
     "name": "stdout",
     "output_type": "stream",
     "text": [
      "Digite o nome do país:Canadá\n",
      "Digite uma capital:Ottawa\n",
      "Digite um idioma oficial:French or English\n",
      "O país é Canadá, a capital é Ottawa e o idioma oficial é French or English\n"
     ]
    }
   ],
   "source": [
    "pais = input('Digite o nome do país:')\n",
    "capital = input('Digite uma capital:')\n",
    "idiomaOficial = input('Digite um idioma oficial:')\n",
    "\n",
    "print('O país é {}, a capital é {} e o idioma oficial é {}'.format(pais, capital, idiomaOficial))"
   ]
  },
  {
   "cell_type": "markdown",
   "id": "5d617672",
   "metadata": {},
   "source": [
    "# 2 - Escreva um programa que peça dois números e exiba a soma deles."
   ]
  },
  {
   "cell_type": "code",
   "execution_count": 6,
   "id": "2c842c57",
   "metadata": {},
   "outputs": [
    {
     "name": "stdout",
     "output_type": "stream",
     "text": [
      "Digite o primeiro numero5\n",
      "Digite o segundo numero7\n",
      "A soma dos dois números é 12.0\n"
     ]
    }
   ],
   "source": [
    "num1 = float(input('Digite o primeiro numero'))\n",
    "num2 = float(input('Digite o segundo numero'))\n",
    "\n",
    "\n",
    "print('A soma dos dois números é {}'.format(num1+num2))"
   ]
  },
  {
   "cell_type": "markdown",
   "id": "78770cac",
   "metadata": {},
   "source": [
    "# 3 - Faça um programa que solicite o nome e a idade do usuário e exiba uma mensagem personalizada."
   ]
  },
  {
   "cell_type": "code",
   "execution_count": 8,
   "id": "85cc64da",
   "metadata": {},
   "outputs": [
    {
     "name": "stdout",
     "output_type": "stream",
     "text": [
      "Digite seu nome:Jorge\n",
      "Digite sua idade:10\n",
      "Olá Jorge, sua idade é 10, bem vindo!\n"
     ]
    }
   ],
   "source": [
    "nome = input('Digite seu nome:')\n",
    "idade = int(input('Digite sua idade:'))\n",
    "\n",
    "print('Olá {}, sua idade é {}, bem vindo!'.format(nome, idade))"
   ]
  },
  {
   "cell_type": "markdown",
   "id": "259a4bbf",
   "metadata": {},
   "source": [
    "# 4 - Crie duas variáveis para armazenar valores numéricos e exiba o resultado da soma."
   ]
  },
  {
   "cell_type": "code",
   "execution_count": null,
   "id": "2d4313e9",
   "metadata": {},
   "outputs": [],
   "source": [
    "num1 = float(input('Digite o primeiro numero'))\n",
    "num2 = float(input('Digite o segundo numero'))\n",
    "\n",
    "\n",
    "print('A soma dos dois números é {}'.format(num1+num2))"
   ]
  },
  {
   "cell_type": "markdown",
   "id": "a4b642fa",
   "metadata": {},
   "source": [
    "# 5 -  Escreva um programa que peça o nome do usuário e exiba uma mensagem de boas-vindas."
   ]
  },
  {
   "cell_type": "code",
   "execution_count": 10,
   "id": "dfee06bd",
   "metadata": {},
   "outputs": [
    {
     "name": "stdout",
     "output_type": "stream",
     "text": [
      "Digite seu nome:Jorge\n",
      "Olá Jorge, bem vindo!\n"
     ]
    }
   ],
   "source": [
    "nome = input('Digite seu nome:')\n",
    "\n",
    "print('Olá {}, bem vindo!'.format(nome))"
   ]
  },
  {
   "cell_type": "markdown",
   "id": "1aa984cf",
   "metadata": {},
   "source": [
    "#  6 - Você foi contratado para desenvolver um programa que auxilie um petshop a gerar mensagens personalizadas para seus clientes. O programa deve solicitar algumas informações do cliente e, em seguida, exibir uma mensagem customizada com base nos dados fornecidos.\n",
    "\n",
    "O programa deve conter as seguintes etapas:\n",
    "\n",
    "Solicitar ao usuário que digite seu nome, o nome do seu pet (animal de estimação) e a espécie do pet (por exemplo, cachorro, gato, pássaro, etc.).\n",
    "\n",
    "Em seguida, peça ao usuário que informe a idade do pet em anos.\n",
    "\n",
    "Solicite também ao usuário que informe se o pet já tomou todas as vacinas obrigatórias (responda com \"Sim\" ou \"Não\").\n",
    "\n",
    "Com base nas informações coletadas, o programa deve gerar uma mensagem personalizada para o cliente. A mensagem deve incluir o nome do cliente, o nome do pet, a espécie do pet, sua idade em anos e se já tomou todas as vacinas obrigatórias."
   ]
  },
  {
   "cell_type": "code",
   "execution_count": 11,
   "id": "72c15eff",
   "metadata": {},
   "outputs": [
    {
     "name": "stdout",
     "output_type": "stream",
     "text": [
      "Digite seu nome:Jorge\n",
      "Digite o nome do seu pet:Pandora\n",
      "Digite a espécie do seu pet:(gato, cachorro etc.)gato\n",
      "Digite a idade do seu pet:13\n",
      "Já tomou as vacinas obrigatórias? (responda com \"Sim\" ou \"Não\")sim\n",
      "Olá Jorge, o nome do seu pet é Pandora, ele é um(a) gato, tem 13 anos. Já tomou as vacinas obrigatórias? sim\n"
     ]
    }
   ],
   "source": [
    "nome = input('Digite seu nome:')\n",
    "pet = input('Digite o nome do seu pet:')\n",
    "especie = input('Digite a espécie do seu pet:(gato, cachorro etc.)')\n",
    "idadePet = input('Digite a idade do seu pet:')\n",
    "vacina = input('Já tomou as vacinas obrigatórias? (responda com \"Sim\" ou \"Não\")')\n",
    "\n",
    "print('Olá {}, o nome do seu pet é {}, ele é um(a) {}, tem {} anos. Já tomou as vacinas obrigatórias? {}'.format(nome, pet, especie, idadePet, vacina))"
   ]
  }
 ],
 "metadata": {
  "kernelspec": {
   "display_name": "Python 3 (ipykernel)",
   "language": "python",
   "name": "python3"
  },
  "language_info": {
   "codemirror_mode": {
    "name": "ipython",
    "version": 3
   },
   "file_extension": ".py",
   "mimetype": "text/x-python",
   "name": "python",
   "nbconvert_exporter": "python",
   "pygments_lexer": "ipython3",
   "version": "3.11.3"
  }
 },
 "nbformat": 4,
 "nbformat_minor": 5
}
