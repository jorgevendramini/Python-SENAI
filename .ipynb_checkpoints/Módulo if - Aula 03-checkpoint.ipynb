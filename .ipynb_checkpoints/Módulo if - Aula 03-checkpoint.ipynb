{
 "cells": [
  {
   "cell_type": "markdown",
   "metadata": {},
   "source": [
    "# elif\n",
    "\n",
    "E se temos mais do que um caso de sim e não?\n",
    "\n",
    "E se tivermos 3 casos?\n",
    "\n",
    "Usamos o elif da seguinte forma:"
   ]
  },
  {
   "cell_type": "raw",
   "metadata": {},
   "source": [
    "if condição:\n",
    "    o que fazer se a condição 1 for verdadeira\n",
    "elif condição_2:\n",
    "    o que fazer se a condição 1 for falsa e a condição 2 for verdadeira\n",
    "else:\n",
    "    o que fazer se a condição 1 e a condição 2 forem falsas"
   ]
  },
  {
   "cell_type": "markdown",
   "metadata": {},
   "source": [
    "### Exemplo:\n",
    "\n",
    "Vamos criar um programa para analisar o bônus dos funcionários de uma empresa (pode parecer \"simples\", mas uma empresa como a Amazon tem 900.000 funcionários)\n",
    "\n",
    "Para os cargos de vendedores, a regra do bônus é de acordo com a meta de vendas da pessoa:\n",
    "\n",
    "Se ela vendeu abaixo da meta dela, ela não ganha bônus.\n",
    "\n",
    "Se ela vendeu acima da meta dela, ela ganha como bônus 3% do valor que ela vendeu.\n",
    "\n",
    "Se ela vendeu mais do que o dobro da meta dela, ela ganha como bônus 7% do valor que ela vendeu.\n",
    "\n",
    "Vamos criar um programa para avaliar uma pessoa que tinha como meta de vendas 20.000 reais e calcular o bônus dela de acordo com o valor de vendas que ela tiver."
   ]
  },
  {
   "cell_type": "code",
   "execution_count": 10,
   "metadata": {},
   "outputs": [
    {
     "name": "stdout",
     "output_type": "stream",
     "text": [
      "Insira quanto atingiu na sua meta:49000\n",
      "Parabéns, você atintiu além do dobro da meta, ganhou 7% como bonus do valor que vendeu.\n",
      "Seu bônus é de 3430.00, que totaliza 52430.0\n"
     ]
    }
   ],
   "source": [
    "personalMeta = int(input('Insira quanto atingiu na sua meta:'))\n",
    "meta = 20000\n",
    "metaDouble = meta * 2\n",
    "bonusThreePercent = (personalMeta * 0.03) + personalMeta\n",
    "bonusSevenPercent = (personalMeta * 0.07) + personalMeta\n",
    "\n",
    "if personalMeta < meta:\n",
    "    print(\"Você não atingiu a meta, no bonus for you muahaha\")\n",
    "elif personalMeta > metaDouble:\n",
    "    print(\"Parabéns, você atintiu além do dobro da meta, ganhou 7% como bonus do valor que vendeu.\")\n",
    "    print(\"Seu bônus é de {}, que totaliza {}\".format(\"{:.2f}\".format(personalMeta * 0.07), bonusSevenPercent))\n",
    "else:\n",
    "    print(\"Parabéns, você atintiu a meta, ganhou 3% como bonus do valor que vendeu\")\n",
    "    print(\"Seu bônus é de {}, que totaliza {}\".format(\"{:.2f}\".format(personalMeta * 0.03), bonusThreePercent))"
   ]
  }
 ],
 "metadata": {
  "kernelspec": {
   "display_name": "Python 3 (ipykernel)",
   "language": "python",
   "name": "python3"
  },
  "language_info": {
   "codemirror_mode": {
    "name": "ipython",
    "version": 3
   },
   "file_extension": ".py",
   "mimetype": "text/x-python",
   "name": "python",
   "nbconvert_exporter": "python",
   "pygments_lexer": "ipython3",
   "version": "3.11.3"
  }
 },
 "nbformat": 4,
 "nbformat_minor": 4
}
