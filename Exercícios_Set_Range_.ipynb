{
 "cells": [
  {
   "cell_type": "markdown",
   "metadata": {
    "id": "rsCcO7j-xv-T"
   },
   "source": [
    "# Exercícios iterables - set - range"
   ]
  },
  {
   "cell_type": "markdown",
   "metadata": {
    "id": "p15zoqjcx_E0"
   },
   "source": [
    "\n",
    "\n",
    "\n",
    "\n",
    "\n",
    "\n",
    "\n",
    "\n",
    "\n",
    "."
   ]
  },
  {
   "cell_type": "markdown",
   "metadata": {
    "id": "KwqaC7qlxpsE"
   },
   "source": [
    "# Vamos mergulhar em uma jornada empolgante pelo mundo da programação em Python, explorando dois métodos poderosos: set() e range(). Vamos entender por que esses métodos são essenciais e como eles podem ser aplicados em várias situações para resolver problemas de maneira eficaz e elegante."
   ]
  },
  {
   "cell_type": "code",
   "execution_count": null,
   "metadata": {
    "id": "0ODmnhidtw-Q"
   },
   "outputs": [],
   "source": []
  },
  {
   "cell_type": "markdown",
   "metadata": {
    "id": "P9Aqv322t_p4"
   },
   "source": [
    "Um usuário deseja gerar um conjunto de números de 0 até o valor que ele fornece como entrada. Ele quer ver a sequência de números até esse ponto.\n",
    "\n",
    "Exercício 1:\n",
    "Peça ao usuário para digitar um número inteiro. Use o método range() para gerar os números de 0 até esse número e, em seguida, crie um conjunto (set()) a partir desses números. Finalmente, exiba o conjunto resultante."
   ]
  },
  {
   "cell_type": "code",
   "execution_count": 3,
   "metadata": {
    "id": "zciq4waE_w95"
   },
   "outputs": [
    {
     "name": "stdout",
     "output_type": "stream",
     "text": [
      "Digite um número:50\n",
      "{0, 1, 2, 3, 4, 5, 6, 7, 8, 9, 10, 11, 12, 13, 14, 15, 16, 17, 18, 19, 20, 21, 22, 23, 24, 25, 26, 27, 28, 29, 30, 31, 32, 33, 34, 35, 36, 37, 38, 39, 40, 41, 42, 43, 44, 45, 46, 47, 48, 49}\n"
     ]
    }
   ],
   "source": [
    "number = int(input('Digite um número:'))\n",
    "\n",
    "number_range = range(0, number)\n",
    "number_set = set(number_range)\n",
    "\n",
    "print(number_set)\n",
    "\n",
    "#for i in range(0, number):\n",
    " #   print(set_i)"
   ]
  },
  {
   "cell_type": "markdown",
   "metadata": {
    "id": "2u4CTx1xuNm4"
   },
   "source": [
    "Um professor quer criar um conjunto de notas dos alunos em uma faixa específica. Ele deseja saber as notas únicas nessa faixa.\n",
    "\n",
    "Exercício 2:\n",
    "Peça ao usuário para digitar um intervalo de notas, por exemplo, de 0 a 100. Utilize o método range() para gerar uma lista de notas nesse intervalo. Converta essa lista em um conjunto (set()) e exiba-o."
   ]
  },
  {
   "cell_type": "code",
   "execution_count": 4,
   "metadata": {
    "id": "JKUTpK54_xh4"
   },
   "outputs": [
    {
     "name": "stdout",
     "output_type": "stream",
     "text": [
      "Digite o intervalo de notas:\n",
      "Primeiro número:10\n",
      "Segundo número:80\n",
      "{10, 11, 12, 13, 14, 15, 16, 17, 18, 19, 20, 21, 22, 23, 24, 25, 26, 27, 28, 29, 30, 31, 32, 33, 34, 35, 36, 37, 38, 39, 40, 41, 42, 43, 44, 45, 46, 47, 48, 49, 50, 51, 52, 53, 54, 55, 56, 57, 58, 59, 60, 61, 62, 63, 64, 65, 66, 67, 68, 69, 70, 71, 72, 73, 74, 75, 76, 77, 78, 79}\n"
     ]
    }
   ],
   "source": [
    "print('Digite o intervalo de notas:')\n",
    "nota1 = int(input('Primeiro número:'))\n",
    "nota2 = int(input('Segundo número:'))\n",
    "\n",
    "nota_range = range(nota1, nota2)\n",
    "nota_set = set(nota_range)\n",
    "\n",
    "print(nota_set)"
   ]
  },
  {
   "cell_type": "markdown",
   "metadata": {
    "id": "DDIDT61luYpt"
   },
   "source": [
    "Você está organizando um evento onde precisa distribuir números de identificação únicos para os participantes. Cada número deve ser par e estar dentro de um certo intervalo.\n",
    "\n",
    "Exercício 3:\n",
    "Defina um intervalo de números, como de 10 a 50. Utilize o método range() para gerar uma lista de números pares dentro desse intervalo. Converta essa lista em um conjunto (set()) e exiba-o."
   ]
  },
  {
   "cell_type": "markdown",
   "metadata": {
    "id": "F_UWT9ID_zmZ"
   },
   "source": []
  },
  {
   "cell_type": "code",
   "execution_count": 9,
   "metadata": {
    "id": "H9JGpLnU_y3x"
   },
   "outputs": [
    {
     "name": "stdout",
     "output_type": "stream",
     "text": [
      "Digite o intervalo de números pares:\n",
      "Primeiro número:80\n",
      "Segundo número:50\n",
      "Os números devem ser pares e o primeiro número tem que ser menor que o segundo!\n",
      "Primeiro número:10\n",
      "Segundo número:50\n",
      "{10, 12, 14, 16, 18, 20, 22, 24, 26, 28, 30, 32, 34, 36, 38, 40, 42, 44, 46, 48}\n"
     ]
    }
   ],
   "source": [
    "print('Digite o intervalo de números pares:')\n",
    "\n",
    "number1 = int(input('Primeiro número:'))\n",
    "number2 = int(input('Segundo número:'))\n",
    "\n",
    "while(number1 % 2 == 1 or number2 % 2 == 1 or number1 > number2):\n",
    "    print('Os números devem ser pares e o primeiro número tem que ser menor que o segundo!')\n",
    "    number1 = int(input('Primeiro número:'))\n",
    "    number2 = int(input('Segundo número:'))\n",
    "    \n",
    "\n",
    "id_range = range(number1, number2, 2)\n",
    "id_set = set(id_range)\n",
    "\n",
    "print(id_set)\n"
   ]
  },
  {
   "cell_type": "markdown",
   "metadata": {
    "id": "BMmP5QubujDM"
   },
   "source": [
    "Um usuário deseja saber todos os divisores de um número inteiro que ele fornece. Ele está interessado apenas nos divisores até a raiz quadrada desse número.\n",
    "\n",
    "Exercício 4:\n",
    "Peça ao usuário para digitar um número inteiro. Utilize o método range() para iterar sobre os números de 1 até a raiz quadrada desse número. Se o número for divisível por um valor no intervalo, adicione-o a um conjunto (set()) de divisores. Exiba o conjunto resultante."
   ]
  },
  {
   "cell_type": "code",
   "execution_count": 37,
   "metadata": {
    "id": "pbRVWhjYtxAQ"
   },
   "outputs": [
    {
     "name": "stdout",
     "output_type": "stream",
     "text": [
      "Digite um número:81\n",
      "{1, 2, 3, 4, 5, 6, 7, 8}\n",
      "{1, 3}\n"
     ]
    }
   ],
   "source": [
    "import math\n",
    "\n",
    "numeroInteiro = float(input('Digite um número:'))\n",
    "raiz = int(math.sqrt(numeroInteiro))\n",
    "\n",
    "numeroInteiro_range = range(1, raiz)\n",
    "numeroInteiro_set = set(numeroInteiro_range)\n",
    "print(numeroInteiro_set)\n",
    "\n",
    "div_set = set()\n",
    "\n",
    "for div in numeroInteiro_set:\n",
    "    if(raiz % div == 0):\n",
    "        div_set.add(div)\n",
    "\n",
    "print(div_set)\n",
    "    "
   ]
  },
  {
   "cell_type": "markdown",
   "metadata": {
    "id": "J7c5jaSfvRLA"
   },
   "source": [
    "Exercício 5:  Desenvolva um programa que gere um conjunto de letras únicas em uma string dada, utilizando o método set() e um loop sobre a string utilizando o range()."
   ]
  },
  {
   "cell_type": "code",
   "execution_count": 42,
   "metadata": {
    "id": "cq2F4fDj_1IA"
   },
   "outputs": [
    {
     "name": "stdout",
     "output_type": "stream",
     "text": [
      "Digite uma palavra:o abacate esta verde\n",
      "{'d', 't', 'e', 'c', 'b', ' ', 'a', 'v', 'o', 's', 'r'}\n"
     ]
    }
   ],
   "source": [
    "string = input('Digite uma palavra:')\n",
    "\n",
    "set_string = set(string)\n",
    "\n",
    "print(set_string)"
   ]
  },
  {
   "cell_type": "markdown",
   "metadata": {
    "id": "BaO0w4pevrjx"
   },
   "source": [
    "Exercício 6:\n",
    "Situação-Problema: Um professor deseja manter um registro dos livros lidos por seus alunos durante o ano. Ele quer um conjunto de títulos únicos dos livros."
   ]
  },
  {
   "cell_type": "code",
   "execution_count": 46,
   "metadata": {
    "id": "gSt7kLbK_21A"
   },
   "outputs": [
    {
     "name": "stdout",
     "output_type": "stream",
     "text": [
      "Digite o nome do livro:arara\n",
      "Digite o nome do livro:arara\n",
      "Digite o nome do livro:arara\n",
      "Digite o nome do livro:\n",
      "{'', 'arara'}\n"
     ]
    }
   ],
   "source": [
    "livro = input('Digite o nome do livro:')\n",
    "set_livro = set()\n",
    "\n",
    "while livro != '':\n",
    "    livro = input('Digite o nome do livro:')\n",
    "    set_livro.add(livro)\n",
    "\n",
    "print(set_livro)"
   ]
  },
  {
   "cell_type": "markdown",
   "metadata": {
    "id": "esuu-ylmwHkc"
   },
   "source": [
    "Exercício 7:\n",
    "Situação-Problema: Um programador está verificando erros de digitação em um trecho de código. Ela quer encontrar todas as teclas únicas pressionadas durante a digitação."
   ]
  },
  {
   "cell_type": "code",
   "execution_count": 47,
   "metadata": {
    "id": "enrccPgP_53w"
   },
   "outputs": [
    {
     "name": "stdout",
     "output_type": "stream",
     "text": [
      "teclas únicas:a\n",
      "Digite outra tecla:b\n",
      "Digite outra tecla:c\n",
      "Digite outra tecla:s\n",
      "Digite outra tecla:a\n",
      "Digite outra tecla:b\n",
      "Digite outra tecla:c\n",
      "Digite outra tecla:\n",
      "{'', 'c', 'b', 'a', 's'}\n"
     ]
    }
   ],
   "source": [
    "teclas = input('teclas únicas:')\n",
    "set_teclas = set()\n",
    "\n",
    "while teclas != '':\n",
    "    teclas = input('Digite outra tecla:')\n",
    "    set_teclas.add(teclas)\n",
    "\n",
    "print(set_teclas)"
   ]
  },
  {
   "cell_type": "markdown",
   "metadata": {
    "id": "3_XLTZG4wQXN"
   },
   "source": [
    "Exercício 8:\n",
    "Situação-Problema: Um jogador de palavras cruzadas deseja saber todas as letras únicas que ele já utilizou em suas palavras."
   ]
  },
  {
   "cell_type": "code",
   "execution_count": null,
   "metadata": {
    "id": "nndjeLXo_5YI"
   },
   "outputs": [],
   "source": []
  },
  {
   "cell_type": "markdown",
   "metadata": {
    "id": "7kzPhQEmwaUO"
   },
   "source": [
    "Exercício 9:\n",
    "Situação-Problema: Um gerente de loja deseja criar um programa de fidelidade. Ele quer manter um registro único dos números de telefone dos clientes que realizam compras."
   ]
  },
  {
   "cell_type": "code",
   "execution_count": null,
   "metadata": {
    "id": "4DmZP3dm_8aQ"
   },
   "outputs": [],
   "source": []
  },
  {
   "cell_type": "markdown",
   "metadata": {
    "id": "d_RYimcpweye"
   },
   "source": [
    "Exercício 10:\n",
    "Situação-Problema: Você está organizando um torneio esportivo e precisa criar um conjunto de equipes únicas que se inscreveram."
   ]
  },
  {
   "cell_type": "code",
   "execution_count": null,
   "metadata": {
    "id": "g5NIxrFw_83I"
   },
   "outputs": [],
   "source": []
  },
  {
   "cell_type": "markdown",
   "metadata": {
    "id": "9A3ObHIhuoJ4"
   },
   "source": []
  }
 ],
 "metadata": {
  "colab": {
   "provenance": []
  },
  "kernelspec": {
   "display_name": "Python 3 (ipykernel)",
   "language": "python",
   "name": "python3"
  },
  "language_info": {
   "codemirror_mode": {
    "name": "ipython",
    "version": 3
   },
   "file_extension": ".py",
   "mimetype": "text/x-python",
   "name": "python",
   "nbconvert_exporter": "python",
   "pygments_lexer": "ipython3",
   "version": "3.11.3"
  }
 },
 "nbformat": 4,
 "nbformat_minor": 1
}
