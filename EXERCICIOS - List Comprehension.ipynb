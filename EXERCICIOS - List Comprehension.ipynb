{
 "cells": [
  {
   "cell_type": "markdown",
   "id": "6df4a3c0",
   "metadata": {},
   "source": [
    "### Converta os códigos tradicionais que usam FOR para o método utilizando list comprehension\n",
    "####   ***** Tente fazer sozinho antes de consultar  *****"
   ]
  },
  {
   "cell_type": "markdown",
   "id": "1896fe9d",
   "metadata": {},
   "source": [
    "#### Exercício 1:\n",
    "\n",
    "Crie uma lista que contenha os quadrados dos números de 0 a 9."
   ]
  },
  {
   "cell_type": "code",
   "execution_count": 5,
   "id": "b6eb2f27",
   "metadata": {},
   "outputs": [
    {
     "name": "stdout",
     "output_type": "stream",
     "text": [
      "[0, 1, 4, 9, 16, 25, 36, 49, 64, 81]\n"
     ]
    }
   ],
   "source": [
    "# Usando for\n",
    "squares = []\n",
    "for num in range(10):\n",
    "    squares.append(num ** 2)\n",
    "\n",
    "print(squares)"
   ]
  },
  {
   "cell_type": "code",
   "execution_count": 6,
   "id": "802ad902",
   "metadata": {},
   "outputs": [
    {
     "name": "stdout",
     "output_type": "stream",
     "text": [
      "[0, 1, 4, 9, 16, 25, 36, 49, 64, 81]\n"
     ]
    }
   ],
   "source": [
    "# Usando list comprehension\n",
    "squares = [num**2 for num in range(10)]\n",
    "print(squares)"
   ]
  },
  {
   "cell_type": "markdown",
   "id": "6da11dc8",
   "metadata": {},
   "source": [
    "#### Exercício 2:\n",
    "Dada uma lista de palavras, crie uma nova lista contendo o comprimento de cada palavra.\n",
    "\n",
    "python\n"
   ]
  },
  {
   "cell_type": "code",
   "execution_count": 11,
   "id": "1f6054d0",
   "metadata": {},
   "outputs": [
    {
     "name": "stdout",
     "output_type": "stream",
     "text": [
      "[6, 4, 13, 8]\n"
     ]
    }
   ],
   "source": [
    "# Usando for\n",
    "words = [\"python\", \"list\", \"comprehension\", \"exercise\"]\n",
    "word_lengths = []\n",
    "for word in words:\n",
    "    word_lengths.append(len(word))\n",
    "\n",
    "print(word_lengths)"
   ]
  },
  {
   "cell_type": "code",
   "execution_count": 12,
   "id": "3926270e",
   "metadata": {},
   "outputs": [
    {
     "name": "stdout",
     "output_type": "stream",
     "text": [
      "[6, 4, 13, 8]\n"
     ]
    }
   ],
   "source": [
    "# Usando list comprehension\n",
    "words = [\"python\", \"list\", \"comprehension\", \"exercise\"]\n",
    "\n",
    "word_lengths = [len(word) for word in words]\n",
    "\n",
    "print(word_lengths)"
   ]
  },
  {
   "cell_type": "markdown",
   "id": "7ffe0afc",
   "metadata": {},
   "source": [
    "#### Exercício 3:\n",
    "Dada uma lista de números, crie uma nova lista que contenha apenas os números pares."
   ]
  },
  {
   "cell_type": "code",
   "execution_count": 13,
   "id": "eb377c71",
   "metadata": {},
   "outputs": [
    {
     "name": "stdout",
     "output_type": "stream",
     "text": [
      "[2, 4, 6, 8, 10]\n"
     ]
    }
   ],
   "source": [
    "# Usando for\n",
    "numbers = [1, 2, 3, 4, 5, 6, 7, 8, 9, 10]\n",
    "even_numbers = []\n",
    "for num in numbers:\n",
    "    if num % 2 == 0:\n",
    "        even_numbers.append(num)\n",
    "        \n",
    "print(even_numbers)"
   ]
  },
  {
   "cell_type": "code",
   "execution_count": 14,
   "id": "742755d6",
   "metadata": {},
   "outputs": [
    {
     "name": "stdout",
     "output_type": "stream",
     "text": [
      "[2, 4, 6, 8, 10]\n"
     ]
    }
   ],
   "source": [
    "# Usando list comprehension\n",
    "numbers = [1, 2, 3, 4, 5, 6, 7, 8, 9, 10]\n",
    "\n",
    "even_numbers = [num for num in numbers if num%2 == 0]\n",
    "\n",
    "print(even_numbers)"
   ]
  },
  {
   "cell_type": "markdown",
   "id": "25c02633",
   "metadata": {},
   "source": [
    "#### Exercício 4:\n",
    "Crie uma lista com os cubos dos números de 1 a 5, apenas se o cubo for ímpar.\n",
    "\n",
    "python\n"
   ]
  },
  {
   "cell_type": "code",
   "execution_count": 15,
   "id": "8538fb37",
   "metadata": {},
   "outputs": [
    {
     "name": "stdout",
     "output_type": "stream",
     "text": [
      "[1, 27, 125]\n"
     ]
    }
   ],
   "source": [
    "# Usando for\n",
    "cubes = []\n",
    "for num in range(1, 6):\n",
    "    cube = num ** 3\n",
    "    if cube % 2 != 0:\n",
    "        cubes.append(cube)\n",
    "\n",
    "print(cubes)"
   ]
  },
  {
   "cell_type": "code",
   "execution_count": 16,
   "id": "6f2948c3",
   "metadata": {},
   "outputs": [
    {
     "name": "stdout",
     "output_type": "stream",
     "text": [
      "[1, 27, 125]\n"
     ]
    }
   ],
   "source": [
    "# Usando list comprehension\n",
    "cubes = [num**3 for num in range(1,6) if num%2 != 0]\n",
    "print(cubes)"
   ]
  },
  {
   "cell_type": "markdown",
   "id": "5af4dd70",
   "metadata": {},
   "source": [
    "#### Exercício 5:\n",
    "Dada uma lista de números, crie uma nova lista que contenha apenas os números maiores que 5."
   ]
  },
  {
   "cell_type": "code",
   "execution_count": 17,
   "id": "3c5381ae",
   "metadata": {},
   "outputs": [
    {
     "name": "stdout",
     "output_type": "stream",
     "text": [
      "[7, 10, 8, 6]\n"
     ]
    }
   ],
   "source": [
    "# Usando for\n",
    "numbers = [3, 7, 1, 10, 4, 8, 6]\n",
    "greater_than_five = []\n",
    "for num in numbers:\n",
    "    if num > 5:\n",
    "        greater_than_five.append(num)\n",
    "\n",
    "print(greater_than_five)"
   ]
  },
  {
   "cell_type": "code",
   "execution_count": 18,
   "id": "2ced65a2",
   "metadata": {},
   "outputs": [
    {
     "name": "stdout",
     "output_type": "stream",
     "text": [
      "[7, 10, 8, 6]\n"
     ]
    }
   ],
   "source": [
    "# Usando list comprehension\n",
    "numbers = [3, 7, 1, 10, 4, 8, 6]\n",
    "\n",
    "greater_than_five = [num for num in numbers if num > 5]\n",
    "\n",
    "print(greater_than_five)"
   ]
  }
 ],
 "metadata": {
  "kernelspec": {
   "display_name": "Python 3 (ipykernel)",
   "language": "python",
   "name": "python3"
  },
  "language_info": {
   "codemirror_mode": {
    "name": "ipython",
    "version": 3
   },
   "file_extension": ".py",
   "mimetype": "text/x-python",
   "name": "python",
   "nbconvert_exporter": "python",
   "pygments_lexer": "ipython3",
   "version": "3.11.3"
  }
 },
 "nbformat": 4,
 "nbformat_minor": 5
}
