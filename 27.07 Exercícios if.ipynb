{
 "cells": [
  {
   "cell_type": "markdown",
   "metadata": {},
   "source": [
    "# Exercícios"
   ]
  },
  {
   "cell_type": "markdown",
   "metadata": {},
   "source": [
    "## 1. Criando um mini sistema de controle de estoque\n",
    "\n",
    "- Crie um sistema para ser usado pelo time de controle de estoque de um centro de distribuição.\n",
    "- Imagine que ao fim de todo dia, o time conta quantas unidades de produto existem no estoque. Se tivermos um estoque abaixo do estoque permitido para aquela categoria do produto, o time deve ser avisado (print) para fazer um novo pedido daquele produto.\n",
    "- Cada categoria de produto tem um estoque mínimo diferente, segundo a regra abaixo:\n",
    "\n",
    "- alimentos -> Estoque mínimo: 50\n",
    "- bebidas -> Estoque mínimo: 75\n",
    "- limpeza -> Estoque mínimo: 30\n",
    "\n",
    "Para isso vamos criar um programa que pede 3 inputs do usuário: nome do produto, categoria e quantidade atual em estoque.\n",
    "\n",
    "Se o produto tiver abaixo do estoque mínimo da categoria dele, o programa deve printar a mensagem \"Solicitar {produto} à equipe de compras, temos apenas {unidades} em estoque\"\n",
    "\n",
    "Exemplo: Se o usuário preenche os inputs com: bebidas, dolly, 90, o programa não deve exibir nenhuma mensagem.<br>\n",
    "Agora, se o usuário preenche os inputs com: bebidas, guaraná, 60, o programa deve exibir a mensagem \"Solicitar guaraná à equipe de compras, temos apenas 60 unidades em estoque.\n",
    "\n",
    "Obs: lembre de usar o int() para transformar o número inserido pelo usuário no input de string para int.<br>\n",
    "Obs2: Caso o usuário não preencha alguma das 3 informações, o programa deve exibir uma mensagem para avisá-lo de preencher corretamente."
   ]
  },
  {
   "cell_type": "code",
   "execution_count": 13,
   "metadata": {},
   "outputs": [
    {
     "name": "stdout",
     "output_type": "stream",
     "text": [
      "Digite o nome do produto:Dolly\n",
      "Digite a categoria do produto: (alimentos, bebidas, limpeza)bebidas\n",
      "Digite a quantidade atual do produto:12\n",
      "Solicitar Dolly à equipe de compras, temos apenas 12 unidades em estoque e o estoque mínimo é 75\n"
     ]
    }
   ],
   "source": [
    "#seu código aqui\n",
    "\n",
    "alimentos = 50\n",
    "bebidas = 75\n",
    "limpeza = 30\n",
    "\n",
    "nomeProduto = input(\"Digite o nome do produto:\")\n",
    "categoria = input(\"Digite a categoria do produto: (alimentos, bebidas, limpeza)\")\n",
    "\n",
    "while categoria not in [\"alimentos\", \"bebidas\", \"limpeza\"]:\n",
    "    print(\"Escolha uma categoria correta\")\n",
    "    categoria = input(\"Digite a categoria do produto: (alimentos, bebidas, limpeza)\")\n",
    "\n",
    "quantAtual = int(input(\"Digite a quantidade atual do produto:\"))\n",
    "    \n",
    "estoqueMin = alimentos if categoria == \"alimentos\" else bebidas if categoria == \"bebidas\" else limpeza\n",
    "    \n",
    "if quantAtual < estoqueMin:\n",
    "    print(\"Solicitar {} à equipe de compras, temos apenas {} unidades em estoque e o estoque mínimo é {}\".format(nomeProduto, quantAtual, estoqueMin))\n",
    "else:\n",
    "    print(\"O produto {} tem estoque o suficiente, temos {} unidades e o estoque mínimo é {}\".format(nomeProduto, quantAtual, estoqueMin))"
   ]
  }
 ],
 "metadata": {
  "kernelspec": {
   "display_name": "Python 3 (ipykernel)",
   "language": "python",
   "name": "python3"
  },
  "language_info": {
   "codemirror_mode": {
    "name": "ipython",
    "version": 3
   },
   "file_extension": ".py",
   "mimetype": "text/x-python",
   "name": "python",
   "nbconvert_exporter": "python",
   "pygments_lexer": "ipython3",
   "version": "3.11.3"
  }
 },
 "nbformat": 4,
 "nbformat_minor": 4
}
