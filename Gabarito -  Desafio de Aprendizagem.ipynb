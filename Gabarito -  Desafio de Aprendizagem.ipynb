{
 "cells": [
  {
   "cell_type": "markdown",
   "id": "a42e2cb0",
   "metadata": {
    "id": "a42e2cb0"
   },
   "source": [
    "# Desafio de Aprendizagem - Biblioteca SENAI \"Morvan Figueiredo\""
   ]
  },
  {
   "cell_type": "markdown",
   "id": "e6622d8b",
   "metadata": {
    "id": "e6622d8b"
   },
   "source": [
    "## Você está encarregado de criar um sistema de gerenciamento de empréstimos de livros, coleta de avaliações de livros pelos alunos e registro de avaliações do atendimento da biblioteca para a Escola SENAI \"Morvan Figueiredo\".\n",
    "## Utilize o programa fornecido abaixo e siga as instruções para realizar as tarefas."
   ]
  },
  {
   "cell_type": "markdown",
   "id": "41d16339",
   "metadata": {
    "id": "41d16339"
   },
   "source": [
    "### Ao finalizar as tarefas, reflita sobre o processo e explique como o programa demonstra o uso de estruturas de dados, iterações e interações com o usuário para gerenciar empréstimos, avaliações e atendimento da biblioteca."
   ]
  },
  {
   "cell_type": "markdown",
   "id": "e0cc9868",
   "metadata": {
    "id": "e0cc9868"
   },
   "source": [
    ".\n",
    ".\n",
    "\n",
    "..\n",
    ".\n",
    ".\n",
    ".\n",
    "..\n",
    ".\n",
    ".\n",
    ".\n",
    ".\n",
    ".\n",
    ".\n",
    "\n",
    ".\n",
    ".\n",
    ".\n",
    "."
   ]
  },
  {
   "cell_type": "markdown",
   "id": "902c0c0c",
   "metadata": {
    "id": "902c0c0c"
   },
   "source": [
    "### Esse desafio de aprendizagem combina os conceitos que vimos até o momento, como estruturas de controle, manipulação de dicionários, listas e iterações. Ao concluir as tarefas e a reflexão, você estará aplicando diversos aspectos da programação em um cenário realista."
   ]
  },
  {
   "cell_type": "markdown",
   "id": "28843da0",
   "metadata": {
    "id": "28843da0"
   },
   "source": [
    "## Tarefas:"
   ]
  },
  {
   "cell_type": "markdown",
   "id": "e7c7fa1c",
   "metadata": {
    "id": "e7c7fa1c"
   },
   "source": [
    "## 1 - Registro de Empréstimos:\n",
    "\n",
    "### Registre os empréstimos de livros para os  alunos fictícios da escola.\n",
    "## 2 -  Avaliação de Livros:\n",
    "\n",
    "### Após os empréstimos, simule que os alunos leram os livros e atribua notas de avaliação aos livros emprestados.\n",
    "\n",
    "## 3 - Avaliação do Atendimento da Biblioteca:\n",
    "\n",
    "###  Registre avaliações do atendimento da biblioteca por parte dos alunos.\n",
    "\n",
    "## 4 - Imprimir Relatório:\n",
    "\n",
    "### Após realizar as ações anteriores, imprima um relatório que apresente as informações sobre os empréstimos, avaliações dos livros e a média das avaliações do atendimento da biblioteca.\n"
   ]
  },
  {
   "cell_type": "code",
   "execution_count": null,
   "id": "b56e49e3",
   "metadata": {
    "id": "b56e49e3"
   },
   "outputs": [],
   "source": [
    "# codigo aqui"
   ]
  },
  {
   "cell_type": "code",
   "execution_count": 2,
   "id": "42ffa086",
   "metadata": {
    "colab": {
     "base_uri": "https://localhost:8080/",
     "height": 140
    },
    "executionInfo": {
     "elapsed": 7,
     "status": "error",
     "timestamp": 1692734612254,
     "user": {
      "displayName": "Johnny Braga",
      "userId": "03578342034079492651"
     },
     "user_tz": 180
    },
    "id": "42ffa086",
    "outputId": "006f700e-0548-4ae7-e430-97157e12f5fa"
   },
   "outputs": [
    {
     "name": "stdout",
     "output_type": "stream",
     "text": [
      "1. Registrar Empréstimo\n",
      "2. Avaliar Livro (Após Leitura)\n",
      "3. Avaliar Atendimento da Biblioteca\n",
      "4. Imprimir Relatório\n",
      "5. Sair\n"
     ]
    },
    {
     "name": "stdin",
     "output_type": "stream",
     "text": [
      "Escolha uma opção:  5\n"
     ]
    },
    {
     "name": "stdout",
     "output_type": "stream",
     "text": [
      "Saindo do programa.\n"
     ]
    }
   ],
   "source": [
    "# Inicialização das estruturas de dados\n",
    "alunos = {}\n",
    "livros = {}\n",
    "atendimento_avaliacoes = []\n",
    "\n",
    "# Loop principal do programa\n",
    "while True:\n",
    "    print(\"1. Registrar Empréstimo\")\n",
    "    print(\"2. Avaliar Livro (Após Leitura)\")\n",
    "    print(\"3. Avaliar Atendimento da Biblioteca\")\n",
    "    print(\"4. Imprimir Relatório\")\n",
    "    print(\"5. Sair\")\n",
    "\n",
    "    escolha = input(\"Escolha uma opção: \")\n",
    "\n",
    "    if escolha == \"1\":\n",
    "        aluno = input(\"Digite o nome do aluno: \")\n",
    "        livro = input(\"Digite o título do livro: \")\n",
    "        prazo = int(input(\"Digite o prazo de entrega (em dias): \"))\n",
    "        alunos[aluno] = (livro, prazo)\n",
    "        print(\"Empréstimo registrado para {}.\\n\".format(aluno))\n",
    "\n",
    "    elif escolha == \"2\":\n",
    "        aluno = input(\"Digite o nome do aluno: \")\n",
    "        if aluno in alunos:\n",
    "            livro = alunos[aluno][0]\n",
    "            nota_livro = int(input(\"Digite a nota (de 0 a 10) para o livro '{}': \".format(livro)))\n",
    "            if livro in livros:\n",
    "                livros[livro][0].append(nota_livro)\n",
    "            else:\n",
    "                livros[livro] = [[nota_livro], {'bom': 0, 'regular': 0, 'ruim': 0, 'ótimo': 0}]\n",
    "            print(\"Avaliação registrada para o livro '{}'.\\n\".format(livro))\n",
    "            del alunos[aluno]\n",
    "        else:\n",
    "            print(\"Aluno não encontrado ou livro não foi emprestado a este aluno.\\n\")\n",
    "\n",
    "    elif escolha == \"3\":\n",
    "        avaliacao_atendimento = int(input(\"Avaliação do atendimento da biblioteca (de 0 a 10): \"))\n",
    "        atendimento_avaliacoes.append(avaliacao_atendimento)\n",
    "        print(\"Avaliação do atendimento registrada.\\n\")\n",
    "\n",
    "    elif escolha == \"4\":\n",
    "        print(\"R4\")\n",
    "\n",
    "        for aluno, (livro, prazo) in alunos.items():\n",
    "            print(\"Aluno: {} | Livro: {} | Prazo de Entrega: {} dias\".format(aluno, livro, prazo))\n",
    "        print(\"\\nAvaliações dos Livros:\")\n",
    "        for livro, (notas, avaliacoes) in livros.items():\n",
    "            media_livro = sum(notas) / len(notas)\n",
    "            print(\"Livro: {} | Avaliação Média: {:.2f}\".format(livro, media_livro))\n",
    "            print(\"Avaliações do Livro:\")\n",
    "            for avaliacao, quantidade in avaliacoes.items():\n",
    "                print(\"{}: {}\".format(avaliacao, quantidade))\n",
    "        if atendimento_avaliacoes:\n",
    "            media_atendimento = sum(atendimento_avaliacoes) / len(atendimento_avaliacoes)\n",
    "            print(\"\\nAvaliação do Atendimento da Biblioteca:\")\n",
    "            print(\"Média: {:.2f}\".format(media_atendimento))\n",
    "        print()\n",
    "\n",
    "    elif escolha == \"5\":\n",
    "        print(\"Saindo do programa.\")\n",
    "        break\n",
    "\n",
    "    else:\n",
    "        print(\"Opção inválida.\\n\")\n"
   ]
  },
  {
   "cell_type": "code",
   "execution_count": 6,
   "id": "5wiaZGnEubpO",
   "metadata": {
    "colab": {
     "base_uri": "https://localhost:8080/"
    },
    "executionInfo": {
     "elapsed": 226883,
     "status": "ok",
     "timestamp": 1692397296316,
     "user": {
      "displayName": "Johnny Braga",
      "userId": "03578342034079492651"
     },
     "user_tz": 180
    },
    "id": "5wiaZGnEubpO",
    "outputId": "730a608d-06a8-4a21-d9cc-de480c815f6e"
   },
   "outputs": [
    {
     "name": "stdout",
     "output_type": "stream",
     "text": [
      "1. Registrar Empréstimo\n",
      "2. Avaliar Livro (Após Leitura)\n",
      "3. Avaliar Atendimento da Biblioteca\n",
      "4. Imprimir Relatório\n",
      "5. Sair\n"
     ]
    },
    {
     "name": "stdin",
     "output_type": "stream",
     "text": [
      "Escolha uma opção:  5\n"
     ]
    },
    {
     "name": "stdout",
     "output_type": "stream",
     "text": [
      "Saindo do programa.\n"
     ]
    }
   ],
   "source": [
    "# Inicialização das estruturas de dados\n",
    "alunos = {}\n",
    "livros = {}\n",
    "atendimento_avaliacoes = []\n",
    "\n",
    "# Loop principal do programa\n",
    "while True:\n",
    "    print(\"1. Registrar Empréstimo\")\n",
    "    print(\"2. Avaliar Livro (Após Leitura)\")\n",
    "    print(\"3. Avaliar Atendimento da Biblioteca\")\n",
    "    print(\"4. Imprimir Relatório\")\n",
    "    print(\"5. Sair\")\n",
    "\n",
    "    escolha = input(\"Escolha uma opção: \")\n",
    "\n",
    "    if escolha == \"1\":\n",
    "        aluno = input(\"Digite o nome do aluno: \")\n",
    "        livro = input(\"Digite o título do livro: \")\n",
    "        prazo = int(input(\"Digite o prazo de entrega (em dias): \"))\n",
    "        alunos[aluno] = (livro, prazo)\n",
    "        print(\"Empréstimo registrado para {}.\\n\".format(aluno))\n",
    "\n",
    "    elif escolha == \"2\":\n",
    "        aluno = input(\"Digite o nome do aluno: \")\n",
    "        if aluno in alunos:\n",
    "            livro = alunos[aluno][0]\n",
    "            nota_livro = int(input(\"Digite a nota (de 0 a 10) para o livro '{}': \".format(livro)))\n",
    "            if livro in livros:\n",
    "                livros[livro][0].append(nota_livro)\n",
    "            else:\n",
    "                livros[livro] = [[nota_livro], {'bom': 0, 'regular': 0, 'ruim': 0, 'ótimo': 0}]\n",
    "            print(\"Avaliação registrada para o livro '{}'.\\n\".format(livro))\n",
    "            del alunos[aluno]\n",
    "        else:\n",
    "            print(\"Aluno não encontrado ou livro não foi emprestado a este aluno.\\n\")\n",
    "\n",
    "    elif escolha == \"3\":\n",
    "        avaliacao_atendimento = int(input(\"Avaliação do atendimento da biblioteca (de 0 a 10): \"))\n",
    "        atendimento_avaliacoes.append(avaliacao_atendimento)\n",
    "        print(\"Avaliação do atendimento registrada.\\n\")\n",
    "\n",
    "    elif escolha == \"4\":\n",
    "        print(\"Relatório:\")\n",
    "        for aluno, (livro, prazo) in alunos.items():\n",
    "            print(\"Aluno: {} | Livro: {} | Prazo de Entrega: {} dias\".format(aluno, livro, prazo))\n",
    "        print(\"\\nAvaliações dos Livros:\")\n",
    "        for livro, (notas, avaliacoes) in livros.items():\n",
    "            media_livro = round(sum(notas) / len(notas), 2)\n",
    "            print(\"Livro: {} | Avaliação Média: {:.2f}\".format(livro, media_livro))\n",
    "            print(\"Avaliações do Livro:\")\n",
    "            for avaliacao, quantidade in avaliacoes.items():\n",
    "                print(\"{}: {}\".format(avaliacao, quantidade))\n",
    "        if atendimento_avaliacoes:\n",
    "            media_atendimento = round(sum(atendimento_avaliacoes) / len(atendimento_avaliacoes), 2)\n",
    "            print(\"\\nAvaliação do Atendimento da Biblioteca:\")\n",
    "            print(\"Média: {:.2f}\".format(media_atendimento))\n",
    "        print()\n",
    "\n",
    "    elif escolha == \"5\":\n",
    "        print(\"Saindo do programa.\")\n",
    "        break\n",
    "\n",
    "    else:\n",
    "        print(\"Opção inválida.\\n\")\n"
   ]
  },
  {
   "cell_type": "code",
   "execution_count": null,
   "id": "_q0N3hBJvB4I",
   "metadata": {
    "colab": {
     "base_uri": "https://localhost:8080/",
     "height": 696
    },
    "executionInfo": {
     "elapsed": 23929,
     "status": "error",
     "timestamp": 1692734646146,
     "user": {
      "displayName": "Johnny Braga",
      "userId": "03578342034079492651"
     },
     "user_tz": 180
    },
    "id": "_q0N3hBJvB4I",
    "outputId": "43535d5b-ee50-48fd-b52a-79e4f184291f"
   },
   "outputs": [
    {
     "name": "stdout",
     "output_type": "stream",
     "text": [
      "Bem vindo a Biblioteca do Senai\n",
      "1. Registrar Empréstimo\n",
      "2. Avaliar Livro (Após Leitura)\n",
      "3. Avaliar Atendimento da Biblioteca\n",
      "4. Imprimir Relatório\n",
      "5. Sair\n"
     ]
    },
    {
     "name": "stdin",
     "output_type": "stream",
     "text": [
      "Escolha uma opção:  2\n",
      "Digite o nome do aluno:  Anderson\n"
     ]
    },
    {
     "name": "stdout",
     "output_type": "stream",
     "text": [
      "Aluno não encontrado ou livro não foi emprestado a este aluno.\n",
      "\n",
      "1. Registrar Empréstimo\n",
      "2. Avaliar Livro (Após Leitura)\n",
      "3. Avaliar Atendimento da Biblioteca\n",
      "4. Imprimir Relatório\n",
      "5. Sair\n"
     ]
    },
    {
     "name": "stdin",
     "output_type": "stream",
     "text": [
      "Escolha uma opção:  1\n",
      "Digite o nome do aluno:  Anderson\n",
      "Digite o título do livro:  A ONda\n",
      "Digite o prazo de entrega (em dias):  198\n"
     ]
    },
    {
     "name": "stdout",
     "output_type": "stream",
     "text": [
      "Empréstimo registrado para Anderson.\n",
      "\n",
      "1. Registrar Empréstimo\n",
      "2. Avaliar Livro (Após Leitura)\n",
      "3. Avaliar Atendimento da Biblioteca\n",
      "4. Imprimir Relatório\n",
      "5. Sair\n"
     ]
    },
    {
     "name": "stdin",
     "output_type": "stream",
     "text": [
      "Escolha uma opção:  2\n",
      "Digite o nome do aluno:  Anderson\n",
      "Digite a nota (de 0 a 10) para o livro 'A ONda':  8\n"
     ]
    },
    {
     "name": "stdout",
     "output_type": "stream",
     "text": [
      "Avaliação registrada para o livro 'A ONda'.\n",
      "\n",
      "1. Registrar Empréstimo\n",
      "2. Avaliar Livro (Após Leitura)\n",
      "3. Avaliar Atendimento da Biblioteca\n",
      "4. Imprimir Relatório\n",
      "5. Sair\n"
     ]
    },
    {
     "name": "stdin",
     "output_type": "stream",
     "text": [
      "Escolha uma opção:  4\n"
     ]
    },
    {
     "name": "stdout",
     "output_type": "stream",
     "text": [
      "Relatório:\n",
      "\n",
      "Avaliações dos Livros:\n",
      "\n",
      "1. Registrar Empréstimo\n",
      "2. Avaliar Livro (Após Leitura)\n",
      "3. Avaliar Atendimento da Biblioteca\n",
      "4. Imprimir Relatório\n",
      "5. Sair\n"
     ]
    },
    {
     "name": "stdin",
     "output_type": "stream",
     "text": [
      "Escolha uma opção:  5\n"
     ]
    },
    {
     "name": "stdout",
     "output_type": "stream",
     "text": [
      "Saindo do programa.\n",
      "1. Registrar Empréstimo\n",
      "2. Avaliar Livro (Após Leitura)\n",
      "3. Avaliar Atendimento da Biblioteca\n",
      "4. Imprimir Relatório\n",
      "5. Sair\n"
     ]
    },
    {
     "name": "stdin",
     "output_type": "stream",
     "text": [
      "Escolha uma opção:  5\n"
     ]
    },
    {
     "name": "stdout",
     "output_type": "stream",
     "text": [
      "Saindo do programa.\n",
      "1. Registrar Empréstimo\n",
      "2. Avaliar Livro (Após Leitura)\n",
      "3. Avaliar Atendimento da Biblioteca\n",
      "4. Imprimir Relatório\n",
      "5. Sair\n"
     ]
    }
   ],
   "source": [
    "# Inicialização das estruturas de dados\n",
    "\n",
    "\n",
    "print(\"Bem vindo a Biblioteca do Senai\")\n",
    "alunos = {}\n",
    "livros = {}\n",
    "atendimento_avaliacoes = []\n",
    "\n",
    "# Loop principal do programa\n",
    "def principal():\n",
    "    while True:\n",
    "        print(\"1. Registrar Empréstimo\")\n",
    "        print(\"2. Avaliar Livro (Após Leitura)\")\n",
    "        print(\"3. Avaliar Atendimento da Biblioteca\")\n",
    "        print(\"4. Imprimir Relatório\")\n",
    "        print(\"5. Sair\")\n",
    "    \n",
    "        escolha = input(\"Escolha uma opção: \")\n",
    "\n",
    "        if escolha == \"1\":\n",
    "            escolha_um()\n",
    "            \n",
    "        elif escolha == \"2\":\n",
    "            escolha_dois()\n",
    "    \n",
    "        elif escolha == \"3\":\n",
    "            escolha_tres()\n",
    "    \n",
    "        elif escolha == \"4\":\n",
    "            escolha_quatro()\n",
    "    \n",
    "        elif escolha == \"5\":\n",
    "            escolha_cinco()\n",
    "            break\n",
    "            \n",
    "        else:\n",
    "            print(\"Opção inválida.\\n\")\n",
    "\n",
    "def escolha_um():\n",
    "    aluno = input(\"Digite o nome do aluno: \")\n",
    "    livro = input(\"Digite o título do livro: \")\n",
    "    prazo = int(input(\"Digite o prazo de entrega (em dias): \"))\n",
    "    alunos[aluno] = (livro, prazo)\n",
    "    print(\"Empréstimo registrado para {}.\\n\".format(aluno))\n",
    "    principal()\n",
    "\n",
    "def escolha_dois():\n",
    "    aluno = input(\"Digite o nome do aluno: \")\n",
    "    if aluno in alunos:\n",
    "        livro = alunos[aluno][0]\n",
    "        nota_livro = int(input(\"Digite a nota (de 0 a 10) para o livro '{}': \".format(livro)))\n",
    "        if livro in livros:\n",
    "            livros[livro][0].append(nota_livro)\n",
    "        else:\n",
    "            livros[livro] = [[nota_livro], {'bom': 0, 'regular': 0, 'ruim': 0, 'ótimo': 0}]\n",
    "        print(\"Avaliação registrada para o livro '{}'.\\n\".format(livro))\n",
    "        del alunos[aluno]\n",
    "    else:\n",
    "        print(\"Aluno não encontrado ou livro não foi emprestado a este aluno.\\n\")\n",
    "    principal()\n",
    "\n",
    "def escolha_tres():\n",
    "    avaliacao_atendimento = int(input(\"Avaliação do atendimento da biblioteca (de 0 a 10): \"))\n",
    "    atendimento_avaliacoes.append(avaliacao_atendimento)\n",
    "    print(\"Avaliação do atendimento registrada.\\n\")\n",
    "    principal()\n",
    "\n",
    "def escolha_quatro():\n",
    "    print(\"Relatório:\")\n",
    "    for aluno, (livro, prazo) in alunos.items():\n",
    "        print(\"Aluno: {} | Livro: {} | Prazo de Entrega: {} dias\".format(aluno, livro, prazo))\n",
    "    print(\"\\nAvaliações dos Livros:\")\n",
    "    for livro, (notas, avaliacoes) in livros.items():\n",
    "        media_livro = round(sum(notas) / len(notas), 2)\n",
    "        print(\"Livro: {} | Avaliação Média: {}\".format(livro, round(media_livro, 2)))\n",
    "        print(\"Avaliações do Livro:\")\n",
    "        for avaliacao, quantidade in avaliacoes.items():\n",
    "            print(\"{}: {}\".format(avaliacao, quantidade))\n",
    "    if atendimento_avaliacoes:\n",
    "        media_atendimento = round(sum(atendimento_avaliacoes) / len(atendimento_avaliacoes), 2)\n",
    "        print(\"\\nAvaliação do Atendimento da Biblioteca:\")\n",
    "        print(\"Média: {}\".format(round(media_atendimento, 2)))\n",
    "    print()\n",
    "    principal()\n",
    "\n",
    "def escolha_cinco():\n",
    "    print(\"Saindo do programa.\")\n",
    "\n",
    "principal()"
   ]
  },
  {
   "cell_type": "code",
   "execution_count": null,
   "id": "ed7aba5f",
   "metadata": {
    "id": "ed7aba5f"
   },
   "outputs": [],
   "source": []
  },
  {
   "cell_type": "code",
   "execution_count": null,
   "id": "9de53344",
   "metadata": {
    "id": "9de53344"
   },
   "outputs": [],
   "source": []
  }
 ],
 "metadata": {
  "colab": {
   "provenance": []
  },
  "kernelspec": {
   "display_name": "Python 3 (ipykernel)",
   "language": "python",
   "name": "python3"
  },
  "language_info": {
   "codemirror_mode": {
    "name": "ipython",
    "version": 3
   },
   "file_extension": ".py",
   "mimetype": "text/x-python",
   "name": "python",
   "nbconvert_exporter": "python",
   "pygments_lexer": "ipython3",
   "version": "3.11.3"
  }
 },
 "nbformat": 4,
 "nbformat_minor": 5
}
