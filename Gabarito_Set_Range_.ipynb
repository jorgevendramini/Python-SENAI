{
 "cells": [
  {
   "cell_type": "markdown",
   "metadata": {
    "id": "rsCcO7j-xv-T"
   },
   "source": [
    "# Exercícios iterables - set - range"
   ]
  },
  {
   "cell_type": "markdown",
   "metadata": {
    "id": "p15zoqjcx_E0"
   },
   "source": [
    "\n",
    "\n",
    "\n",
    "\n",
    "\n",
    "\n",
    "\n",
    "\n",
    "\n",
    "."
   ]
  },
  {
   "cell_type": "markdown",
   "metadata": {
    "id": "KwqaC7qlxpsE"
   },
   "source": [
    "# Vamos mergulhar em uma jornada empolgante pelo mundo da programação em Python, explorando dois métodos poderosos: set() e range(). Vamos entender por que esses métodos são essenciais e como eles podem ser aplicados em várias situações para resolver problemas de maneira eficaz e elegante."
   ]
  },
  {
   "cell_type": "code",
   "execution_count": null,
   "metadata": {
    "id": "0ODmnhidtw-Q"
   },
   "outputs": [],
   "source": []
  },
  {
   "cell_type": "code",
   "execution_count": null,
   "metadata": {
    "id": "pbRVWhjYtxAQ"
   },
   "outputs": [],
   "source": []
  },
  {
   "cell_type": "markdown",
   "metadata": {
    "id": "P9Aqv322t_p4"
   },
   "source": [
    "Um usuário deseja gerar um conjunto de números de 0 até o valor que ele fornece como entrada. Ele quer ver a sequência de números até esse ponto.\n",
    "\n",
    "Exercício 1:\n",
    "Peça ao usuário para digitar um número inteiro. Use o método range() para gerar os números de 0 até esse número e, em seguida, crie um conjunto (set()) a partir desses números. Finalmente, exiba o conjunto resultante."
   ]
  },
  {
   "cell_type": "code",
   "execution_count": 14,
   "metadata": {
    "colab": {
     "base_uri": "https://localhost:8080/"
    },
    "executionInfo": {
     "elapsed": 4124,
     "status": "ok",
     "timestamp": 1692227846912,
     "user": {
      "displayName": "Johnny Braga",
      "userId": "03578342034079492651"
     },
     "user_tz": 180
    },
    "id": "50hnSiHbuHbq",
    "outputId": "91abf4b0-45ea-4fc1-a6b5-c6fe9d45c548"
   },
   "outputs": [
    {
     "name": "stdout",
     "output_type": "stream",
     "text": [
      "Digite um número inteiro: 20\n",
      "{0, 1, 2, 3, 4, 5, 6, 7, 8, 9, 10, 11, 12, 13, 14, 15, 16, 17, 18, 19, 20}\n"
     ]
    }
   ],
   "source": [
    "# Solicita ao usuário um número inteiro\n",
    "num = int(input(\"Digite um número inteiro: \"))\n",
    "\n",
    "# Cria um conjunto usando a função range() para conter números de 0 até num (inclusive)\n",
    "num_set = set(range(num + 1))\n",
    "\n",
    "# Imprime o conjunto num_set\n",
    "print(num_set)\n",
    "\n"
   ]
  },
  {
   "cell_type": "markdown",
   "metadata": {
    "id": "2u4CTx1xuNm4"
   },
   "source": [
    "Um professor quer criar um conjunto de notas dos alunos em uma faixa específica. Ele deseja saber as notas únicas nessa faixa.\n",
    "\n",
    "Exercício 2:\n",
    "Peça ao usuário para digitar um intervalo de notas, por exemplo, de 0 a 100. Utilize o método range() para gerar uma lista de notas nesse intervalo. Converta essa lista em um conjunto (set()) e exiba-o."
   ]
  },
  {
   "cell_type": "code",
   "execution_count": null,
   "metadata": {
    "colab": {
     "base_uri": "https://localhost:8080/"
    },
    "executionInfo": {
     "elapsed": 7793,
     "status": "ok",
     "timestamp": 1692219183220,
     "user": {
      "displayName": "Johnny Braga",
      "userId": "03578342034079492651"
     },
     "user_tz": 180
    },
    "id": "MnavU_4cuYeM",
    "outputId": "641fa2ff-f40d-4cb4-ec6b-b6ad2464574f"
   },
   "outputs": [
    {
     "name": "stdout",
     "output_type": "stream",
     "text": [
      "Digite a nota mínima: 1\n",
      "Digite a nota máxima: 10\n",
      "{1, 2, 3, 4, 5, 6, 7, 8, 9, 10}\n"
     ]
    }
   ],
   "source": [
    "# Solicita ao usuário a nota mínima\n",
    "min_grade = int(input(\"Digite a nota mínima: \"))\n",
    "\n",
    "# Solicita ao usuário a nota máxima\n",
    "max_grade = int(input(\"Digite a nota máxima: \"))\n",
    "\n",
    "# Cria uma sequência de notas usando a função range() para conter notas de min_grade até max_grade (inclusive)\n",
    "grade_range = range(min_grade, max_grade + 1)\n",
    "\n",
    "# Cria um conjunto de notas usando a sequência grade_range\n",
    "grade_set = set(grade_range)\n",
    "\n",
    "# Imprime o conjunto de notas grade_set\n",
    "print(grade_set)\n"
   ]
  },
  {
   "cell_type": "markdown",
   "metadata": {
    "id": "DDIDT61luYpt"
   },
   "source": [
    "Você está organizando um evento onde precisa distribuir números de identificação únicos para os participantes. Cada número deve ser par e estar dentro de um certo intervalo.\n",
    "\n",
    "Exercício 3:\n",
    "Defina um intervalo de números, como de 10 a 50. Utilize o método range() para gerar uma lista de números pares dentro desse intervalo. Converta essa lista em um conjunto (set()) e exiba-o."
   ]
  },
  {
   "cell_type": "code",
   "execution_count": 13,
   "metadata": {
    "colab": {
     "base_uri": "https://localhost:8080/"
    },
    "executionInfo": {
     "elapsed": 7648,
     "status": "ok",
     "timestamp": 1692219452437,
     "user": {
      "displayName": "Johnny Braga",
      "userId": "03578342034079492651"
     },
     "user_tz": 180
    },
    "id": "GAJeCjqFuiLe",
    "outputId": "196d1fbb-7dbb-4eda-968e-b0a1d1d5fd20"
   },
   "outputs": [
    {
     "name": "stdout",
     "output_type": "stream",
     "text": [
      "Digite o número inicial: 2\n",
      "Digite o número final: 8\n",
      "{8, 2, 4, 6}\n"
     ]
    }
   ],
   "source": [
    "# Solicita ao usuário o número inicial\n",
    "pri_num = int(input(\"Digite o número inicial: \"))\n",
    "\n",
    "# Solicita ao usuário o número final\n",
    "ultimo_num = int(input(\"Digite o número final: \"))\n",
    "\n",
    "# Cria uma lista de números pares dentro do intervalo [start_num, end_num]\n",
    "varios_num = [num for num in range(pri_num, ultimo_num + 1) if num % 2 == 0]\n",
    "\n",
    "# Cria um conjunto de números pares a partir da lista even_numbers\n",
    "Result = set(varios_num)\n",
    "\n",
    "# Imprime o conjunto de números pares even_set\n",
    "print(Result)\n",
    "\n"
   ]
  },
  {
   "cell_type": "markdown",
   "metadata": {
    "id": "BMmP5QubujDM"
   },
   "source": [
    "Um usuário deseja saber todos os divisores de um número inteiro que ele fornece. Ele está interessado apenas nos divisores até a raiz quadrada desse número.\n",
    "\n",
    "Exercício 4:\n",
    "Peça ao usuário para digitar um número inteiro. Utilize o método range() para iterar sobre os números de 1 até a raiz quadrada desse número. Se o número for divisível por um valor no intervalo, adicione-o a um conjunto (set()) de divisores. Exiba o conjunto resultante."
   ]
  },
  {
   "cell_type": "code",
   "execution_count": null,
   "metadata": {
    "colab": {
     "base_uri": "https://localhost:8080/"
    },
    "executionInfo": {
     "elapsed": 4285,
     "status": "ok",
     "timestamp": 1692219053518,
     "user": {
      "displayName": "Johnny Braga",
      "userId": "03578342034079492651"
     },
     "user_tz": 180
    },
    "id": "6pQjVSnEG_zB",
    "outputId": "98a2d32b-705c-4c7c-c84a-9a71fe6ab9cb"
   },
   "outputs": [
    {
     "name": "stdout",
     "output_type": "stream",
     "text": [
      "Digite um número inteiro: 10\n",
      "[1, 2, 5, 10]\n"
     ]
    }
   ],
   "source": [
    "# Solicita ao usuário que digite um número inteiro e converte a entrada em um inteiro.\n",
    "num = int(input(\"Digite um número inteiro: \"))\n",
    "\n",
    "# Inicializa uma lista vazia para armazenar os divisores do número.\n",
    "divisors = []\n",
    "\n",
    "# Loop que itera sobre os valores de i no intervalo de 1 até o número inserido + 1.\n",
    "for i in range(1, num + 1):\n",
    "    # Verifica se o número é divisível por i.\n",
    "    if num % i == 0:\n",
    "        # Se for divisível, adiciona i à lista de divisores.\n",
    "        divisors.append(i)\n",
    "\n",
    "# Ao final do loop, a lista \"divisors\" contém todos os divisores do número.\n",
    "\n",
    "# Imprime a lista de divisores na saída.\n",
    "print(divisors)"
   ]
  },
  {
   "cell_type": "code",
   "execution_count": null,
   "metadata": {
    "colab": {
     "base_uri": "https://localhost:8080/"
    },
    "executionInfo": {
     "elapsed": 5125,
     "status": "ok",
     "timestamp": 1692145381511,
     "user": {
      "displayName": "Johnny Braga",
      "userId": "03578342034079492651"
     },
     "user_tz": 180
    },
    "id": "Mzq-fEVHunuY",
    "outputId": "39b4b39f-2268-4a63-e6f3-f8d31fcdf214"
   },
   "outputs": [
    {
     "name": "stdout",
     "output_type": "stream",
     "text": [
      "Digite um número inteiro: 10\n",
      "{1, 10, 2, 5}\n"
     ]
    }
   ],
   "source": [
    "num = int(input(\"Digite um número inteiro: \"))\n",
    "divisors = set()\n",
    "for i in range(1, int(num ** 0.5) + 1):\n",
    "    if num % i == 0:\n",
    "        divisors.add(i)\n",
    "        divisors.add(num // i)\n",
    "print(divisors)\n"
   ]
  },
  {
   "cell_type": "code",
   "execution_count": null,
   "metadata": {
    "id": "C5xdlM_qG--4"
   },
   "outputs": [],
   "source": []
  },
  {
   "cell_type": "code",
   "execution_count": null,
   "metadata": {
    "colab": {
     "base_uri": "https://localhost:8080/"
    },
    "executionInfo": {
     "elapsed": 4542,
     "status": "ok",
     "timestamp": 1692145555514,
     "user": {
      "displayName": "Johnny Braga",
      "userId": "03578342034079492651"
     },
     "user_tz": 180
    },
    "id": "IFkoz7Dqu_sC",
    "outputId": "2406209c-4abf-4c8c-b406-54a1d8d71544"
   },
   "outputs": [
    {
     "name": "stdout",
     "output_type": "stream",
     "text": [
      "Digite um número inteiro: 10\n",
      "[1, 2, 5, 10]\n"
     ]
    }
   ],
   "source": [
    "# Solicita ao usuário que digite um número inteiro e converte a entrada em um inteiro.\n",
    "num = int(input(\"Digite um número inteiro: \"))\n",
    "\n",
    "# Inicializa uma lista vazia para armazenar os divisores do número.\n",
    "divisors = []\n",
    "\n",
    "# Loop que itera sobre os valores de i no intervalo de 1 até o número inserido + 1.\n",
    "for i in range(1, num + 1):\n",
    "    # Verifica se o número é divisível por i.\n",
    "    if num % i == 0:\n",
    "        # Se for divisível, adiciona i à lista de divisores.\n",
    "        divisors.append(i)\n",
    "\n",
    "# Ao final do loop, a lista \"divisors\" contém todos os divisores do número.\n",
    "\n",
    "# Imprime a lista de divisores na saída.\n",
    "print(divisors)\n"
   ]
  },
  {
   "cell_type": "markdown",
   "metadata": {
    "id": "J7c5jaSfvRLA"
   },
   "source": [
    "Exercício 5:  Desenvolva um programa que gere um conjunto de letras únicas em uma string dada, utilizando o método set() e um loop sobre a string utilizando o range()."
   ]
  },
  {
   "cell_type": "code",
   "execution_count": null,
   "metadata": {
    "colab": {
     "base_uri": "https://localhost:8080/"
    },
    "executionInfo": {
     "elapsed": 5513,
     "status": "ok",
     "timestamp": 1692219490312,
     "user": {
      "displayName": "Johnny Braga",
      "userId": "03578342034079492651"
     },
     "user_tz": 180
    },
    "id": "7ahac2XWvkEp",
    "outputId": "052e6e21-5f66-46f1-e731-b5f5c20556db"
   },
   "outputs": [
    {
     "name": "stdout",
     "output_type": "stream",
     "text": [
      "Digite uma string: johnny\n",
      "{'h', 'j', 'y', 'n', 'o'}\n"
     ]
    }
   ],
   "source": [
    "# Solicita ao usuário uma string\n",
    "input_string = input(\"Digite uma string: \")\n",
    "\n",
    "# Cria um conjunto contendo os caracteres únicos da string\n",
    "unique_chars = set(input_string)\n",
    "\n",
    "# Imprime o conjunto de caracteres únicos\n",
    "print(unique_chars)\n",
    "\n",
    "\n"
   ]
  },
  {
   "cell_type": "markdown",
   "metadata": {
    "id": "BaO0w4pevrjx"
   },
   "source": [
    "Exercício 6:\n",
    "Situação-Problema: Um professor deseja manter um registro dos livros lidos por seus alunos durante o ano. Ele quer um conjunto de títulos únicos dos livros."
   ]
  },
  {
   "cell_type": "code",
   "execution_count": null,
   "metadata": {
    "colab": {
     "base_uri": "https://localhost:8080/"
    },
    "executionInfo": {
     "elapsed": 22858,
     "status": "ok",
     "timestamp": 1692219585369,
     "user": {
      "displayName": "Johnny Braga",
      "userId": "03578342034079492651"
     },
     "user_tz": 180
    },
    "id": "l0_grl3mwHPk",
    "outputId": "637dd7d9-2a85-467c-8e81-4eaa3189325e"
   },
   "outputs": [
    {
     "name": "stdout",
     "output_type": "stream",
     "text": [
      "Quantos livros você leu este ano? 5\n",
      "Digite o título do livro: a lagoa azul\n",
      "Digite o título do livro: teste\n",
      "Digite o título do livro: testa2\n",
      "Digite o título do livro: mama\n",
      "Digite o título do livro: hada\n",
      "Títulos únicos dos livros lidos: {'mama', 'a lagoa azul', 'testa2', 'hada', 'teste'}\n"
     ]
    }
   ],
   "source": [
    "# Cria um conjunto vazio para armazenar os títulos dos livros\n",
    "titulos_livros = set()\n",
    "\n",
    "# Solicita ao usuário quantos livros foram lidos este ano\n",
    "num_livros = int(input(\"Quantos livros você leu este ano? \"))\n",
    "\n",
    "# Loop para adicionar os títulos dos livros ao conjunto\n",
    "for _ in range(num_livros):\n",
    "    titulo = input(\"Digite o título do livro: \")\n",
    "    titulos_livros.add(titulo)\n",
    "\n",
    "# Imprime os títulos únicos dos livros lidos\n",
    "print(\"Títulos únicos dos livros lidos:\", titulos_livros)\n",
    "\n",
    "\n"
   ]
  },
  {
   "cell_type": "markdown",
   "metadata": {
    "id": "esuu-ylmwHkc"
   },
   "source": [
    "Exercício 7:\n",
    "Situação-Problema: Um programador está verificando erros de digitação em um trecho de código. Ela quer encontrar todas as teclas únicas pressionadas durante a digitação."
   ]
  },
  {
   "cell_type": "code",
   "execution_count": null,
   "metadata": {
    "colab": {
     "base_uri": "https://localhost:8080/"
    },
    "executionInfo": {
     "elapsed": 4491,
     "status": "ok",
     "timestamp": 1692219627692,
     "user": {
      "displayName": "Johnny Braga",
      "userId": "03578342034079492651"
     },
     "user_tz": 180
    },
    "id": "VljkEbiDwP1V",
    "outputId": "822a7111-9387-4471-9dce-7c5c842bbe4e"
   },
   "outputs": [
    {
     "name": "stdout",
     "output_type": "stream",
     "text": [
      "Digite um trecho de texto: gdoaos\n",
      "Teclas únicas pressionadas: {'d', 'g', 'o', 'a', 's'}\n"
     ]
    }
   ],
   "source": [
    "# Solicita ao usuário para digitar um trecho de texto\n",
    "texto_digitado = input(\"Digite um trecho de texto: \")\n",
    "\n",
    "# Cria um conjunto contendo as teclas únicas pressionadas no texto\n",
    "teclas_unicas = set(texto_digitado)\n",
    "\n",
    "# Imprime as teclas únicas pressionadas\n",
    "print(\"Teclas únicas pressionadas:\", teclas_unicas)\n",
    "\n",
    "\n"
   ]
  },
  {
   "cell_type": "markdown",
   "metadata": {
    "id": "3_XLTZG4wQXN"
   },
   "source": [
    "Exercício 8:\n",
    "Situação-Problema: Um jogador de palavras cruzadas deseja saber todas as letras únicas que ele já utilizou em suas palavras."
   ]
  },
  {
   "cell_type": "code",
   "execution_count": null,
   "metadata": {
    "colab": {
     "base_uri": "https://localhost:8080/"
    },
    "executionInfo": {
     "elapsed": 285,
     "status": "ok",
     "timestamp": 1692219665811,
     "user": {
      "displayName": "Johnny Braga",
      "userId": "03578342034079492651"
     },
     "user_tz": 180
    },
    "id": "_S-fFWnHwaH2",
    "outputId": "892a1d02-ce15-43a9-e70e-80b24a6cbc60"
   },
   "outputs": [
    {
     "name": "stdout",
     "output_type": "stream",
     "text": [
      "Letras únicas usadas nas palavras: {'r', 'm', 'b', 'u', 'ç', 'v', 'ã', 'j', 'l', 'n', 'a'}\n"
     ]
    }
   ],
   "source": [
    "# Lista de palavras do jogo de palavras cruzadas\n",
    "palavras_palavras_cruzadas = [\"maçã\", \"banana\", \"uva\", \"laranja\"]\n",
    "\n",
    "# Conjunto para armazenar as letras únicas usadas nas palavras\n",
    "letras_usadas = set()\n",
    "\n",
    "# Loop para percorrer cada palavra nas palavras do jogo\n",
    "for palavra in palavras_palavras_cruzadas:\n",
    "    # Loop para percorrer cada letra na palavra\n",
    "    for letra in palavra:\n",
    "        letras_usadas.add(letra)\n",
    "\n",
    "# Imprime as letras únicas usadas nas palavras\n",
    "print(\"Letras únicas usadas nas palavras:\", letras_usadas)\n",
    "\n"
   ]
  },
  {
   "cell_type": "markdown",
   "metadata": {
    "id": "7kzPhQEmwaUO"
   },
   "source": [
    "Exercício 9:\n",
    "Situação-Problema: Um gerente de loja deseja criar um programa de fidelidade. Ele quer manter um registro único dos números de telefone dos clientes que realizam compras."
   ]
  },
  {
   "cell_type": "code",
   "execution_count": null,
   "metadata": {
    "colab": {
     "base_uri": "https://localhost:8080/"
    },
    "executionInfo": {
     "elapsed": 9548,
     "status": "ok",
     "timestamp": 1692219736841,
     "user": {
      "displayName": "Johnny Braga",
      "userId": "03578342034079492651"
     },
     "user_tz": 180
    },
    "id": "GFgOtH2kwerm",
    "outputId": "546853ba-5cbe-4146-d672-e203459c508f"
   },
   "outputs": [
    {
     "name": "stdout",
     "output_type": "stream",
     "text": [
      "Quantos clientes fizeram compras hoje? 2\n",
      "Digite o número de telefone do cliente: 32312132\n",
      "Digite o número de telefone do cliente: 2312312\n",
      "Números de telefone únicos dos clientes: {'32312132', '2312312'}\n"
     ]
    }
   ],
   "source": [
    "# Conjunto vazio para armazenar os números de telefone dos clientes\n",
    "numeros_telefone_clientes = set()\n",
    "\n",
    "# Solicita ao usuário quantos clientes fizeram compras hoje\n",
    "num_clientes = int(input(\"Quantos clientes fizeram compras hoje? \"))\n",
    "\n",
    "# Loop para adicionar os números de telefone dos clientes ao conjunto\n",
    "for _ in range(num_clientes):\n",
    "    numero_telefone = input(\"Digite o número de telefone do cliente: \")\n",
    "    numeros_telefone_clientes.add(numero_telefone)\n",
    "\n",
    "# Imprime os números de telefone únicos dos clientes\n",
    "print(\"Números de telefone únicos dos clientes:\", numeros_telefone_clientes)\n",
    "\n"
   ]
  },
  {
   "cell_type": "markdown",
   "metadata": {
    "id": "d_RYimcpweye"
   },
   "source": [
    "Exercício 10:\n",
    "Situação-Problema: Você está organizando um torneio esportivo e precisa criar um conjunto de equipes únicas que se inscreveram."
   ]
  },
  {
   "cell_type": "code",
   "execution_count": null,
   "metadata": {
    "colab": {
     "base_uri": "https://localhost:8080/"
    },
    "executionInfo": {
     "elapsed": 10929,
     "status": "ok",
     "timestamp": 1692219776487,
     "user": {
      "displayName": "Johnny Braga",
      "userId": "03578342034079492651"
     },
     "user_tz": 180
    },
    "id": "lJ5-G-m7wjV3",
    "outputId": "c61efaca-e32c-4f2a-8bb3-1116ba7411d8"
   },
   "outputs": [
    {
     "name": "stdout",
     "output_type": "stream",
     "text": [
      "Quantas equipes estão se inscrevendo no torneio? 3\n",
      "Digite o nome da equipe 1: johnn\n",
      "Digite o nome da equipe 2: jonny\n",
      "Digite o nome da equipe 3: johnny\n",
      "Equipes únicas registradas: {'johnny', 'jonny', 'johnn'}\n"
     ]
    }
   ],
   "source": [
    "# Conjunto vazio para armazenar os nomes das equipes registradas\n",
    "equipes_registradas = set()\n",
    "\n",
    "# Solicita ao usuário quantas equipes estão se inscrevendo no torneio\n",
    "num_equipes = int(input(\"Quantas equipes estão se inscrevendo no torneio? \"))\n",
    "\n",
    "# Loop para adicionar os nomes das equipes registradas ao conjunto\n",
    "for i in range(1, num_equipes + 1):\n",
    "    nome_equipe = input(f\"Digite o nome da equipe {i}: \")\n",
    "    equipes_registradas.add(nome_equipe)\n",
    "\n",
    "# Imprime os nomes das equipes únicas registradas\n",
    "print(\"Equipes únicas registradas:\", equipes_registradas)\n",
    "\n"
   ]
  },
  {
   "cell_type": "markdown",
   "metadata": {
    "id": "9A3ObHIhuoJ4"
   },
   "source": []
  }
 ],
 "metadata": {
  "colab": {
   "provenance": []
  },
  "kernelspec": {
   "display_name": "Python 3 (ipykernel)",
   "language": "python",
   "name": "python3"
  },
  "language_info": {
   "codemirror_mode": {
    "name": "ipython",
    "version": 3
   },
   "file_extension": ".py",
   "mimetype": "text/x-python",
   "name": "python",
   "nbconvert_exporter": "python",
   "pygments_lexer": "ipython3",
   "version": "3.11.3"
  }
 },
 "nbformat": 4,
 "nbformat_minor": 1
}
