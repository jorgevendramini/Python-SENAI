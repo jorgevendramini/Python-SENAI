{
 "cells": [
  {
   "cell_type": "markdown",
   "id": "0286ce51",
   "metadata": {},
   "source": [
    "### Converta os códigos tradicionais que usam FOR para o método utilizando list comprehension\n",
    "####   ***** Tente fazer sozinho antes de consultar  *****"
   ]
  },
  {
   "cell_type": "markdown",
   "id": "27efc985",
   "metadata": {},
   "source": [
    "#### Exercício 1:\n",
    "\n",
    "Crie uma lista que contenha os quadrados dos números de 0 a 9."
   ]
  },
  {
   "cell_type": "code",
   "execution_count": null,
   "id": "1df363a5",
   "metadata": {},
   "outputs": [],
   "source": [
    "# Usando for\n",
    "squares = []\n",
    "for num in range(10):\n",
    "    squares.append(num ** 2)\n",
    "\n"
   ]
  },
  {
   "cell_type": "code",
   "execution_count": null,
   "id": "5caf5bcf",
   "metadata": {},
   "outputs": [],
   "source": [
    "# Usando list comprehension\n",
    "squares = [num ** 2 for num in range(10)]"
   ]
  },
  {
   "cell_type": "markdown",
   "id": "150e24d1",
   "metadata": {},
   "source": [
    "#### Exercício 2:\n",
    "Dada uma lista de palavras, crie uma nova lista contendo o comprimento de cada palavra.\n",
    "\n",
    "python\n"
   ]
  },
  {
   "cell_type": "code",
   "execution_count": null,
   "id": "fb089d84",
   "metadata": {},
   "outputs": [],
   "source": [
    "# Usando for\n",
    "words = [\"python\", \"list\", \"comprehension\", \"exercise\"]\n",
    "word_lengths = []\n",
    "for word in words:\n",
    "    word_lengths.append(len(word))\n",
    "    \n",
    "    "
   ]
  },
  {
   "cell_type": "code",
   "execution_count": null,
   "id": "46e79fd1",
   "metadata": {},
   "outputs": [],
   "source": [
    "# Usando list comprehension\n",
    "word_lengths = [len(word) for word in words]"
   ]
  },
  {
   "cell_type": "markdown",
   "id": "73ee44fc",
   "metadata": {},
   "source": [
    "#### Exercício 3:\n",
    "Dada uma lista de números, crie uma nova lista que contenha apenas os números pares."
   ]
  },
  {
   "cell_type": "code",
   "execution_count": null,
   "id": "4eed7ae1",
   "metadata": {},
   "outputs": [],
   "source": [
    "# Usando for\n",
    "numbers = [1, 2, 3, 4, 5, 6, 7, 8, 9, 10]\n",
    "even_numbers = []\n",
    "for num in numbers:\n",
    "    if num % 2 == 0:\n",
    "        even_numbers.append(num)\n",
    "        \n",
    "        "
   ]
  },
  {
   "cell_type": "code",
   "execution_count": null,
   "id": "c870e1b6",
   "metadata": {},
   "outputs": [],
   "source": [
    "# Usando list comprehension\n",
    "even_numbers = [num for num in numbers if num % 2 == 0]"
   ]
  },
  {
   "cell_type": "markdown",
   "id": "d70b2eac",
   "metadata": {},
   "source": [
    "#### Exercício 4:\n",
    "Crie uma lista com os cubos dos números de 1 a 5, apenas se o cubo for ímpar.\n",
    "\n",
    "python\n"
   ]
  },
  {
   "cell_type": "code",
   "execution_count": null,
   "id": "fea03eaf",
   "metadata": {},
   "outputs": [],
   "source": [
    "# Usando for\n",
    "cubes = []\n",
    "for num in range(1, 6):\n",
    "    cube = num ** 3\n",
    "    if cube % 2 != 0:\n",
    "        cubes.append(cube)\n",
    "\n"
   ]
  },
  {
   "cell_type": "code",
   "execution_count": null,
   "id": "10ca3d9c",
   "metadata": {},
   "outputs": [],
   "source": [
    "# Usando list comprehension\n",
    "cubes = [num ** 3 for num in range(1, 6) if (num ** 3) % 2 != 0]"
   ]
  },
  {
   "cell_type": "markdown",
   "id": "27bff159",
   "metadata": {},
   "source": [
    "#### Exercício 5:\n",
    "Dada uma lista de números, crie uma nova lista que contenha apenas os números maiores que 5."
   ]
  },
  {
   "cell_type": "code",
   "execution_count": null,
   "id": "05e27170",
   "metadata": {},
   "outputs": [],
   "source": [
    "# Usando for\n",
    "numbers = [3, 7, 1, 10, 4, 8, 6]\n",
    "greater_than_five = []\n",
    "for num in numbers:\n",
    "    if num > 5:\n",
    "        greater_than_five.append(num)\n",
    "\n"
   ]
  },
  {
   "cell_type": "code",
   "execution_count": null,
   "id": "83203ad4",
   "metadata": {},
   "outputs": [],
   "source": [
    "# Usando list comprehension\n",
    "greater_than_five = [num for num in numbers if num > 5]"
   ]
  }
 ],
 "metadata": {
  "kernelspec": {
   "display_name": "Python 3 (ipykernel)",
   "language": "python",
   "name": "python3"
  },
  "language_info": {
   "codemirror_mode": {
    "name": "ipython",
    "version": 3
   },
   "file_extension": ".py",
   "mimetype": "text/x-python",
   "name": "python",
   "nbconvert_exporter": "python",
   "pygments_lexer": "ipython3",
   "version": "3.11.3"
  }
 },
 "nbformat": 4,
 "nbformat_minor": 5
}
