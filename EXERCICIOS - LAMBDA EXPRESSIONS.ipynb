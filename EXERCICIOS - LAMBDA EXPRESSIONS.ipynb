{
 "cells": [
  {
   "cell_type": "markdown",
   "id": "a89c014e",
   "metadata": {},
   "source": [
    "### Exercícios de Lambda Expressions\n",
    "####   ***** Tente fazer sozinho antes de consultar  *****"
   ]
  },
  {
   "cell_type": "markdown",
   "id": "8061fbc9",
   "metadata": {},
   "source": [
    "#### Exercício 1:\n",
    "Crie uma expressão lambda que retorne o quadrado de um número."
   ]
  },
  {
   "cell_type": "code",
   "execution_count": 3,
   "id": "395f7952",
   "metadata": {},
   "outputs": [
    {
     "name": "stdin",
     "output_type": "stream",
     "text": [
      "Digite um número para retornar seu quadrado: 5\n"
     ]
    },
    {
     "name": "stdout",
     "output_type": "stream",
     "text": [
      "25\n"
     ]
    }
   ],
   "source": [
    "quadrado = lambda x: x**2\n",
    "\n",
    "resultado = quadrado(int(input('Digite um número para retornar seu quadrado:')))\n",
    "\n",
    "print(resultado)"
   ]
  },
  {
   "cell_type": "markdown",
   "id": "1bbe7872",
   "metadata": {},
   "source": [
    "#### Exercício 2:\n",
    "Escreva uma expressão lambda que verifique se um número é par.\n"
   ]
  },
  {
   "cell_type": "code",
   "execution_count": 12,
   "id": "7abd8103",
   "metadata": {},
   "outputs": [
    {
     "name": "stdin",
     "output_type": "stream",
     "text": [
      "Digite um número para saber se é par: 8\n"
     ]
    },
    {
     "name": "stdout",
     "output_type": "stream",
     "text": [
      "True\n"
     ]
    }
   ],
   "source": [
    "par = lambda x: True if x%2 == 0  else False\n",
    "\n",
    "resultado = par(int(input('Digite um número para saber se é par:')))\n",
    "\n",
    "print(resultado)"
   ]
  },
  {
   "cell_type": "markdown",
   "id": "6437f95e",
   "metadata": {},
   "source": [
    "#### Exercício 3:\n",
    "Crie uma expressão lambda que calcule a média de três números."
   ]
  },
  {
   "cell_type": "code",
   "execution_count": 13,
   "id": "aa73c6e5",
   "metadata": {},
   "outputs": [
    {
     "name": "stdin",
     "output_type": "stream",
     "text": [
      "Digite primeiro número: 5\n",
      "Digite segundo número: 8\n",
      "Digite terceiro número: 15\n"
     ]
    },
    {
     "name": "stdout",
     "output_type": "stream",
     "text": [
      "9.333333333333334\n"
     ]
    }
   ],
   "source": [
    "media = lambda x, y, z: (x + y + z)/3\n",
    "\n",
    "x = int(input(\"Digite primeiro número:\"))\n",
    "y = int(input(\"Digite segundo número:\"))\n",
    "z = int(input(\"Digite terceiro número:\"))\n",
    "\n",
    "resultado = media(x, y, z)\n",
    "\n",
    "print(resultado)"
   ]
  }
 ],
 "metadata": {
  "kernelspec": {
   "display_name": "Python 3 (ipykernel)",
   "language": "python",
   "name": "python3"
  },
  "language_info": {
   "codemirror_mode": {
    "name": "ipython",
    "version": 3
   },
   "file_extension": ".py",
   "mimetype": "text/x-python",
   "name": "python",
   "nbconvert_exporter": "python",
   "pygments_lexer": "ipython3",
   "version": "3.11.3"
  }
 },
 "nbformat": 4,
 "nbformat_minor": 5
}
