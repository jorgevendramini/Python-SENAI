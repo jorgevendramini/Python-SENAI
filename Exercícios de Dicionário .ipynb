{
 "cells": [
  {
   "cell_type": "markdown",
   "id": "d1096e68",
   "metadata": {},
   "source": [
    "# Exercícios de tuplas "
   ]
  },
  {
   "cell_type": "markdown",
   "id": "32c8fef7",
   "metadata": {},
   "source": [
    "## Esses exercícios ajudarão você a praticar o uso de dicionários em diferentes contextos e situações. Experimente resolver cada um deles para aprimorar suas habilidades em manipulação de dicionários em Python."
   ]
  },
  {
   "cell_type": "markdown",
   "id": "4a90b37f",
   "metadata": {},
   "source": [
    "# Exercício 1: Contagem de Palavras\n",
    "### Crie uma função que recebe uma string como entrada e retorna um dicionário onde as chaves são as palavras da string e os valores são a contagem de vezes que cada palavra aparece."
   ]
  },
  {
   "cell_type": "code",
   "execution_count": null,
   "id": "ff702f47",
   "metadata": {},
   "outputs": [],
   "source": []
  },
  {
   "cell_type": "markdown",
   "id": "946d6af0",
   "metadata": {},
   "source": [
    "# Exercício 2: Registro de Alunos\n",
    "### Crie um programa que permite registrar informações sobre alunos, como nome, idade e nota. Use um dicionário para armazenar essas informações e permita que o usuário adicione novos alunos e visualize os detalhes dos alunos existentes."
   ]
  },
  {
   "cell_type": "code",
   "execution_count": null,
   "id": "4bbebc70",
   "metadata": {},
   "outputs": [],
   "source": []
  },
  {
   "cell_type": "markdown",
   "id": "0a7de75b",
   "metadata": {},
   "source": [
    "# Exercício 3: Tradutor Simples\n",
    "### Crie um dicionário que mapeie algumas palavras em inglês para suas traduções em outro idioma. Peça ao usuário para digitar uma palavra em inglês e exiba a tradução correspondente."
   ]
  },
  {
   "cell_type": "code",
   "execution_count": null,
   "id": "370a137c",
   "metadata": {},
   "outputs": [],
   "source": []
  },
  {
   "cell_type": "markdown",
   "id": "d9d590bc",
   "metadata": {},
   "source": [
    "# Exercício 4: Estoque de Produtos\n",
    "### Crie um programa que simule o controle de estoque de uma loja. Use um dicionário onde as chaves são os nomes dos produtos e os valores são as quantidades em estoque. Permita que o usuário adicione ou remova produtos e atualize as quantidades."
   ]
  },
  {
   "cell_type": "code",
   "execution_count": null,
   "id": "f93311d7",
   "metadata": {},
   "outputs": [],
   "source": []
  },
  {
   "cell_type": "markdown",
   "id": "31c34736",
   "metadata": {},
   "source": [
    "# Exercício 5: Contagem de Caracteres\n",
    "### Crie uma função que recebe uma string e retorna um dicionário onde as chaves são os caracteres da string e os valores são a contagem de vezes que cada caracter aparece."
   ]
  },
  {
   "cell_type": "code",
   "execution_count": null,
   "id": "70d8c2c6",
   "metadata": {},
   "outputs": [],
   "source": []
  },
  {
   "cell_type": "markdown",
   "id": "8b8d8f05",
   "metadata": {},
   "source": [
    "# Exercício 6: Agenda de Contatos\n",
    "### Crie um programa que simule uma agenda de contatos. Use um dicionário onde as chaves são os nomes das pessoas e os valores são seus números de telefone. Permita que o usuário adicione, atualize e remova contatos."
   ]
  },
  {
   "cell_type": "code",
   "execution_count": null,
   "id": "5f5609fe",
   "metadata": {},
   "outputs": [],
   "source": []
  },
  {
   "cell_type": "markdown",
   "id": "dfe9aa0c",
   "metadata": {},
   "source": [
    "# Exercício 7: Notas de Alunos\n",
    "### Crie um programa que permite registrar as notas de alunos em várias disciplinas. Use um dicionário aninhado, onde as chaves externas são os nomes dos alunos e as chaves internas são as disciplinas. Permita que o usuário adicione notas e visualize as médias dos alunos."
   ]
  },
  {
   "cell_type": "code",
   "execution_count": null,
   "id": "8e10caaa",
   "metadata": {},
   "outputs": [],
   "source": []
  },
  {
   "cell_type": "markdown",
   "id": "c81f0cb4",
   "metadata": {},
   "source": [
    "# Exercício 8: Contagem de Letras em Palavras\n",
    "### Crie uma função que recebe uma lista de palavras e retorna um dicionário onde as chaves são as letras presentes nas palavras e os valores são a contagem total de vezes que cada letra aparece."
   ]
  },
  {
   "cell_type": "code",
   "execution_count": null,
   "id": "5f058fef",
   "metadata": {},
   "outputs": [],
   "source": []
  },
  {
   "cell_type": "markdown",
   "id": "ac2a2456",
   "metadata": {},
   "source": [
    "# Exercício 9: Calculadora de Despesas\n",
    "### Crie um programa que simule o controle de despesas de um grupo de amigos. Use um dicionário onde as chaves são os nomes dos amigos e os valores são listas de despesas. Permita que o usuário adicione despesas e calcule quanto cada pessoa deve pagar."
   ]
  },
  {
   "cell_type": "code",
   "execution_count": null,
   "id": "9987e73e",
   "metadata": {},
   "outputs": [],
   "source": []
  },
  {
   "cell_type": "markdown",
   "id": "07c1ee0b",
   "metadata": {},
   "source": [
    "# Exercício 10: Jogo de Trívia\n",
    "### Crie um jogo de trívia em que o programa faz perguntas e o usuário responde. Use um dicionário onde as chaves são as perguntas e os valores são as respostas corretas. Mostre as perguntas ao usuário, solicite a resposta e informe se ele acertou ou errou."
   ]
  },
  {
   "cell_type": "code",
   "execution_count": null,
   "id": "0d47f9f5",
   "metadata": {},
   "outputs": [],
   "source": []
  }
 ],
 "metadata": {
  "kernelspec": {
   "display_name": "Python 3 (ipykernel)",
   "language": "python",
   "name": "python3"
  },
  "language_info": {
   "codemirror_mode": {
    "name": "ipython",
    "version": 3
   },
   "file_extension": ".py",
   "mimetype": "text/x-python",
   "name": "python",
   "nbconvert_exporter": "python",
   "pygments_lexer": "ipython3",
   "version": "3.11.3"
  }
 },
 "nbformat": 4,
 "nbformat_minor": 5
}
