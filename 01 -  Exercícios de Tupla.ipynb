{
 "cells": [
  {
   "cell_type": "markdown",
   "metadata": {
    "id": "FHwWnfSPmcwv"
   },
   "source": [
    "# Exercícios\n",
    "\n",
    "São exercícios bem parecidos com os que fizemos com listas. Mas na tupla, podemos não só trabalhar com índices, mas fazer o \"unpacking\" das tuplas, o que pode facilitar nossos códigos.\n",
    "\n",
    "## 1. Análise de Vendas\n",
    "\n",
    "Nesse exercício vamos fazer uma \"análise simples\" de atingimento de Meta.\n",
    "\n",
    "Temos uma lista com os vendedores e os valores de vendas e queremos identificar (printar) quais os vendedores que bateram a meta e qual foi o valor que eles venderam."
   ]
  },
  {
   "cell_type": "code",
   "execution_count": 3,
   "metadata": {
    "id": "dg-S-TZUmcw1"
   },
   "outputs": [
    {
     "name": "stdout",
     "output_type": "stream",
     "text": [
      "O vendedor João bateu a meta com o valor de 15000\n",
      "O vendedor Julia bateu a meta com o valor de 27000\n",
      "O vendedor Ana bateu a meta com o valor de 10300\n"
     ]
    }
   ],
   "source": [
    "meta = 10000\n",
    "vendas = [\n",
    "    ('João', 15000),\n",
    "    ('Julia', 27000),\n",
    "    ('Marcus', 9900),\n",
    "    ('Maria', 3750),\n",
    "    ('Ana', 10300),\n",
    "    ('Alon', 7870),\n",
    "]\n",
    "\n",
    "for vendedores in vendas:\n",
    "    nomes, valor_vendas = vendedores\n",
    "    if valor_vendas > meta:\n",
    "        print('O vendedor {} bateu a meta com o valor de {}'.format(nomes, valor_vendas))\n"
   ]
  },
  {
   "cell_type": "markdown",
   "metadata": {
    "id": "KUXrQ4DSmcw2"
   },
   "source": [
    "## 2. Comparação com Ano Anterior\n",
    "\n",
    "Digamos que você está analisando as vendas de produtos de um ecommerce e quer identificar quais produtos tiveram no ano de 2020 mais vendas do que no ano de 2019, para reportar isso para a diretoria.\n",
    "\n",
    "Sua resposta pode ser um print de cada produto, qual foi a venda de 2019, a venda de 2020 e o % de crescimento de 2020 para 2019.\n",
    "\n",
    "Lembrando, para calcular o % de crescimento de um produto de um ano para o outro, podemos fazer: (vendas_produto2020/vendas_produto2019 - 1)\n",
    "\n",
    "A lógica da tupla é: (produto, vendas2019, vendas2020)"
   ]
  },
  {
   "cell_type": "code",
   "execution_count": 11,
   "metadata": {
    "id": "Q5jsGAX5mcw3"
   },
   "outputs": [
    {
     "name": "stdout",
     "output_type": "stream",
     "text": [
      "iphone vendeu 558147 unidades em 2019 e 951642 unidades em 2020. Seu crescimento foi de 70.50%.\n",
      "galaxy vendeu 712350 unidades em 2019 e 244295 unidades em 2020. Seu crescimento foi de -65.71%.\n",
      "ipad vendeu 573823 unidades em 2019 e 26964 unidades em 2020. Seu crescimento foi de -95.30%.\n",
      "tv vendeu 405252 unidades em 2019 e 787604 unidades em 2020. Seu crescimento foi de 94.35%.\n",
      "máquina de café vendeu 718654 unidades em 2019 e 867660 unidades em 2020. Seu crescimento foi de 20.73%.\n",
      "kindle vendeu 531580 unidades em 2019 e 78830 unidades em 2020. Seu crescimento foi de -85.17%.\n",
      "geladeira vendeu 973139 unidades em 2019 e 710331 unidades em 2020. Seu crescimento foi de -27.01%.\n",
      "adega vendeu 892292 unidades em 2019 e 646016 unidades em 2020. Seu crescimento foi de -27.60%.\n",
      "notebook dell vendeu 422760 unidades em 2019 e 694913 unidades em 2020. Seu crescimento foi de 64.38%.\n",
      "notebook hp vendeu 154753 unidades em 2019 e 539704 unidades em 2020. Seu crescimento foi de 248.75%.\n",
      "notebook asus vendeu 887061 unidades em 2019 e 324831 unidades em 2020. Seu crescimento foi de -63.38%.\n",
      "microsoft surface vendeu 438508 unidades em 2019 e 667179 unidades em 2020. Seu crescimento foi de 52.15%.\n",
      "webcam vendeu 237467 unidades em 2019 e 295633 unidades em 2020. Seu crescimento foi de 24.49%.\n",
      "caixa de som vendeu 489705 unidades em 2019 e 725316 unidades em 2020. Seu crescimento foi de 48.11%.\n",
      "microfone vendeu 328311 unidades em 2019 e 644622 unidades em 2020. Seu crescimento foi de 96.34%.\n",
      "câmera canon vendeu 591120 unidades em 2019 e 994303 unidades em 2020. Seu crescimento foi de 68.21%.\n"
     ]
    }
   ],
   "source": [
    "vendas_produtos = [('iphone', 558147, 951642), ('galaxy', 712350, 244295), ('ipad', 573823, 26964), ('tv', 405252, 787604), ('máquina de café', 718654, 867660), ('kindle', 531580, 78830), ('geladeira', 973139, 710331), ('adega', 892292, 646016), ('notebook dell', 422760, 694913), ('notebook hp', 154753, 539704), ('notebook asus', 887061, 324831), ('microsoft surface', 438508, 667179), ('webcam', 237467, 295633), ('caixa de som', 489705, 725316), ('microfone', 328311, 644622), ('câmera canon', 591120, 994303)]\n",
    "\n",
    "#seu código aqui\n",
    "\n",
    "for produtos in vendas_produtos:\n",
    "    produto, vendas2019, vendas2020 = produtos\n",
    "    \n",
    "    print('{} vendeu {} unidades em 2019 e {} unidades em 2020. Seu crescimento foi de {:.2f}%.'.format(produto, vendas2019, vendas2020, ((vendas2020-vendas2019)/vendas2019)*100))\n"
   ]
  }
 ],
 "metadata": {
  "colab": {
   "provenance": []
  },
  "kernelspec": {
   "display_name": "Python 3 (ipykernel)",
   "language": "python",
   "name": "python3"
  },
  "language_info": {
   "codemirror_mode": {
    "name": "ipython",
    "version": 3
   },
   "file_extension": ".py",
   "mimetype": "text/x-python",
   "name": "python",
   "nbconvert_exporter": "python",
   "pygments_lexer": "ipython3",
   "version": "3.11.3"
  }
 },
 "nbformat": 4,
 "nbformat_minor": 1
}
