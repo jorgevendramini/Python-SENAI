{
 "cells": [
  {
   "cell_type": "markdown",
   "id": "d6fa79c4",
   "metadata": {},
   "source": [
    "# Exercícios de Introdução às Funções em Python"
   ]
  },
  {
   "cell_type": "markdown",
   "id": "6ea92414",
   "metadata": {},
   "source": [
    "######  . . . . .  . . . . . . . . . . . . . . . . . . . . . ..  . . . ..  .. .  ..  . . . . ..  . . . . . .. .  . . . . . . . . . ..  . .. .  . . .. . ..  .. .  . . . . . . . . .. . .  .. . . . . . .. . . . . . . . . . . . . . . . .. . . . . . .. \n",
    ".\n",
    "..\n",
    ".\n",
    "..\n",
    ".\n",
    "..\n",
    ".\n",
    "..\n"
   ]
  },
  {
   "cell_type": "markdown",
   "id": "66043de7",
   "metadata": {},
   "source": [
    "## Introdução ao uso de funções em Python. Funções são blocos de código que nos permitem organizar e reutilizar tarefas em nossos programas. Elas são uma parte fundamental da programação e nos ajudam a escrever código mais limpo, eficiente e modular.\n",
    "\n",
    "## Para praticar o que aprendemos, temos uma série de exercícios que envolvem o uso de funções básicas para realizar cálculos simples. Vocês deverão criar funções que resolvam os problemas propostos. Lembre-se de usar nomes significativos para suas funções e variáveis, para que o código seja claro e compreensível."
   ]
  },
  {
   "cell_type": "markdown",
   "id": "a7f6647f",
   "metadata": {},
   "source": [
    "## Exercício 1: Calcular a área de um retângulo\n",
    "### Situação Problema: Você está construindo um jardim retangular em sua casa. A largura do jardim é 5 metros e o comprimento é 8 metros. Qual é a área total do jardim?"
   ]
  },
  {
   "cell_type": "code",
   "execution_count": 1,
   "id": "931944a6",
   "metadata": {},
   "outputs": [
    {
     "name": "stdout",
     "output_type": "stream",
     "text": [
      "Cálculo de área de um retângulo\n"
     ]
    },
    {
     "name": "stdin",
     "output_type": "stream",
     "text": [
      "Digite o valor da base: 5\n",
      "Digite o valor da altura: 4\n"
     ]
    },
    {
     "name": "stdout",
     "output_type": "stream",
     "text": [
      "20\n"
     ]
    }
   ],
   "source": [
    "#seu codigo aqui!\n",
    "print(\"Cálculo de área de um retângulo\")\n",
    "def area(base, altura):\n",
    "    print(base * altura)\n",
    "\n",
    "base = int(input('Digite o valor da base:'))\n",
    "altura = int(input('Digite o valor da altura:'))\n",
    "area(base, altura)"
   ]
  },
  {
   "cell_type": "markdown",
   "id": "f9684318",
   "metadata": {},
   "source": [
    "## Exercício 2: Calcular o quadrado de um número\n",
    "### Situação Problema: Você está medindo o lado de um quadrado. O lado mede 6 metros. Qual é a área desse quadrado?"
   ]
  },
  {
   "cell_type": "code",
   "execution_count": 2,
   "id": "12546b18",
   "metadata": {},
   "outputs": [
    {
     "name": "stdout",
     "output_type": "stream",
     "text": [
      "Cálculo de área de um quadrado\n"
     ]
    },
    {
     "name": "stdin",
     "output_type": "stream",
     "text": [
      "Digite o valor do lado do quadrado: 6\n"
     ]
    },
    {
     "name": "stdout",
     "output_type": "stream",
     "text": [
      "36\n"
     ]
    }
   ],
   "source": [
    "#seu codigo aqui!\n",
    "print(\"Cálculo de área de um quadrado\")\n",
    "def areaQuadrado(lado):\n",
    "    print(lado**2)\n",
    "\n",
    "num1 = int(input('Digite o valor do lado do quadrado:'))\n",
    "\n",
    "areaQuadrado(num1)"
   ]
  },
  {
   "cell_type": "markdown",
   "id": "3f96f770",
   "metadata": {},
   "source": [
    "## Exercício 3: Converter Celsius para Fahrenheit\n",
    "### Situação Problema: Você está em um país onde a temperatura é medida em Fahrenheit. A temperatura atual é 25 graus Celsius. Qual é a temperatura equivalente em Fahrenheit?"
   ]
  },
  {
   "cell_type": "code",
   "execution_count": 3,
   "id": "c1923918",
   "metadata": {},
   "outputs": [
    {
     "name": "stdout",
     "output_type": "stream",
     "text": [
      "Cálculo de conversão Celsius para Fahrenheit\n"
     ]
    },
    {
     "name": "stdin",
     "output_type": "stream",
     "text": [
      "Digite o valor da temperatura em Celsius: 0\n"
     ]
    },
    {
     "name": "stdout",
     "output_type": "stream",
     "text": [
      "A temperatura em Celsius é 0 e em Fahrenheit é: 32\n"
     ]
    }
   ],
   "source": [
    "#seu codigo aqui!\n",
    "print(\"Cálculo de conversão Celsius para Fahrenheit\")\n",
    "\n",
    "def celToFah(celsius):\n",
    "    fahrenheit = (celsius * 9//5) + 32\n",
    "    print(\"A temperatura em Celsius é {} e em Fahrenheit é: {}\".format(celsius, fahrenheit))\n",
    "\n",
    "valor = int(input(\"Digite o valor da temperatura em Celsius:\"))\n",
    "\n",
    "celToFah(valor)"
   ]
  },
  {
   "cell_type": "markdown",
   "id": "535c92f1",
   "metadata": {},
   "source": [
    "## Exercício 4: Calcular a média de três números\n",
    "### Situação Problema: Você fez três exames e obteve as seguintes notas: 7.5, 8.0 e 6.5. Qual é a sua média nessas três provas?"
   ]
  },
  {
   "cell_type": "code",
   "execution_count": 14,
   "id": "b2332deb-3df5-4402-9cc1-c65081aa3c7c",
   "metadata": {},
   "outputs": [
    {
     "name": "stdout",
     "output_type": "stream",
     "text": [
      "Cálculo da média de três números\n"
     ]
    },
    {
     "name": "stdin",
     "output_type": "stream",
     "text": [
      "Digite o primeiro número:  25\n",
      "Digite o segundo número:  87\n",
      "Digite o terceiro número:  92\n"
     ]
    },
    {
     "name": "stdout",
     "output_type": "stream",
     "text": [
      "A média dos números 25, 87 e 92 é: 68\n"
     ]
    }
   ],
   "source": [
    "#seu codigo aqui!\n",
    "print(\"Cálculo da média de três números\")\n",
    "\n",
    "def media(val1, val2, val3): \n",
    "    resultado = (val1 + val2 + val3)//3 \n",
    "    print(\"A média dos números {}, {} e {} é: {}\".format(val1, val2, val3, resultado))\n",
    "\n",
    "val1 = int(input(\"Digite o primeiro número: \"))\n",
    "val2 = int(input(\"Digite o segundo número: \"))\n",
    "val3 = int(input(\"Digite o terceiro número: \"))\n",
    "\n",
    "media(val1, val2, val3)"
   ]
  },
  {
   "cell_type": "markdown",
   "id": "dc19120f",
   "metadata": {},
   "source": [
    "## Exercício 5: Calcular a hipotenusa de um triângulo retângulo\n",
    "### Situação Problema: Você está construindo uma rampa para um skatepark. As duas partes da rampa formam um ângulo reto, e as medidas dos catetos são 4 metros e 5 metros. Qual é o comprimento da rampa (hipotenusa)?"
   ]
  },
  {
   "cell_type": "code",
   "execution_count": 23,
   "id": "e634d60c",
   "metadata": {},
   "outputs": [
    {
     "name": "stdout",
     "output_type": "stream",
     "text": [
      "Cálculo da hipotenusa de um triângulo retângulo\n"
     ]
    },
    {
     "name": "stdin",
     "output_type": "stream",
     "text": [
      "Digite o primeiro cateto:  8\n",
      "Digite o segundo cateto:  5\n"
     ]
    },
    {
     "name": "stdout",
     "output_type": "stream",
     "text": [
      "A hipotenusa dos catetos 8 e 5 é: 9\n"
     ]
    }
   ],
   "source": [
    "#seu codigo aqui!\n",
    "import math\n",
    "print(\"Cálculo da hipotenusa de um triângulo retângulo\")\n",
    "\n",
    "def hipotenusa(cateto1, cateto2): \n",
    "    hip = math.sqrt(cateto1**2 + cateto2**2)\n",
    "    print(\"A hipotenusa dos catetos {} e {} é: {:.0f}\".format(cateto1, cateto2, hip))\n",
    "\n",
    "val1 = int(input(\"Digite o primeiro cateto: \"))\n",
    "val2 = int(input(\"Digite o segundo cateto: \"))\n",
    "\n",
    "hipotenusa(val1, val2)"
   ]
  },
  {
   "cell_type": "markdown",
   "id": "63fa58f9",
   "metadata": {},
   "source": [
    "## Exercício 6: Calcular o perímetro de um quadrado\n",
    "### Situação Problema: Você está construindo um tapete quadrado para a sala de estar. Cada lado do tapete mede 3 metros. Qual é o perímetro total do tapete?"
   ]
  },
  {
   "cell_type": "code",
   "execution_count": 24,
   "id": "a2cc0651",
   "metadata": {},
   "outputs": [
    {
     "name": "stdout",
     "output_type": "stream",
     "text": [
      "Cálculo do perímetro de um quadrado\n"
     ]
    },
    {
     "name": "stdin",
     "output_type": "stream",
     "text": [
      "Digite o valor do lado do quadrado:  3\n"
     ]
    },
    {
     "name": "stdout",
     "output_type": "stream",
     "text": [
      "O perímetro do quadrado com lado no valor de 3 é: 12\n"
     ]
    }
   ],
   "source": [
    "#seu codigo aqui!\n",
    "print(\"Cálculo do perímetro de um quadrado\")\n",
    "\n",
    "def perimetroQuadrado(lado): \n",
    "    resultado = lado*4\n",
    "    print(\"O perímetro do quadrado com lado no valor de {} é: {}\".format(lado, resultado))\n",
    "\n",
    "val1 = int(input(\"Digite o valor do lado do quadrado: \"))\n",
    "\n",
    "perimetroQuadrado(val1)"
   ]
  },
  {
   "cell_type": "markdown",
   "id": "0bc6d476",
   "metadata": {},
   "source": [
    "## Exercício 7: Calcular a média ponderada de três notas\n",
    "### Situação Problema: Você está estudando para três disciplinas diferentes. Suas notas são: 7.0 em Matemática, 8.5 em Ciências e 9.5 em História. Se a Matemática tem peso 2, Ciências tem peso 3 e História tem peso 5, qual é a sua média ponderada?\n",
    "\n"
   ]
  },
  {
   "cell_type": "code",
   "execution_count": 29,
   "id": "15b67f4a",
   "metadata": {},
   "outputs": [
    {
     "name": "stdout",
     "output_type": "stream",
     "text": [
      "Cálculo da média poderada de três notas\n"
     ]
    },
    {
     "name": "stdin",
     "output_type": "stream",
     "text": [
      "Digite a primeira nota:  7\n",
      "Digite o peso da primeira nota:  2\n",
      "Digite a segunda nota:  8.5\n",
      "Digite o peso da segunda nota:  3\n",
      "Digite a terceira nota:  9.5\n",
      "Digite o peso da terceira nota:  5\n"
     ]
    },
    {
     "name": "stdout",
     "output_type": "stream",
     "text": [
      "A média dos números 7.0, 8.5 e 9.5 com peso igual a 2.0, 3.0 e 5.0, respectivamente é: 29.0\n"
     ]
    }
   ],
   "source": [
    "print(\"Cálculo da média poderada de três notas\")\n",
    "\n",
    "def mediaPonderada(val1, val2, val3, peso1, peso2, peso3): \n",
    "    resultado = ((val1*peso1) + (val2*peso2) + (val3*peso3))//3 \n",
    "    print(\"A média dos números {}, {} e {} com peso igual a {}, {} e {}, respectivamente é: {}\".format(val1, val2, val3, peso1, peso2, peso3, resultado))\n",
    "\n",
    "val1 = float(input(\"Digite a primeira nota: \"))\n",
    "peso1 = float(input(\"Digite o peso da primeira nota: \"))\n",
    "val2 = float(input(\"Digite a segunda nota: \"))\n",
    "peso2 = float(input(\"Digite o peso da segunda nota: \"))\n",
    "val3 = float(input(\"Digite a terceira nota: \"))\n",
    "peso3 = float(input(\"Digite o peso da terceira nota: \"))\n",
    "\n",
    "mediaPonderada(val1, val2, val3, peso1, peso2, peso3)#seu codigo aqui!"
   ]
  },
  {
   "cell_type": "markdown",
   "id": "a411f83c",
   "metadata": {},
   "source": [
    "## Exercício 8: Calcular a área de um círculo\n",
    "### Situação Problema: Você está pintando um alvo circular em uma parede. O raio do círculo é 2 metros. Qual é a área total que você precisa pintar?"
   ]
  },
  {
   "cell_type": "code",
   "execution_count": 34,
   "id": "e7a46d2d",
   "metadata": {},
   "outputs": [
    {
     "name": "stdout",
     "output_type": "stream",
     "text": [
      "Cálculo de área de um círculo\n"
     ]
    },
    {
     "name": "stdin",
     "output_type": "stream",
     "text": [
      "Digite o valor do raio: 2\n"
     ]
    },
    {
     "name": "stdout",
     "output_type": "stream",
     "text": [
      "A área total do círculo com raio de 2.0 é 12.57\n"
     ]
    }
   ],
   "source": [
    "#seu codigo aqui!\n",
    "print(\"Cálculo de área de um círculo\")\n",
    "def areaCirculo(raio):\n",
    "    area = 3.1415 * raio**2\n",
    "    print(f'A área total do círculo com raio de {raio} é {area:.2f}')\n",
    "\n",
    "raio = float(input('Digite o valor do raio:'))\n",
    "\n",
    "areaCirculo(raio)"
   ]
  },
  {
   "cell_type": "markdown",
   "id": "1d16b12a",
   "metadata": {},
   "source": [
    "## Exercício 9: Converter quilômetros para milhas\n",
    "### Situação Problema: Você está planejando uma viagem de carro. O percurso tem 200 quilômetros de extensão. Qual é a distância equivalente em milhas?\n",
    "\n",
    "\n",
    "\n",
    "\n"
   ]
  },
  {
   "cell_type": "code",
   "execution_count": 35,
   "id": "1ca02ada",
   "metadata": {},
   "outputs": [
    {
     "name": "stdout",
     "output_type": "stream",
     "text": [
      "Cálculo de km para milhas\n"
     ]
    },
    {
     "name": "stdin",
     "output_type": "stream",
     "text": [
      "Digite o valor do percurso em km: 200\n"
     ]
    },
    {
     "name": "stdout",
     "output_type": "stream",
     "text": [
      "O percurso em km é igual a 200.0 e em milhas é 124.27\n"
     ]
    }
   ],
   "source": [
    "#seu codigo aqui!\n",
    "print(\"Cálculo de km para milhas\")\n",
    "def kmToMiles(km):\n",
    "    miles = km * 0.621371\n",
    "    print(f'O percurso em km é igual a {km} e em milhas é {miles:.2f}')\n",
    "\n",
    "milhas = float(input('Digite o valor do percurso em km:'))\n",
    "\n",
    "kmToMiles(milhas)"
   ]
  },
  {
   "cell_type": "markdown",
   "id": "b19544a3",
   "metadata": {},
   "source": [
    "## Exercício 10: Calcular a média aritmética de quatro números\n",
    "### Situação Problema: Você está acompanhando as notas de um aluno em quatro provas: 6.5, 7.0, 8.5 e 9.0. Qual é a média aritmética dessas quatro notas?\n",
    "\n",
    "\n"
   ]
  },
  {
   "cell_type": "code",
   "execution_count": 37,
   "id": "10c84074",
   "metadata": {},
   "outputs": [
    {
     "name": "stdout",
     "output_type": "stream",
     "text": [
      "Cálculo da média de quatro números\n"
     ]
    },
    {
     "name": "stdin",
     "output_type": "stream",
     "text": [
      "Digite a primeira nota:  6.5\n",
      "Digite a segunda nota:  7\n",
      "Digite a terceira nota:  8.5\n",
      "Digite a quarta nota:  9\n"
     ]
    },
    {
     "name": "stdout",
     "output_type": "stream",
     "text": [
      "A média dos números 6.5, 7.0, 8.5 e 9.0 é: 7.75\n"
     ]
    }
   ],
   "source": [
    "#seu codigo aqui!\n",
    "print(\"Cálculo da média de quatro números\")\n",
    "\n",
    "def media(val1, val2, val3, val4): \n",
    "    resultado = (val1 + val2 + val3 + val4)/4\n",
    "    print(\"A média dos números {}, {}, {} e {} é: {}\".format(val1, val2, val3, val4, resultado))\n",
    "\n",
    "val1 = float(input(\"Digite a primeira nota: \"))\n",
    "val2 = float(input(\"Digite a segunda nota: \"))\n",
    "val3 = float(input(\"Digite a terceira nota: \"))\n",
    "val4 = float(input(\"Digite a quarta nota: \"))\n",
    "\n",
    "media(val1, val2, val3, val4)"
   ]
  }
 ],
 "metadata": {
  "kernelspec": {
   "display_name": "Python 3 (ipykernel)",
   "language": "python",
   "name": "python3"
  },
  "language_info": {
   "codemirror_mode": {
    "name": "ipython",
    "version": 3
   },
   "file_extension": ".py",
   "mimetype": "text/x-python",
   "name": "python",
   "nbconvert_exporter": "python",
   "pygments_lexer": "ipython3",
   "version": "3.11.3"
  }
 },
 "nbformat": 4,
 "nbformat_minor": 5
}
