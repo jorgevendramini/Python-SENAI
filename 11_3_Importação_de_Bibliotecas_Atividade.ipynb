{
 "cells": [
  {
   "cell_type": "markdown",
   "metadata": {
    "id": "7cSjkBggT5jc"
   },
   "source": [
    "# **Exercício 1:**\n",
    "\n",
    "---\n",
    "\n",
    "Faça um programa que calcule a raiz quadrada de um número inteiro fornecido pelo usuário. Utilize a biblioteca math para realizar o cálculo."
   ]
  },
  {
   "cell_type": "code",
   "execution_count": 7,
   "metadata": {
    "id": "Z_bnJxYGT0_o"
   },
   "outputs": [
    {
     "name": "stdin",
     "output_type": "stream",
     "text": [
      "Type a number to find its square root: 9\n"
     ]
    },
    {
     "name": "stdout",
     "output_type": "stream",
     "text": [
      "3.0\n"
     ]
    }
   ],
   "source": [
    "import math\n",
    "\n",
    "num = int(input(\"Type a number to find its square root:\"))\n",
    "\n",
    "print(math.sqrt(num))"
   ]
  },
  {
   "cell_type": "markdown",
   "metadata": {
    "id": "Sa1-LWktUG_z"
   },
   "source": [
    "# **Exercício 2:**\n",
    "\n",
    "---\n",
    "\n",
    "Crie um programa que gere um número aleatório entre 1 e 100 e peça ao usuário para adivinhar qual é esse número. Utilize a biblioteca random para gerar o número aleatório."
   ]
  },
  {
   "cell_type": "code",
   "execution_count": 10,
   "metadata": {
    "id": "9iOJpg0_ULDC"
   },
   "outputs": [
    {
     "name": "stdin",
     "output_type": "stream",
     "text": [
      "Type a number between 1 and 100 and try to guess the number: 40\n",
      "Higher!! Try again: 80\n"
     ]
    },
    {
     "name": "stdout",
     "output_type": "stream",
     "text": [
      "2\n"
     ]
    },
    {
     "name": "stdin",
     "output_type": "stream",
     "text": [
      "Higher!! Try again: 90\n"
     ]
    },
    {
     "name": "stdout",
     "output_type": "stream",
     "text": [
      "3\n"
     ]
    },
    {
     "name": "stdin",
     "output_type": "stream",
     "text": [
      "Lower!! Try again: 85\n"
     ]
    },
    {
     "name": "stdout",
     "output_type": "stream",
     "text": [
      "4\n"
     ]
    },
    {
     "name": "stdin",
     "output_type": "stream",
     "text": [
      "Lower!! Try again: 83\n"
     ]
    },
    {
     "name": "stdout",
     "output_type": "stream",
     "text": [
      "5\n"
     ]
    },
    {
     "name": "stdin",
     "output_type": "stream",
     "text": [
      "Higher!! Try again: 84\n"
     ]
    },
    {
     "name": "stdout",
     "output_type": "stream",
     "text": [
      "6\n",
      "Congratulations!!! You guessed the number and it is: 84. You needed 6 tries.\n"
     ]
    }
   ],
   "source": [
    "import random\n",
    "\n",
    "random_number = int(random.random() * 100) + 1\n",
    "count = 1\n",
    "win = False\n",
    "user_input = int(input(\"Type a number between 1 and 100 and try to guess the number:\"))\n",
    "\n",
    "try:\n",
    "    while win == False:\n",
    "        if user_input == random_number:\n",
    "            print(f\"Congratulations!!! You guessed the number and it is: {random_number}. You needed {count} tries.\")\n",
    "            win = True\n",
    "        elif user_input > random_number:\n",
    "            count += 1\n",
    "            user_input = int(input(\"Lower!! Try again:\"))\n",
    "            print(count)\n",
    "        elif user_input < random_number:\n",
    "            count += 1\n",
    "            user_input = int(input(\"Higher!! Try again:\"))\n",
    "            print(count)\n",
    "except:\n",
    "    print(\"Something wrong happened.\")"
   ]
  },
  {
   "cell_type": "markdown",
   "metadata": {
    "id": "vrAwGLX3UXLq"
   },
   "source": [
    "# **Exercício 3:**\n",
    "\n",
    "---\n",
    "Crie um programa que simule um lançamento de dados. O programa deve gerar um número aleatório entre 1 e 6, representando o valor do dado. Utilizar função randint da biblioteca random"
   ]
  },
  {
   "cell_type": "code",
   "execution_count": 11,
   "metadata": {
    "id": "h2MVf6arUdtz"
   },
   "outputs": [
    {
     "name": "stdout",
     "output_type": "stream",
     "text": [
      "Dado lançado !!! O valor é...\n",
      "3\n"
     ]
    }
   ],
   "source": [
    "import time\n",
    "import random\n",
    "\n",
    "dice = random.randint(1,6)\n",
    "print(\"Dado lançado !!! O valor é...\")\n",
    "time.sleep(1.5)\n",
    "print(dice)"
   ]
  },
  {
   "cell_type": "markdown",
   "metadata": {
    "id": "RA7LpHIHUgcT"
   },
   "source": [
    "# **Exercício 4:**\n",
    "\n",
    "---\n",
    "Faça um programa que calcule a área de um círculo. O usuário deve fornecer o raio do círculo como entrada. Utilize a biblioteca math para obter o valor de π (pi)."
   ]
  },
  {
   "cell_type": "code",
   "execution_count": 12,
   "metadata": {
    "colab": {
     "base_uri": "https://localhost:8080/"
    },
    "id": "P5X-NK9gUmJT",
    "outputId": "f9a9a301-c690-444f-feb2-7aa5a3695429"
   },
   "outputs": [
    {
     "name": "stdin",
     "output_type": "stream",
     "text": [
      "Digite o raio do círculo para saber sua área: 8\n"
     ]
    },
    {
     "name": "stdout",
     "output_type": "stream",
     "text": [
      "Sua área é de: 201.06192982974676\n"
     ]
    }
   ],
   "source": [
    "import math\n",
    "\n",
    "raio = float(input(\"Digite o raio do círculo para saber sua área:\"))\n",
    "\n",
    "circle = math.pi * (raio**2)\n",
    "\n",
    "print(f\"Sua área é de: {circle}\")"
   ]
  },
  {
   "cell_type": "markdown",
   "metadata": {
    "id": "8hhvsHCOUn9T"
   },
   "source": [
    "# **Exercício 5:**\n",
    "\n",
    "---\n",
    "Crie um programa que solicite ao usuário um nome de arquivo e, em seguida, leia o conteúdo desse arquivo e conte quantas palavras diferentes existem no texto. Utilize Counter da biblioteca collections para ajudar na contagem.\n",
    "\n",
    "python\n",
    "C"
   ]
  },
  {
   "cell_type": "code",
   "execution_count": 25,
   "metadata": {
    "id": "01QBl5HWU2xj"
   },
   "outputs": [
    {
     "name": "stdin",
     "output_type": "stream",
     "text": [
      "Digite o nome de um arquivo: arara\n"
     ]
    },
    {
     "name": "stdout",
     "output_type": "stream",
     "text": [
      "Counter({'a': 3, 'r': 2})\n"
     ]
    },
    {
     "name": "stdin",
     "output_type": "stream",
     "text": [
      "Agora digite vários nomes de arquivos: (Digite stop para parar) arara\n",
      "Agora digite vários nomes de arquivos: (Digite stop para parar) arara\n",
      "Agora digite vários nomes de arquivos: (Digite stop para parar) arara\n",
      "Agora digite vários nomes de arquivos: (Digite stop para parar) aranha\n",
      "Agora digite vários nomes de arquivos: (Digite stop para parar) aranha\n",
      "Agora digite vários nomes de arquivos: (Digite stop para parar) arara\n",
      "Agora digite vários nomes de arquivos: (Digite stop para parar) avestruz\n",
      "Agora digite vários nomes de arquivos: (Digite stop para parar) stop\n"
     ]
    },
    {
     "name": "stdout",
     "output_type": "stream",
     "text": [
      "Counter({'arara': 4, 'aranha': 2, 'avestruz': 1})\n"
     ]
    }
   ],
   "source": [
    "from collections import Counter\n",
    "\n",
    "arquivo = []\n",
    "\n",
    "#letras diferentes\n",
    "arquivo = input(\"Digite o nome de um arquivo:\")\n",
    "\n",
    "cnt = Counter()\n",
    "for letra in arquivo:\n",
    "    cnt[letra] += 1\n",
    "print(cnt)\n",
    "\n",
    "arquivo2 = []\n",
    "\n",
    "user_input = '0'\n",
    "\n",
    "#palavras diferentes\n",
    "while user_input != 'stop':\n",
    "    user_input = input(\"Agora digite vários nomes de arquivos: (Digite stop para parar)\")\n",
    "    if user_input == 'stop':\n",
    "        break\n",
    "    arquivo2.append(user_input)\n",
    "\n",
    "cnt = Counter()\n",
    "for palavra in arquivo2:\n",
    "    cnt[palavra] += 1\n",
    "print(cnt)\n",
    "\n"
   ]
  },
  {
   "cell_type": "markdown",
   "metadata": {
    "id": "-xrV_RJ9U_g7"
   },
   "source": [
    "# **Exercício 6:**\n",
    "\n",
    "---\n",
    "Crie um programa que solicite ao usuário uma lista de números separados por vírgula e exiba a média desses números. Utilize a função mean da biblioteca statistics."
   ]
  },
  {
   "cell_type": "code",
   "execution_count": 53,
   "metadata": {
    "id": "0gGOdi8mVFAL"
   },
   "outputs": [
    {
     "name": "stdin",
     "output_type": "stream",
     "text": [
      "Add a list of numbers separating them with a comma 30,30,25,14,85\n"
     ]
    },
    {
     "name": "stdout",
     "output_type": "stream",
     "text": [
      "[30, 30, 25, 14, 85]\n",
      "30\n",
      "36.8\n"
     ]
    }
   ],
   "source": [
    "from statistics import mean\n",
    "\n",
    "numeros = []\n",
    "\n",
    "numeros = [int(x) for x in input(\"Add a list of numbers separating them with a comma\").split(',')]\n",
    "\n",
    "media = mean(numeros)\n",
    "\n",
    "print(numeros)\n",
    "print(numeros[0])\n",
    "print(media)"
   ]
  },
  {
   "cell_type": "markdown",
   "metadata": {
    "id": "CO26JglHXDPs"
   },
   "source": [
    "# **Exercício 7:**\n",
    "\n",
    "---\n",
    "Crie um programa usando a biblioteca tkinter que exiba uma janela com um botão. Quando o botão for clicado, exiba uma mensagem de saudação usando a função messagebox.showinfo().\n"
   ]
  },
  {
   "cell_type": "code",
   "execution_count": null,
   "metadata": {
    "id": "UQTtWO8SVf7S"
   },
   "outputs": [],
   "source": [
    "#from tkinter import *\n",
    "from tkinter import messagebox\n",
    "\n",
    "#root = Tk()\n",
    "#root.geometry(\"300x200\")\n",
    "\n",
    "#w = Label(root, text=\"RandomText\", font=\"50\")\n",
    "#w.pack()\n",
    "\n",
    "messagebox.showinfo(\"showinfo\", \"Information\")\n",
    "  \n",
    "#messagebox.showwarning(\"showwarning\", \"Warning\")\n",
    "  \n",
    "#messagebox.showerror(\"showerror\", \"Error\")\n",
    "  \n",
    "#messagebox.askquestion(\"askquestion\", \"Are you sure?\")\n",
    "  \n",
    "#messagebox.askokcancel(\"askokcancel\", \"Want to continue?\")\n",
    "  \n",
    "#messagebox.askyesno(\"askyesno\", \"Find the value?\")\n",
    "\n",
    "#root.mainloop()\n"
   ]
  },
  {
   "cell_type": "markdown",
   "metadata": {
    "id": "0raBCu6fXafW"
   },
   "source": [
    "# **Exercício 8:**\n",
    "\n",
    "---\n",
    "Crie um programa usando a biblioteca tkinter que exiba uma janela com um rótulo de texto e um campo de entrada. Quando o botão for clicado, obtenha o texto do campo de entrada usando a função .get() e exiba uma mensagem de boas-vindas personalizada usando a função messagebox.showinfo().\n"
   ]
  },
  {
   "cell_type": "code",
   "execution_count": null,
   "metadata": {
    "id": "UgiISJlkXexi"
   },
   "outputs": [],
   "source": []
  },
  {
   "cell_type": "markdown",
   "metadata": {
    "id": "0NytGTyOXjtD"
   },
   "source": [
    "# **Exercício 9:**\n",
    "\n",
    "---\n",
    "Crie um programa usando a biblioteca tkinter que exiba uma janela com uma caixa de seleção e um botão. Quando o botão for clicado, obtenha a opção selecionada da caixa de seleção usando a variável associada e exiba-a em uma caixa de diálogo usando a função messagebox.showinfo()."
   ]
  },
  {
   "cell_type": "code",
   "execution_count": null,
   "metadata": {
    "id": "n7LtC33EXpuy"
   },
   "outputs": [],
   "source": []
  },
  {
   "cell_type": "markdown",
   "metadata": {
    "id": "qoozLEBUZeDa"
   },
   "source": [
    "# **Exercício 10:**\n",
    "\n",
    "---\n",
    "Crie um programa que utilize a biblioteca pandas para ler um arquivo CSV chamado \"dados.csv\". O arquivo contém uma coluna chamada \"idade\". Calcule a média das idades utilizando o método .mean() e exiba o resultado.\n",
    "\n",
    "[Link para a Documentação do Pandas](https://pandas.pydata.org/docs/reference/api/pandas.read_csv.html)\n"
   ]
  },
  {
   "cell_type": "code",
   "execution_count": null,
   "metadata": {
    "id": "56Mo2YGCZjg5"
   },
   "outputs": [],
   "source": []
  },
  {
   "cell_type": "markdown",
   "metadata": {
    "id": "CrGJ4bNpZkl5"
   },
   "source": [
    "# **Exercício 11:**\n",
    "\n",
    "---\n",
    "Crie um programa que utilize as bibliotecas pandas e matplotlib para ler um arquivo CSV chamado \"dados.csv\". O arquivo contém duas colunas: \"nome\" e \"pontuacao\". Exiba um gráfico de barras utilizando o método .bar() do matplotlib.pyplot, passando os nomes como valores no eixo x e as pontuações como valores no eixo y.\n",
    "\n",
    "[Link para a Documentação do Pandas](https://pandas.pydata.org/docs/reference/api/pandas.read_csv.html)\n",
    "\n",
    "[Link para a documentação do matplotlib](https://matplotlib.org/stable/api/_as_gen/matplotlib.pyplot.bar.html)"
   ]
  },
  {
   "cell_type": "code",
   "execution_count": null,
   "metadata": {
    "id": "fX2Psu7AaNBT"
   },
   "outputs": [],
   "source": []
  }
 ],
 "metadata": {
  "colab": {
   "provenance": []
  },
  "kernelspec": {
   "display_name": "Python 3 (ipykernel)",
   "language": "python",
   "name": "python3"
  },
  "language_info": {
   "codemirror_mode": {
    "name": "ipython",
    "version": 3
   },
   "file_extension": ".py",
   "mimetype": "text/x-python",
   "name": "python",
   "nbconvert_exporter": "python",
   "pygments_lexer": "ipython3",
   "version": "3.11.3"
  }
 },
 "nbformat": 4,
 "nbformat_minor": 4
}
