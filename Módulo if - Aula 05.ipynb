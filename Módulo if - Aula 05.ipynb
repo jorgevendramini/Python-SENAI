{
 "cells": [
  {
   "cell_type": "markdown",
   "metadata": {},
   "source": [
    "# Casos com várias condições/comparações\n",
    "\n",
    "### Estrutura:\n",
    "\n",
    "Quando temos várias comparações, ao invés de criar if dentro de if podemos usar os operadores \"and\" e \"or\" para tratar essas condições.\n",
    "\n",
    "Funciona assim:"
   ]
  },
  {
   "cell_type": "raw",
   "metadata": {},
   "source": [
    "if condicao_1 and condicao_2:\n",
    "    vai ser executado se as 2 condições forem verdadeiras ao mesmo tempo\n",
    "\n",
    "outro caso:\n",
    "\n",
    "if condicao_1 or condicao_2:\n",
    "    vai ser executado se pelo menos uma das condições forem verdadeiras"
   ]
  },
  {
   "cell_type": "markdown",
   "metadata": {},
   "source": [
    "### Exemplo\n",
    "\n",
    "Vamos voltar ao exemplo de cálculo de meta de vendas dos funcionários. Muitas empresas atribuem bonificação do salário dos funcionários de acordo com o resultado do funcionário e também com o resultado da empresa como um todo.\n",
    "\n",
    "Nesse caso, a regra funciona da seguinte forma:\n",
    "- Se o funcionário vendeu mais do que a meta de vendas e a loja bateu a meta de vendas da loja, o funcionário ganha 3% do que ele vendeu em forma de bônus.\n",
    "- Caso o funcionário tenha batido a meta de vendas individual dele, mas a loja não tenha batido a meta de vendas da loja como um todo, o funcionário não ganha bônus."
   ]
  },
  {
   "cell_type": "code",
   "execution_count": 2,
   "metadata": {},
   "outputs": [
    {
     "name": "stdout",
     "output_type": "stream",
     "text": [
      "Insira quanto atingiu na sua meta:22000\n",
      "Insira quanto atingiu a meta da loja:35000\n",
      "Parabéns, você atintiu a meta, ganhou 3% como bonus do valor que vendeu\n"
     ]
    }
   ],
   "source": [
    "personalMeta = float(input('Insira quanto atingiu na sua meta:'))\n",
    "loja = float(input('Insira quanto atingiu a meta da loja:'))\n",
    "meta = 20000\n",
    "metaLoja = 25000\n",
    "metaDouble = meta * 2\n",
    "\n",
    "if personalMeta < meta:\n",
    "    print(\"Você não atingiu a meta, no bonus for you muahaha\")\n",
    "elif personalMeta > metaDouble:\n",
    "    print(\"Parabéns, você atintiu além do dobro da meta, ganhou 7% como bonus do valor que vendeu\")\n",
    "elif personalMeta > meta and loja > metaLoja:\n",
    "    print(\"Parabéns, você atintiu a meta, ganhou 3% como bonus do valor que vendeu\")"
   ]
  },
  {
   "cell_type": "markdown",
   "metadata": {},
   "source": [
    "### Outro exemplo\n",
    "\n",
    "Agora vamos levar essa análise mais a fundo.\n",
    "\n",
    "Nessa empresa, existe um outro caso também que garante que o funcionário ganhe um bônus, independente das vendas que ele fez naquele mês.\n",
    "\n",
    "Todo mês os diretores da empresa fazem uma avaliação qualitativa de todos os funcionários. Nessa avaliação os diretores dão uma nota de 0 a 10 para cada funcionário. Se a nota do funcionário for 9 ou 10, ele também ganha o bônus de 3% do valor de vendas. (os bônus não são cumulativos)"
   ]
  },
  {
   "cell_type": "code",
   "execution_count": 6,
   "metadata": {},
   "outputs": [
    {
     "name": "stdout",
     "output_type": "stream",
     "text": [
      "Insira quanto atingiu na sua meta:20000\n",
      "Insira quanto atingiu a meta da loja:29000\n",
      "Insira quanto ficou sua nota da loja:9\n",
      "Parabéns, você atintiu a meta, ganhou 3% como bonus do valor que vendeu\n"
     ]
    }
   ],
   "source": [
    "personalMeta = float(input('Insira quanto atingiu na sua meta:'))\n",
    "loja = float(input('Insira quanto atingiu a meta da loja:'))\n",
    "nota = float(input('Insira quanto ficou sua nota da loja:'))\n",
    "meta = 20000\n",
    "metaLoja = 25000\n",
    "metaDouble = meta * 2\n",
    "\n",
    "if personalMeta < meta:\n",
    "    print(\"Você não atingiu a meta, no bonus for you muahaha\")\n",
    "elif personalMeta > metaDouble and loja > metaLoja:\n",
    "    print(\"Parabéns, você atintiu além do dobro da meta, ganhou 7% como bonus do valor que vendeu\")\n",
    "elif personalMeta >= meta and loja > metaLoja and nota >= 9:\n",
    "    print(\"Parabéns, você atintiu a meta, ganhou 3% como bonus do valor que vendeu\")"
   ]
  }
 ],
 "metadata": {
  "kernelspec": {
   "display_name": "Python 3 (ipykernel)",
   "language": "python",
   "name": "python3"
  },
  "language_info": {
   "codemirror_mode": {
    "name": "ipython",
    "version": 3
   },
   "file_extension": ".py",
   "mimetype": "text/x-python",
   "name": "python",
   "nbconvert_exporter": "python",
   "pygments_lexer": "ipython3",
   "version": "3.11.3"
  }
 },
 "nbformat": 4,
 "nbformat_minor": 4
}
